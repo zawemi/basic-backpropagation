{
 "cells": [
  {
   "cell_type": "code",
   "execution_count": 354,
   "id": "a2007471",
   "metadata": {},
   "outputs": [],
   "source": [
    "import math\n",
    "import numpy as np\n",
    "import matplotlib.pyplot as plt\n",
    "%matplotlib inline"
   ]
  },
  {
   "cell_type": "code",
   "execution_count": 355,
   "id": "8ce8a51d",
   "metadata": {},
   "outputs": [],
   "source": [
    "def f(x):\n",
    "    return 3*x**2 - 4*x + 5"
   ]
  },
  {
   "cell_type": "code",
   "execution_count": 356,
   "id": "13dbfe63",
   "metadata": {},
   "outputs": [
    {
     "data": {
      "text/plain": [
       "9.0"
      ]
     },
     "execution_count": 356,
     "metadata": {},
     "output_type": "execute_result"
    }
   ],
   "source": [
    "f(2.0)"
   ]
  },
  {
   "cell_type": "code",
   "execution_count": 357,
   "id": "4ba04975",
   "metadata": {},
   "outputs": [
    {
     "data": {
      "text/plain": [
       "[<matplotlib.lines.Line2D at 0x1118e56d0>]"
      ]
     },
     "execution_count": 357,
     "metadata": {},
     "output_type": "execute_result"
    },
    {
     "data": {
      "image/png": "[encoded data removed]",
      "text/plain": [
       "<Figure size 432x288 with 1 Axes>"
      ]
     },
     "metadata": {
      "needs_background": "light"
     },
     "output_type": "display_data"
    }
   ],
   "source": [
    "xs = np.arange(-5,5,0.25)\n",
    "ys = f(xs)\n",
    "plt.plot(xs, ys)"
   ]
  },
  {
   "cell_type": "code",
   "execution_count": 358,
   "id": "1d464940",
   "metadata": {},
   "outputs": [
    {
     "data": {
      "text/plain": [
       "20.0"
      ]
     },
     "execution_count": 358,
     "metadata": {},
     "output_type": "execute_result"
    }
   ],
   "source": [
    "h = 0.001\n",
    "x = 3.0\n",
    "f(x)"
   ]
  },
  {
   "cell_type": "code",
   "execution_count": 359,
   "id": "45d1a98a",
   "metadata": {},
   "outputs": [
    {
     "data": {
      "text/plain": [
       "20.014003000000002"
      ]
     },
     "execution_count": 359,
     "metadata": {},
     "output_type": "execute_result"
    }
   ],
   "source": [
    "f(x+h)"
   ]
  },
  {
   "cell_type": "code",
   "execution_count": 360,
   "id": "d6c7f2e6",
   "metadata": {},
   "outputs": [
    {
     "data": {
      "text/plain": [
       "14.00300000000243"
      ]
     },
     "execution_count": 360,
     "metadata": {},
     "output_type": "execute_result"
    }
   ],
   "source": [
    "(f(x+h)-f(x))/h"
   ]
  },
  {
   "cell_type": "code",
   "execution_count": 361,
   "id": "be3723b9",
   "metadata": {},
   "outputs": [
    {
     "name": "stdout",
     "output_type": "stream",
     "text": [
      "4.0\n"
     ]
    }
   ],
   "source": [
    "a = 2.0\n",
    "b = -3.0\n",
    "c = 10.0\n",
    "\n",
    "d = a*b+c\n",
    "print(d)"
   ]
  },
  {
   "cell_type": "code",
   "execution_count": 362,
   "id": "7cca2d2f",
   "metadata": {},
   "outputs": [
    {
     "name": "stdout",
     "output_type": "stream",
     "text": [
      "d1 4.0\n",
      "d2 3.999699999999999\n",
      "slope -3.000000000010772\n"
     ]
    }
   ],
   "source": [
    "h = 0.0001\n",
    "\n",
    "a = 2.0\n",
    "b = -3.0\n",
    "c = 10.0\n",
    "\n",
    "d1 = a*b+c\n",
    "d2 = (a+h)*b+c\n",
    "\n",
    "print('d1', d1)\n",
    "print('d2', d2)\n",
    "print('slope', (d2-d1)/h)"
   ]
  },
  {
   "cell_type": "code",
   "execution_count": 583,
   "id": "42b7eb06",
   "metadata": {},
   "outputs": [],
   "source": [
    "class Value:\n",
    "    def __init__(self, data, _children=(), _op='', label=''):\n",
    "        self.data = data\n",
    "        self.grad = 0.0\n",
    "        self._backward = lambda: None\n",
    "        self._prev = _children\n",
    "        self._op = _op\n",
    "        self.label = label\n",
    "        \n",
    "    def __repr__(self):\n",
    "        return f\"Value(data={self.data})\"\n",
    "    \n",
    "    def __add__(self, other):\n",
    "        out = Value(self.data + other.data, (self, other), '+')\n",
    "        \n",
    "        def _backward():\n",
    "            self.grad += 1.0 * out.grad\n",
    "            other.grad += 1.0 * out.grad\n",
    "            \n",
    "        out._backward = _backward\n",
    "        return out\n",
    "    \n",
    "    def __mul__(self, other):\n",
    "        out = Value(self.data * other.data, (self, other), '*')\n",
    "        \n",
    "        def _backward():\n",
    "            self.grad += other.data * out.grad\n",
    "            other.grad += self.data * out.grad\n",
    "            \n",
    "        out._backward = _backward  \n",
    "        return out\n",
    "    \n",
    "    def tanh(self):\n",
    "        x = self.data\n",
    "        t = (math.exp(2*x)-1)/(math.exp(2*x)+1)\n",
    "        out = Value(t, (self,), _op='tanh')\n",
    "        \n",
    "        def _backward():\n",
    "            self.grad += (1-(t**2)) * out.grad\n",
    "            \n",
    "        out._backward = _backward\n",
    "        return out\n",
    "    \n",
    "    def backward(self):\n",
    "        \n",
    "\n",
    "        topo = []\n",
    "        visited = set()\n",
    "\n",
    "        def build_topo(v):\n",
    "            if v not in visited:\n",
    "                visited.add(v)\n",
    "                for child in v._prev:\n",
    "                    build_topo(child)\n",
    "                topo.append(v)\n",
    "\n",
    "        build_topo(self)\n",
    "        \n",
    "        self.grad = 1.0\n",
    "\n",
    "        for node in reversed(topo):\n",
    "            node._backward()"
   ]
  },
  {
   "cell_type": "code",
   "execution_count": 501,
   "id": "1bfd38eb",
   "metadata": {},
   "outputs": [
    {
     "data": {
      "text/plain": [
       "Value(data=3.0)"
      ]
     },
     "execution_count": 501,
     "metadata": {},
     "output_type": "execute_result"
    }
   ],
   "source": [
    "a = Value(3.0, label='a')\n",
    "a"
   ]
  },
  {
   "cell_type": "code",
   "execution_count": 502,
   "id": "8ec8121f",
   "metadata": {},
   "outputs": [
    {
     "data": {
      "text/plain": [
       "Value(data=-2.0)"
      ]
     },
     "execution_count": 502,
     "metadata": {},
     "output_type": "execute_result"
    }
   ],
   "source": [
    "b = Value(-2.0, label='b')\n",
    "b"
   ]
  },
  {
   "cell_type": "code",
   "execution_count": 503,
   "id": "60f234e5",
   "metadata": {},
   "outputs": [
    {
     "data": {
      "text/plain": [
       "Value(data=1.0)"
      ]
     },
     "execution_count": 503,
     "metadata": {},
     "output_type": "execute_result"
    }
   ],
   "source": [
    "a+b"
   ]
  },
  {
   "cell_type": "code",
   "execution_count": 504,
   "id": "96d85a66",
   "metadata": {},
   "outputs": [],
   "source": [
    "c = Value(10.0, label='c')"
   ]
  },
  {
   "cell_type": "code",
   "execution_count": 505,
   "id": "e830afe6",
   "metadata": {},
   "outputs": [],
   "source": [
    "d = a*b; d.label='d'"
   ]
  },
  {
   "cell_type": "code",
   "execution_count": 506,
   "id": "6ae85e16",
   "metadata": {},
   "outputs": [
    {
     "data": {
      "text/plain": [
       "Value(data=-6.0)"
      ]
     },
     "execution_count": 506,
     "metadata": {},
     "output_type": "execute_result"
    }
   ],
   "source": [
    "d"
   ]
  },
  {
   "cell_type": "code",
   "execution_count": 507,
   "id": "fb0997b1",
   "metadata": {},
   "outputs": [
    {
     "data": {
      "text/plain": [
       "(Value(data=3.0), Value(data=-2.0))"
      ]
     },
     "execution_count": 507,
     "metadata": {},
     "output_type": "execute_result"
    }
   ],
   "source": [
    "d._prev"
   ]
  },
  {
   "cell_type": "code",
   "execution_count": 508,
   "id": "0bcd9fea",
   "metadata": {},
   "outputs": [],
   "source": [
    "e = d+c; e.label='e' "
   ]
  },
  {
   "cell_type": "code",
   "execution_count": 509,
   "id": "f21d5e88",
   "metadata": {},
   "outputs": [
    {
     "data": {
      "text/plain": [
       "Value(data=4.0)"
      ]
     },
     "execution_count": 509,
     "metadata": {},
     "output_type": "execute_result"
    }
   ],
   "source": [
    "e"
   ]
  },
  {
   "cell_type": "code",
   "execution_count": 510,
   "id": "f9c90e42",
   "metadata": {},
   "outputs": [],
   "source": [
    "f = Value(2.0, label='f')"
   ]
  },
  {
   "cell_type": "code",
   "execution_count": 511,
   "id": "d3b4afc4",
   "metadata": {},
   "outputs": [
    {
     "data": {
      "text/plain": [
       "Value(data=2.0)"
      ]
     },
     "execution_count": 511,
     "metadata": {},
     "output_type": "execute_result"
    }
   ],
   "source": [
    "f"
   ]
  },
  {
   "cell_type": "code",
   "execution_count": 512,
   "id": "d0ccd122",
   "metadata": {},
   "outputs": [
    {
     "data": {
      "text/plain": [
       "Value(data=8.0)"
      ]
     },
     "execution_count": 512,
     "metadata": {},
     "output_type": "execute_result"
    }
   ],
   "source": [
    "L = e*f; L.label='L'\n",
    "L"
   ]
  },
  {
   "cell_type": "code",
   "execution_count": 513,
   "id": "4d5ea01b",
   "metadata": {},
   "outputs": [
    {
     "name": "stdout",
     "output_type": "stream",
     "text": [
      "Label: L, Value: 8.0, Children: 1) e=4.0, 2) f=2.0, Operator: *\n",
      "Label: e, Value: 4.0, Children: 1) d=-6.0, 2) c=10.0, Operator: +\n",
      "Label: f, Value: 2.0\n"
     ]
    }
   ],
   "source": [
    "def print_leaf(v):\n",
    "    print(f'Label: {v.label}, Value: {v.data}')\n",
    "\n",
    "def print_node(v):\n",
    "    print(f'Label: {v.label}, Value: {v.data}, Children: 1) {v._prev[0].label}={v._prev[0].data}, 2) {v._prev[1].label}={v._prev[1].data}, Operator: {v._op}')\n",
    "         \n",
    "\n",
    "\n",
    "print(f'Label: {L.label}, Value: {L.data}, Children: 1) {L._prev[0].label}={L._prev[0].data}, 2) {L._prev[1].label}={L._prev[1].data}, Operator: {L._op}')\n",
    "\n",
    "if len(L._prev)>0:\n",
    "    for child in L._prev:\n",
    "        if child._op == '':\n",
    "            print_leaf(child)\n",
    "        else:\n",
    "            print_node(child)"
   ]
  },
  {
   "cell_type": "code",
   "execution_count": 514,
   "id": "16e956ee",
   "metadata": {},
   "outputs": [],
   "source": [
    "def draw_tree(v, lvl=0):\n",
    "    sp = lvl * '    '\n",
    "    if v._op != '':\n",
    "        print(f'{sp}--> ({lvl}) | {v.label} | data={v.data} | grad={v.grad} [{v._op}]')\n",
    "        \n",
    "        for child in v._prev:\n",
    "            draw_tree(child, lvl=lvl+1)\n",
    "    else:\n",
    "        print(f'{sp}--> ({lvl}) | {v.label} | data={v.data} | grad={v.grad} [leaf]')"
   ]
  },
  {
   "cell_type": "code",
   "execution_count": 515,
   "id": "9236f0f9",
   "metadata": {},
   "outputs": [
    {
     "name": "stdout",
     "output_type": "stream",
     "text": [
      "--> (0) | L | data=8.0 | grad=0.0 [*]\n",
      "    --> (1) | e | data=4.0 | grad=0.0 [+]\n",
      "        --> (2) | d | data=-6.0 | grad=0.0 [*]\n",
      "            --> (3) | a | data=3.0 | grad=0.0 [leaf]\n",
      "            --> (3) | b | data=-2.0 | grad=0.0 [leaf]\n",
      "        --> (2) | c | data=10.0 | grad=0.0 [leaf]\n",
      "    --> (1) | f | data=2.0 | grad=0.0 [leaf]\n"
     ]
    }
   ],
   "source": [
    "draw_tree(L)"
   ]
  },
  {
   "cell_type": "code",
   "execution_count": 516,
   "id": "b648bd3d",
   "metadata": {},
   "outputs": [],
   "source": [
    "#dL/df = (e*(f+h) - e*f)/h\n",
    "#dL/df = (e*f + e*h - e*f)/h\n",
    "#dL/df = (e*h)/h\n",
    "#dL/df = e"
   ]
  },
  {
   "cell_type": "code",
   "execution_count": 517,
   "id": "0823bc27",
   "metadata": {},
   "outputs": [],
   "source": [
    "L.grad = 1.0\n",
    "f.grad = 4.0\n",
    "e.grad = 2.0"
   ]
  },
  {
   "cell_type": "code",
   "execution_count": 518,
   "id": "b063e97d",
   "metadata": {},
   "outputs": [],
   "source": [
    "#dL/dc --> chain rule\n",
    "\n",
    "#de/dc --> e = d+c\n",
    "#de/dc = ((d+c+h) - (d+c))/h\n",
    "#de/dc = (d+c+h-d-c)/h\n",
    "#de/dc = h/h\n",
    "#de/dc = 1\n",
    "\n",
    "#dL/dc = dL/de * de/dc\n",
    "#dL/dc = 2.0 * 1.0"
   ]
  },
  {
   "cell_type": "code",
   "execution_count": 519,
   "id": "0a9b09e7",
   "metadata": {},
   "outputs": [],
   "source": [
    "c.grad = 2.0"
   ]
  },
  {
   "cell_type": "code",
   "execution_count": 520,
   "id": "baabc794",
   "metadata": {},
   "outputs": [],
   "source": [
    "d.grad = 2.0"
   ]
  },
  {
   "cell_type": "code",
   "execution_count": 521,
   "id": "358c1c0d",
   "metadata": {},
   "outputs": [
    {
     "name": "stdout",
     "output_type": "stream",
     "text": [
      "--> (0) | L | data=8.0 | grad=1.0 [*]\n",
      "    --> (1) | e | data=4.0 | grad=2.0 [+]\n",
      "        --> (2) | d | data=-6.0 | grad=2.0 [*]\n",
      "            --> (3) | a | data=3.0 | grad=0.0 [leaf]\n",
      "            --> (3) | b | data=-2.0 | grad=0.0 [leaf]\n",
      "        --> (2) | c | data=10.0 | grad=2.0 [leaf]\n",
      "    --> (1) | f | data=2.0 | grad=4.0 [leaf]\n"
     ]
    }
   ],
   "source": [
    "draw_tree(L)"
   ]
  },
  {
   "cell_type": "code",
   "execution_count": 522,
   "id": "c47b5a5a",
   "metadata": {},
   "outputs": [],
   "source": [
    "#print(e._prev[1] is c)"
   ]
  },
  {
   "cell_type": "code",
   "execution_count": 523,
   "id": "ba22f8d6",
   "metadata": {},
   "outputs": [],
   "source": [
    "#dL/da --> chain rule\n",
    "#dL/da = dL/dd * dd/da\n",
    "#dd/da = (((a+h)*b)-(a*b))/h\n",
    "#dd/da = (a*b + h*b - a*b)/h\n",
    "#dd/da = (h*b)/h\n",
    "#dd/da = b\n",
    "\n",
    "#dL/da = b * 2.0"
   ]
  },
  {
   "cell_type": "code",
   "execution_count": 524,
   "id": "fd3123e2",
   "metadata": {},
   "outputs": [],
   "source": [
    "a.grad = -4.0"
   ]
  },
  {
   "cell_type": "code",
   "execution_count": 525,
   "id": "d75188c2",
   "metadata": {},
   "outputs": [],
   "source": [
    "b.grad = 6.0"
   ]
  },
  {
   "cell_type": "code",
   "execution_count": 526,
   "id": "b643b449",
   "metadata": {},
   "outputs": [
    {
     "name": "stdout",
     "output_type": "stream",
     "text": [
      "--> (0) | L | data=8.0 | grad=1.0 [*]\n",
      "    --> (1) | e | data=4.0 | grad=2.0 [+]\n",
      "        --> (2) | d | data=-6.0 | grad=2.0 [*]\n",
      "            --> (3) | a | data=3.0 | grad=-4.0 [leaf]\n",
      "            --> (3) | b | data=-2.0 | grad=6.0 [leaf]\n",
      "        --> (2) | c | data=10.0 | grad=2.0 [leaf]\n",
      "    --> (1) | f | data=2.0 | grad=4.0 [leaf]\n"
     ]
    }
   ],
   "source": [
    "draw_tree(L)"
   ]
  },
  {
   "cell_type": "code",
   "execution_count": 527,
   "id": "593c6433",
   "metadata": {},
   "outputs": [],
   "source": [
    "#Let's go up with L"
   ]
  },
  {
   "cell_type": "code",
   "execution_count": 528,
   "id": "ed8248ca",
   "metadata": {},
   "outputs": [
    {
     "data": {
      "text/plain": [
       "Value(data=8.0)"
      ]
     },
     "execution_count": 528,
     "metadata": {},
     "output_type": "execute_result"
    }
   ],
   "source": [
    "L"
   ]
  },
  {
   "cell_type": "code",
   "execution_count": 529,
   "id": "67c53a58",
   "metadata": {},
   "outputs": [
    {
     "data": {
      "text/plain": [
       "Value(data=8.726303999999999)"
      ]
     },
     "execution_count": 529,
     "metadata": {},
     "output_type": "execute_result"
    }
   ],
   "source": [
    "a.data += 0.01 * a.grad\n",
    "b.data += 0.01 * b.grad\n",
    "c.data += 0.01 * c.grad\n",
    "f.data += 0.01 * f.grad\n",
    "\n",
    "d = a*b\n",
    "e = d+c\n",
    "L = e*f\n",
    "L"
   ]
  },
  {
   "cell_type": "code",
   "execution_count": 530,
   "id": "5ef34bf9",
   "metadata": {},
   "outputs": [],
   "source": [
    "#Neuron"
   ]
  },
  {
   "cell_type": "code",
   "execution_count": 531,
   "id": "914d15bb",
   "metadata": {},
   "outputs": [
    {
     "data": {
      "image/png": "[encoded data removed]",
      "text/plain": [
       "<Figure size 432x288 with 1 Axes>"
      ]
     },
     "metadata": {
      "needs_background": "light"
     },
     "output_type": "display_data"
    }
   ],
   "source": [
    "plt.plot(np.arange(-5,5,0.2), np.tanh(np.arange(-5,5,0.2))); plt.grid();"
   ]
  },
  {
   "cell_type": "code",
   "execution_count": 551,
   "id": "ca59ce64",
   "metadata": {},
   "outputs": [],
   "source": [
    "#neuron\n",
    "#data (inputs)\n",
    "x1 = Value(2.0, label='x1')\n",
    "x2 = Value(0.0, label='x2')\n",
    "\n",
    "#weights\n",
    "w1 = Value(-3.0, label='w1')\n",
    "w2 = Value(1.0, label='w2')\n",
    "#bias\n",
    "b = Value(6.8813735870195432, label='b')\n",
    "\n",
    "#inner values\n",
    "x1w1 = x1*w1; x1w1.label='x1w1'\n",
    "x2w2 = x2*w2; x2w2.label='x2w2'\n",
    "\n",
    "x1w1x2w2 = x1w1 + x2w2; x1w1x2w2.label='x1w1 + x2w2'\n",
    "\n",
    "#neuron raw value (without activation function)\n",
    "n = x1w1x2w2 + b; n.label='n'\n",
    "\n",
    "#activation function tanh\n",
    "o = n.tanh(); o.label = 'o'"
   ]
  },
  {
   "cell_type": "code",
   "execution_count": 552,
   "id": "73071273",
   "metadata": {},
   "outputs": [
    {
     "name": "stdout",
     "output_type": "stream",
     "text": [
      "--> (0) | n | data=0.8813735870195432 | grad=0.0 [+]\n",
      "    --> (1) | x1w1 + x2w2 | data=-6.0 | grad=0.0 [+]\n",
      "        --> (2) | x1w1 | data=-6.0 | grad=0.0 [*]\n",
      "            --> (3) | x1 | data=2.0 | grad=0.0 [leaf]\n",
      "            --> (3) | w1 | data=-3.0 | grad=0.0 [leaf]\n",
      "        --> (2) | x2w2 | data=0.0 | grad=0.0 [*]\n",
      "            --> (3) | x2 | data=0.0 | grad=0.0 [leaf]\n",
      "            --> (3) | w2 | data=1.0 | grad=0.0 [leaf]\n",
      "    --> (1) | b | data=6.881373587019543 | grad=0.0 [leaf]\n"
     ]
    }
   ],
   "source": [
    "draw_tree(n)"
   ]
  },
  {
   "cell_type": "code",
   "execution_count": 553,
   "id": "00f0b4dc",
   "metadata": {},
   "outputs": [
    {
     "name": "stdout",
     "output_type": "stream",
     "text": [
      "--> (0) | o | data=0.7071067811865476 | grad=0.0 [tanh]\n",
      "    --> (1) | n | data=0.8813735870195432 | grad=0.0 [+]\n",
      "        --> (2) | x1w1 + x2w2 | data=-6.0 | grad=0.0 [+]\n",
      "            --> (3) | x1w1 | data=-6.0 | grad=0.0 [*]\n",
      "                --> (4) | x1 | data=2.0 | grad=0.0 [leaf]\n",
      "                --> (4) | w1 | data=-3.0 | grad=0.0 [leaf]\n",
      "            --> (3) | x2w2 | data=0.0 | grad=0.0 [*]\n",
      "                --> (4) | x2 | data=0.0 | grad=0.0 [leaf]\n",
      "                --> (4) | w2 | data=1.0 | grad=0.0 [leaf]\n",
      "        --> (2) | b | data=6.881373587019543 | grad=0.0 [leaf]\n"
     ]
    }
   ],
   "source": [
    "draw_tree(o)"
   ]
  },
  {
   "cell_type": "code",
   "execution_count": 535,
   "id": "9ec87075",
   "metadata": {},
   "outputs": [],
   "source": [
    "o.grad = 1.0"
   ]
  },
  {
   "cell_type": "code",
   "execution_count": 536,
   "id": "327022f8",
   "metadata": {},
   "outputs": [],
   "source": [
    "#o=tanh(n)\n",
    "#do/dn = 1-(tanh(n))^2\n",
    "#do/dn = 1-o**2\n",
    "#do/dn = 1 - "
   ]
  },
  {
   "cell_type": "code",
   "execution_count": 537,
   "id": "eb2187d5",
   "metadata": {},
   "outputs": [
    {
     "data": {
      "text/plain": [
       "0.4999999999999999"
      ]
     },
     "execution_count": 537,
     "metadata": {},
     "output_type": "execute_result"
    }
   ],
   "source": [
    "1 - o.data**2"
   ]
  },
  {
   "cell_type": "code",
   "execution_count": 538,
   "id": "2e5a855d",
   "metadata": {},
   "outputs": [],
   "source": [
    "n.grad = 0.5"
   ]
  },
  {
   "cell_type": "code",
   "execution_count": 539,
   "id": "76d6a225",
   "metadata": {},
   "outputs": [],
   "source": [
    "b.grad = 0.5"
   ]
  },
  {
   "cell_type": "code",
   "execution_count": 540,
   "id": "0ac42a85",
   "metadata": {},
   "outputs": [],
   "source": [
    "x1w1x2w2.grad = 0.5"
   ]
  },
  {
   "cell_type": "code",
   "execution_count": 541,
   "id": "782c61ac",
   "metadata": {},
   "outputs": [],
   "source": [
    "x1w1.grad = 0.5"
   ]
  },
  {
   "cell_type": "code",
   "execution_count": 542,
   "id": "598bc3d8",
   "metadata": {},
   "outputs": [],
   "source": [
    "x2w2.grad = 0.5"
   ]
  },
  {
   "cell_type": "code",
   "execution_count": 543,
   "id": "36c673aa",
   "metadata": {},
   "outputs": [],
   "source": [
    "x2.grad = w2.data * x2w2.grad\n",
    "w2.grad = x2.data * x2w2.grad"
   ]
  },
  {
   "cell_type": "code",
   "execution_count": 544,
   "id": "c204c6c4",
   "metadata": {},
   "outputs": [],
   "source": [
    "x1.grad = w1.data * x1w1.grad\n",
    "w1.grad = x1.data * x1w1.grad"
   ]
  },
  {
   "cell_type": "code",
   "execution_count": 545,
   "id": "07923ffd",
   "metadata": {},
   "outputs": [
    {
     "name": "stdout",
     "output_type": "stream",
     "text": [
      "--> (0) | o | data=0.7071067811865476 | grad=1.0 [tanh]\n",
      "    --> (1) | n | data=0.8813735870195432 | grad=0.5 [+]\n",
      "        --> (2) | x1w1 + x2w2 | data=-6.0 | grad=0.5 [+]\n",
      "            --> (3) | x1w1 | data=-6.0 | grad=0.5 [*]\n",
      "                --> (4) | x1 | data=2.0 | grad=-1.5 [leaf]\n",
      "                --> (4) | w1 | data=-3.0 | grad=1.0 [leaf]\n",
      "            --> (3) | x2w2 | data=0.0 | grad=0.5 [*]\n",
      "                --> (4) | x2 | data=0.0 | grad=0.5 [leaf]\n",
      "                --> (4) | w2 | data=1.0 | grad=0.0 [leaf]\n",
      "        --> (2) | b | data=6.881373587019543 | grad=0.5 [leaf]\n"
     ]
    }
   ],
   "source": [
    "draw_tree(o)"
   ]
  },
  {
   "cell_type": "code",
   "execution_count": 546,
   "id": "279db2f2",
   "metadata": {},
   "outputs": [],
   "source": [
    "# By _backward"
   ]
  },
  {
   "cell_type": "code",
   "execution_count": 554,
   "id": "fe5e19a7",
   "metadata": {},
   "outputs": [],
   "source": [
    "o.grad = 1.0"
   ]
  },
  {
   "cell_type": "code",
   "execution_count": 555,
   "id": "5fd8b606",
   "metadata": {},
   "outputs": [
    {
     "data": {
      "text/plain": [
       "<function __main__.Value.tanh.<locals>._backward()>"
      ]
     },
     "execution_count": 555,
     "metadata": {},
     "output_type": "execute_result"
    }
   ],
   "source": [
    "o._backward"
   ]
  },
  {
   "cell_type": "code",
   "execution_count": 556,
   "id": "47243265",
   "metadata": {},
   "outputs": [],
   "source": [
    "o._backward()"
   ]
  },
  {
   "cell_type": "code",
   "execution_count": 557,
   "id": "3c70ab90",
   "metadata": {},
   "outputs": [
    {
     "name": "stdout",
     "output_type": "stream",
     "text": [
      "--> (0) | o | data=0.7071067811865476 | grad=1.0 [tanh]\n",
      "    --> (1) | n | data=0.8813735870195432 | grad=0.4999999999999999 [+]\n",
      "        --> (2) | x1w1 + x2w2 | data=-6.0 | grad=0.0 [+]\n",
      "            --> (3) | x1w1 | data=-6.0 | grad=0.0 [*]\n",
      "                --> (4) | x1 | data=2.0 | grad=0.0 [leaf]\n",
      "                --> (4) | w1 | data=-3.0 | grad=0.0 [leaf]\n",
      "            --> (3) | x2w2 | data=0.0 | grad=0.0 [*]\n",
      "                --> (4) | x2 | data=0.0 | grad=0.0 [leaf]\n",
      "                --> (4) | w2 | data=1.0 | grad=0.0 [leaf]\n",
      "        --> (2) | b | data=6.881373587019543 | grad=0.0 [leaf]\n"
     ]
    }
   ],
   "source": [
    "draw_tree(o)"
   ]
  },
  {
   "cell_type": "code",
   "execution_count": 558,
   "id": "fe3741bb",
   "metadata": {},
   "outputs": [],
   "source": [
    "n._backward()"
   ]
  },
  {
   "cell_type": "code",
   "execution_count": 559,
   "id": "6ca6bc52",
   "metadata": {},
   "outputs": [
    {
     "name": "stdout",
     "output_type": "stream",
     "text": [
      "--> (0) | o | data=0.7071067811865476 | grad=1.0 [tanh]\n",
      "    --> (1) | n | data=0.8813735870195432 | grad=0.4999999999999999 [+]\n",
      "        --> (2) | x1w1 + x2w2 | data=-6.0 | grad=0.4999999999999999 [+]\n",
      "            --> (3) | x1w1 | data=-6.0 | grad=0.0 [*]\n",
      "                --> (4) | x1 | data=2.0 | grad=0.0 [leaf]\n",
      "                --> (4) | w1 | data=-3.0 | grad=0.0 [leaf]\n",
      "            --> (3) | x2w2 | data=0.0 | grad=0.0 [*]\n",
      "                --> (4) | x2 | data=0.0 | grad=0.0 [leaf]\n",
      "                --> (4) | w2 | data=1.0 | grad=0.0 [leaf]\n",
      "        --> (2) | b | data=6.881373587019543 | grad=0.4999999999999999 [leaf]\n"
     ]
    }
   ],
   "source": [
    "draw_tree(o)"
   ]
  },
  {
   "cell_type": "code",
   "execution_count": 560,
   "id": "22716002",
   "metadata": {},
   "outputs": [],
   "source": [
    "x1w1x2w2._backward()"
   ]
  },
  {
   "cell_type": "code",
   "execution_count": 561,
   "id": "3cd9d6cf",
   "metadata": {},
   "outputs": [
    {
     "name": "stdout",
     "output_type": "stream",
     "text": [
      "--> (0) | o | data=0.7071067811865476 | grad=1.0 [tanh]\n",
      "    --> (1) | n | data=0.8813735870195432 | grad=0.4999999999999999 [+]\n",
      "        --> (2) | x1w1 + x2w2 | data=-6.0 | grad=0.4999999999999999 [+]\n",
      "            --> (3) | x1w1 | data=-6.0 | grad=0.4999999999999999 [*]\n",
      "                --> (4) | x1 | data=2.0 | grad=0.0 [leaf]\n",
      "                --> (4) | w1 | data=-3.0 | grad=0.0 [leaf]\n",
      "            --> (3) | x2w2 | data=0.0 | grad=0.4999999999999999 [*]\n",
      "                --> (4) | x2 | data=0.0 | grad=0.0 [leaf]\n",
      "                --> (4) | w2 | data=1.0 | grad=0.0 [leaf]\n",
      "        --> (2) | b | data=6.881373587019543 | grad=0.4999999999999999 [leaf]\n"
     ]
    }
   ],
   "source": [
    "draw_tree(o)"
   ]
  },
  {
   "cell_type": "code",
   "execution_count": 562,
   "id": "e21dffa2",
   "metadata": {},
   "outputs": [],
   "source": [
    "x1w1._backward()"
   ]
  },
  {
   "cell_type": "code",
   "execution_count": 563,
   "id": "11c99419",
   "metadata": {},
   "outputs": [],
   "source": [
    "x2w2._backward()"
   ]
  },
  {
   "cell_type": "code",
   "execution_count": 564,
   "id": "61f58507",
   "metadata": {},
   "outputs": [
    {
     "name": "stdout",
     "output_type": "stream",
     "text": [
      "--> (0) | o | data=0.7071067811865476 | grad=1.0 [tanh]\n",
      "    --> (1) | n | data=0.8813735870195432 | grad=0.4999999999999999 [+]\n",
      "        --> (2) | x1w1 + x2w2 | data=-6.0 | grad=0.4999999999999999 [+]\n",
      "            --> (3) | x1w1 | data=-6.0 | grad=0.4999999999999999 [*]\n",
      "                --> (4) | x1 | data=2.0 | grad=-1.4999999999999996 [leaf]\n",
      "                --> (4) | w1 | data=-3.0 | grad=0.9999999999999998 [leaf]\n",
      "            --> (3) | x2w2 | data=0.0 | grad=0.4999999999999999 [*]\n",
      "                --> (4) | x2 | data=0.0 | grad=0.4999999999999999 [leaf]\n",
      "                --> (4) | w2 | data=1.0 | grad=0.0 [leaf]\n",
      "        --> (2) | b | data=6.881373587019543 | grad=0.4999999999999999 [leaf]\n"
     ]
    }
   ],
   "source": [
    "draw_tree(o)"
   ]
  },
  {
   "cell_type": "code",
   "execution_count": 565,
   "id": "efaaaa85",
   "metadata": {},
   "outputs": [],
   "source": [
    "#Topological Sort"
   ]
  },
  {
   "cell_type": "code",
   "execution_count": 566,
   "id": "37c13f24",
   "metadata": {},
   "outputs": [
    {
     "data": {
      "text/plain": [
       "[Value(data=2.0),\n",
       " Value(data=-3.0),\n",
       " Value(data=-6.0),\n",
       " Value(data=0.0),\n",
       " Value(data=1.0),\n",
       " Value(data=0.0),\n",
       " Value(data=-6.0),\n",
       " Value(data=6.881373587019543),\n",
       " Value(data=0.8813735870195432),\n",
       " Value(data=0.7071067811865476)]"
      ]
     },
     "execution_count": 566,
     "metadata": {},
     "output_type": "execute_result"
    }
   ],
   "source": [
    "topo = []\n",
    "visited = set()\n",
    "\n",
    "def build_topo(v):\n",
    "    if v not in visited:\n",
    "        visited.add(v)\n",
    "        for child in v._prev:\n",
    "            build_topo(child)\n",
    "        topo.append(v)\n",
    "\n",
    "build_topo(o)\n",
    "topo"
   ]
  },
  {
   "cell_type": "code",
   "execution_count": 567,
   "id": "9a853e32",
   "metadata": {},
   "outputs": [],
   "source": [
    "#neuron\n",
    "#data (inputs)\n",
    "x1 = Value(2.0, label='x1')\n",
    "x2 = Value(0.0, label='x2')\n",
    "\n",
    "#weights\n",
    "w1 = Value(-3.0, label='w1')\n",
    "w2 = Value(1.0, label='w2')\n",
    "#bias\n",
    "b = Value(6.8813735870195432, label='b')\n",
    "\n",
    "#inner values\n",
    "x1w1 = x1*w1; x1w1.label='x1w1'\n",
    "x2w2 = x2*w2; x2w2.label='x2w2'\n",
    "\n",
    "x1w1x2w2 = x1w1 + x2w2; x1w1x2w2.label='x1w1 + x2w2'\n",
    "\n",
    "#neuron raw value (without activation function)\n",
    "n = x1w1x2w2 + b; n.label='n'\n",
    "\n",
    "#activation function tanh\n",
    "o = n.tanh(); o.label = 'o'"
   ]
  },
  {
   "cell_type": "code",
   "execution_count": 568,
   "id": "8b2a0ba0",
   "metadata": {},
   "outputs": [
    {
     "name": "stdout",
     "output_type": "stream",
     "text": [
      "--> (0) | o | data=0.7071067811865476 | grad=0.0 [tanh]\n",
      "    --> (1) | n | data=0.8813735870195432 | grad=0.0 [+]\n",
      "        --> (2) | x1w1 + x2w2 | data=-6.0 | grad=0.0 [+]\n",
      "            --> (3) | x1w1 | data=-6.0 | grad=0.0 [*]\n",
      "                --> (4) | x1 | data=2.0 | grad=0.0 [leaf]\n",
      "                --> (4) | w1 | data=-3.0 | grad=0.0 [leaf]\n",
      "            --> (3) | x2w2 | data=0.0 | grad=0.0 [*]\n",
      "                --> (4) | x2 | data=0.0 | grad=0.0 [leaf]\n",
      "                --> (4) | w2 | data=1.0 | grad=0.0 [leaf]\n",
      "        --> (2) | b | data=6.881373587019543 | grad=0.0 [leaf]\n"
     ]
    }
   ],
   "source": [
    "draw_tree(o)"
   ]
  },
  {
   "cell_type": "code",
   "execution_count": 569,
   "id": "f9f727b8",
   "metadata": {},
   "outputs": [],
   "source": [
    "o.grad = 1.0\n",
    "\n",
    "topo = []\n",
    "visited = set()\n",
    "\n",
    "def build_topo(v):\n",
    "    if v not in visited:\n",
    "        visited.add(v)\n",
    "        for child in v._prev:\n",
    "            build_topo(child)\n",
    "        topo.append(v)\n",
    "\n",
    "build_topo(o)\n",
    "\n",
    "for node in reversed(topo):\n",
    "    node._backward()"
   ]
  },
  {
   "cell_type": "code",
   "execution_count": 570,
   "id": "09b8ad5a",
   "metadata": {},
   "outputs": [
    {
     "name": "stdout",
     "output_type": "stream",
     "text": [
      "--> (0) | o | data=0.7071067811865476 | grad=1.0 [tanh]\n",
      "    --> (1) | n | data=0.8813735870195432 | grad=0.4999999999999999 [+]\n",
      "        --> (2) | x1w1 + x2w2 | data=-6.0 | grad=0.4999999999999999 [+]\n",
      "            --> (3) | x1w1 | data=-6.0 | grad=0.4999999999999999 [*]\n",
      "                --> (4) | x1 | data=2.0 | grad=-1.4999999999999996 [leaf]\n",
      "                --> (4) | w1 | data=-3.0 | grad=0.9999999999999998 [leaf]\n",
      "            --> (3) | x2w2 | data=0.0 | grad=0.4999999999999999 [*]\n",
      "                --> (4) | x2 | data=0.0 | grad=0.4999999999999999 [leaf]\n",
      "                --> (4) | w2 | data=1.0 | grad=0.0 [leaf]\n",
      "        --> (2) | b | data=6.881373587019543 | grad=0.4999999999999999 [leaf]\n"
     ]
    }
   ],
   "source": [
    "draw_tree(o)"
   ]
  },
  {
   "cell_type": "code",
   "execution_count": 572,
   "id": "61066fe6",
   "metadata": {},
   "outputs": [],
   "source": [
    "#neuron\n",
    "#data (inputs)\n",
    "x1 = Value(2.0, label='x1')\n",
    "x2 = Value(0.0, label='x2')\n",
    "\n",
    "#weights\n",
    "w1 = Value(-3.0, label='w1')\n",
    "w2 = Value(1.0, label='w2')\n",
    "#bias\n",
    "b = Value(6.8813735870195432, label='b')\n",
    "\n",
    "#inner values\n",
    "x1w1 = x1*w1; x1w1.label='x1w1'\n",
    "x2w2 = x2*w2; x2w2.label='x2w2'\n",
    "\n",
    "x1w1x2w2 = x1w1 + x2w2; x1w1x2w2.label='x1w1 + x2w2'\n",
    "\n",
    "#neuron raw value (without activation function)\n",
    "n = x1w1x2w2 + b; n.label='n'\n",
    "\n",
    "#activation function tanh\n",
    "o = n.tanh(); o.label = 'o'"
   ]
  },
  {
   "cell_type": "code",
   "execution_count": 573,
   "id": "7c7fdbc3",
   "metadata": {},
   "outputs": [
    {
     "name": "stdout",
     "output_type": "stream",
     "text": [
      "--> (0) | o | data=0.7071067811865476 | grad=0.0 [tanh]\n",
      "    --> (1) | n | data=0.8813735870195432 | grad=0.0 [+]\n",
      "        --> (2) | x1w1 + x2w2 | data=-6.0 | grad=0.0 [+]\n",
      "            --> (3) | x1w1 | data=-6.0 | grad=0.0 [*]\n",
      "                --> (4) | x1 | data=2.0 | grad=0.0 [leaf]\n",
      "                --> (4) | w1 | data=-3.0 | grad=0.0 [leaf]\n",
      "            --> (3) | x2w2 | data=0.0 | grad=0.0 [*]\n",
      "                --> (4) | x2 | data=0.0 | grad=0.0 [leaf]\n",
      "                --> (4) | w2 | data=1.0 | grad=0.0 [leaf]\n",
      "        --> (2) | b | data=6.881373587019543 | grad=0.0 [leaf]\n"
     ]
    }
   ],
   "source": [
    "draw_tree(o)"
   ]
  },
  {
   "cell_type": "code",
   "execution_count": 574,
   "id": "d151db1c",
   "metadata": {},
   "outputs": [],
   "source": [
    "o.backward()"
   ]
  },
  {
   "cell_type": "code",
   "execution_count": 575,
   "id": "cafdf82a",
   "metadata": {},
   "outputs": [
    {
     "name": "stdout",
     "output_type": "stream",
     "text": [
      "--> (0) | o | data=0.7071067811865476 | grad=1.0 [tanh]\n",
      "    --> (1) | n | data=0.8813735870195432 | grad=0.4999999999999999 [+]\n",
      "        --> (2) | x1w1 + x2w2 | data=-6.0 | grad=0.4999999999999999 [+]\n",
      "            --> (3) | x1w1 | data=-6.0 | grad=0.4999999999999999 [*]\n",
      "                --> (4) | x1 | data=2.0 | grad=-1.4999999999999996 [leaf]\n",
      "                --> (4) | w1 | data=-3.0 | grad=0.9999999999999998 [leaf]\n",
      "            --> (3) | x2w2 | data=0.0 | grad=0.4999999999999999 [*]\n",
      "                --> (4) | x2 | data=0.0 | grad=0.4999999999999999 [leaf]\n",
      "                --> (4) | w2 | data=1.0 | grad=0.0 [leaf]\n",
      "        --> (2) | b | data=6.881373587019543 | grad=0.4999999999999999 [leaf]\n"
     ]
    }
   ],
   "source": [
    "draw_tree(o)"
   ]
  },
  {
   "cell_type": "code",
   "execution_count": 584,
   "id": "718da3a4",
   "metadata": {},
   "outputs": [],
   "source": [
    "x = Value(1.0)"
   ]
  },
  {
   "cell_type": "code",
   "execution_count": 585,
   "id": "a01f966e",
   "metadata": {},
   "outputs": [],
   "source": [
    "y = x + x"
   ]
  },
  {
   "cell_type": "code",
   "execution_count": 586,
   "id": "9f749825",
   "metadata": {},
   "outputs": [
    {
     "data": {
      "text/plain": [
       "Value(data=2.0)"
      ]
     },
     "execution_count": 586,
     "metadata": {},
     "output_type": "execute_result"
    }
   ],
   "source": [
    "y"
   ]
  },
  {
   "cell_type": "code",
   "execution_count": 587,
   "id": "0aa5cf19",
   "metadata": {},
   "outputs": [
    {
     "name": "stdout",
     "output_type": "stream",
     "text": [
      "--> (0) |  | data=2.0 | grad=0.0 [+]\n",
      "    --> (1) |  | data=1.0 | grad=0.0 [leaf]\n",
      "    --> (1) |  | data=1.0 | grad=0.0 [leaf]\n"
     ]
    }
   ],
   "source": [
    "draw_tree(y)"
   ]
  },
  {
   "cell_type": "code",
   "execution_count": 588,
   "id": "7605fe01",
   "metadata": {},
   "outputs": [],
   "source": [
    "y.backward()"
   ]
  },
  {
   "cell_type": "code",
   "execution_count": 589,
   "id": "82691c99",
   "metadata": {},
   "outputs": [
    {
     "name": "stdout",
     "output_type": "stream",
     "text": [
      "--> (0) |  | data=2.0 | grad=1.0 [+]\n",
      "    --> (1) |  | data=1.0 | grad=2.0 [leaf]\n",
      "    --> (1) |  | data=1.0 | grad=2.0 [leaf]\n"
     ]
    }
   ],
   "source": [
    "draw_tree(y)"
   ]
  },
  {
   "cell_type": "code",
   "execution_count": 590,
   "id": "4123f2c5",
   "metadata": {},
   "outputs": [
    {
     "name": "stdout",
     "output_type": "stream",
     "text": [
      "--> (0) | f | data=-6.0 | grad=1.0 [*]\n",
      "    --> (1) | d | data=-6.0 | grad=1.0 [*]\n",
      "        --> (2) | a | data=-2.0 | grad=-3.0 [leaf]\n",
      "        --> (2) | b | data=3.0 | grad=-8.0 [leaf]\n",
      "    --> (1) | e | data=1.0 | grad=-6.0 [+]\n",
      "        --> (2) | a | data=-2.0 | grad=-3.0 [leaf]\n",
      "        --> (2) | b | data=3.0 | grad=-8.0 [leaf]\n"
     ]
    }
   ],
   "source": [
    "a = Value(-2.0, label='a')\n",
    "b = Value(3.0, label='b')\n",
    "d = a*b; d.label = 'd'\n",
    "e = a+b; e.label = 'e'\n",
    "f = d*e; f.label='f'\n",
    "\n",
    "f.backward()\n",
    "draw_tree(f)"
   ]
  },
  {
   "cell_type": "code",
   "execution_count": 591,
   "id": "abc7e1a9",
   "metadata": {},
   "outputs": [],
   "source": [
    "#Let's do in in a proper way"
   ]
  },
  {
   "cell_type": "code",
   "execution_count": 635,
   "id": "fdf0477f",
   "metadata": {},
   "outputs": [],
   "source": [
    "class Value:\n",
    "    def __init__(self, data, _children=(), _op='', label=''):\n",
    "        self.data = data\n",
    "        self.grad = 0.0\n",
    "        self._backward = lambda: None\n",
    "        self._prev = _children\n",
    "        self._op = _op\n",
    "        self.label = label\n",
    "        \n",
    "    def __repr__(self):\n",
    "        return f\"Value(data={self.data})\"\n",
    "    \n",
    "    def __add__(self, other):\n",
    "        other = other if isinstance(other, Value) else Value(other)\n",
    "        out = Value(self.data + other.data, (self, other), '+')\n",
    "        \n",
    "        def _backward():\n",
    "            self.grad += 1.0 * out.grad\n",
    "            other.grad += 1.0 * out.grad\n",
    "            \n",
    "        out._backward = _backward\n",
    "        return out\n",
    "    \n",
    "    def __radd__(self, other): #other+self\n",
    "        return self+other\n",
    "    \n",
    "    def __mul__(self, other):\n",
    "        other = other if isinstance(other, Value) else Value(other)\n",
    "        out = Value(self.data * other.data, (self, other), '*')\n",
    "        \n",
    "        def _backward():\n",
    "            self.grad += other.data * out.grad\n",
    "            other.grad += self.data * out.grad\n",
    "            \n",
    "        out._backward = _backward  \n",
    "        return out\n",
    "    \n",
    "    def __pow__(self, other):\n",
    "        assert isinstance(other, (int, float)), \"only supporting int/float\"\n",
    "        out = Value(self.data**other, (self,), _op=f'**{other}')\n",
    "        \n",
    "        def _backward():\n",
    "            self.grad += (other * self.data**(other-1)) * out.grad\n",
    "            \n",
    "        out._backward = _backward  \n",
    "        return out\n",
    "    \n",
    "    def __rmul__(self, other): #other*self\n",
    "        return self*other\n",
    "    \n",
    "    def __truediv__(self, other): #self/other\n",
    "        out = self * other**-1\n",
    "        return out\n",
    "    \n",
    "    def __neg__(self): #-self\n",
    "        return self * (-1)\n",
    "    \n",
    "    def __sub__(self, other): #self-other\n",
    "        return self + (-other)\n",
    "    \n",
    "    def tanh(self):\n",
    "        x = self.data\n",
    "        t = (math.exp(2*x)-1)/(math.exp(2*x)+1)\n",
    "        out = Value(t, (self,), _op='tanh')\n",
    "        \n",
    "        def _backward():\n",
    "            self.grad += (1-(t**2)) * out.grad\n",
    "            \n",
    "        out._backward = _backward\n",
    "        return out\n",
    "    \n",
    "    def exp(self):\n",
    "        x = self.data\n",
    "        out = Value(math.exp(x), (self,), _op='exp')\n",
    "        \n",
    "        def _backward():\n",
    "            self.grad = out.data * out.grad #+=\n",
    "            \n",
    "        out._backward = _backward\n",
    "        return out\n",
    "    \n",
    "    def backward(self):\n",
    "        topo = []\n",
    "        visited = set()\n",
    "\n",
    "        def build_topo(v):\n",
    "            if v not in visited:\n",
    "                visited.add(v)\n",
    "                for child in v._prev:\n",
    "                    build_topo(child)\n",
    "                topo.append(v)\n",
    "\n",
    "        build_topo(self)\n",
    "        \n",
    "        self.grad = 1.0\n",
    "\n",
    "        for node in reversed(topo):\n",
    "            node._backward()"
   ]
  },
  {
   "cell_type": "code",
   "execution_count": 636,
   "id": "d592230a",
   "metadata": {},
   "outputs": [
    {
     "data": {
      "text/plain": [
       "Value(data=3.0)"
      ]
     },
     "execution_count": 636,
     "metadata": {},
     "output_type": "execute_result"
    }
   ],
   "source": [
    "1+Value(2.0)"
   ]
  },
  {
   "cell_type": "code",
   "execution_count": 637,
   "id": "9c7fd5aa",
   "metadata": {},
   "outputs": [
    {
     "data": {
      "text/plain": [
       "Value(data=2.0)"
      ]
     },
     "execution_count": 637,
     "metadata": {},
     "output_type": "execute_result"
    }
   ],
   "source": [
    "1*Value(2.0)"
   ]
  },
  {
   "cell_type": "code",
   "execution_count": 638,
   "id": "f2fb37da",
   "metadata": {},
   "outputs": [
    {
     "name": "stdout",
     "output_type": "stream",
     "text": [
      "--> (0) | o | data=0.7071067811865477 | grad=0.0 [*]\n",
      "    --> (1) |  | data=4.828427124746192 | grad=0.0 [+]\n",
      "        --> (2) | e | data=5.828427124746192 | grad=0.0 [exp]\n",
      "            --> (3) |  | data=1.7627471740390863 | grad=0.0 [*]\n",
      "                --> (4) | n | data=0.8813735870195432 | grad=0.0 [+]\n",
      "                    --> (5) | x1w1 + x2w2 | data=-6.0 | grad=0.0 [+]\n",
      "                        --> (6) | x1w1 | data=-6.0 | grad=0.0 [*]\n",
      "                            --> (7) | x1 | data=2.0 | grad=0.0 [leaf]\n",
      "                            --> (7) | w1 | data=-3.0 | grad=0.0 [leaf]\n",
      "                        --> (6) | x2w2 | data=0.0 | grad=0.0 [*]\n",
      "                            --> (7) | x2 | data=0.0 | grad=0.0 [leaf]\n",
      "                            --> (7) | w2 | data=1.0 | grad=0.0 [leaf]\n",
      "                    --> (5) | b | data=6.881373587019543 | grad=0.0 [leaf]\n",
      "                --> (4) |  | data=2 | grad=0.0 [leaf]\n",
      "        --> (2) |  | data=-1 | grad=0.0 [leaf]\n",
      "    --> (1) |  | data=0.1464466094067262 | grad=0.0 [**-1]\n",
      "        --> (2) |  | data=6.828427124746192 | grad=0.0 [+]\n",
      "            --> (3) | e | data=5.828427124746192 | grad=0.0 [exp]\n",
      "                --> (4) |  | data=1.7627471740390863 | grad=0.0 [*]\n",
      "                    --> (5) | n | data=0.8813735870195432 | grad=0.0 [+]\n",
      "                        --> (6) | x1w1 + x2w2 | data=-6.0 | grad=0.0 [+]\n",
      "                            --> (7) | x1w1 | data=-6.0 | grad=0.0 [*]\n",
      "                                --> (8) | x1 | data=2.0 | grad=0.0 [leaf]\n",
      "                                --> (8) | w1 | data=-3.0 | grad=0.0 [leaf]\n",
      "                            --> (7) | x2w2 | data=0.0 | grad=0.0 [*]\n",
      "                                --> (8) | x2 | data=0.0 | grad=0.0 [leaf]\n",
      "                                --> (8) | w2 | data=1.0 | grad=0.0 [leaf]\n",
      "                        --> (6) | b | data=6.881373587019543 | grad=0.0 [leaf]\n",
      "                    --> (5) |  | data=2 | grad=0.0 [leaf]\n",
      "            --> (3) |  | data=1 | grad=0.0 [leaf]\n"
     ]
    }
   ],
   "source": [
    "#neuron\n",
    "#data (inputs)\n",
    "x1 = Value(2.0, label='x1')\n",
    "x2 = Value(0.0, label='x2')\n",
    "\n",
    "#weights\n",
    "w1 = Value(-3.0, label='w1')\n",
    "w2 = Value(1.0, label='w2')\n",
    "#bias\n",
    "b = Value(6.8813735870195432, label='b')\n",
    "\n",
    "#inner values\n",
    "x1w1 = x1*w1; x1w1.label='x1w1'\n",
    "x2w2 = x2*w2; x2w2.label='x2w2'\n",
    "\n",
    "x1w1x2w2 = x1w1 + x2w2; x1w1x2w2.label='x1w1 + x2w2'\n",
    "\n",
    "#neuron raw value (without activation function)\n",
    "n = x1w1x2w2 + b; n.label='n'\n",
    "\n",
    "#activation function tanh, but different calculation\n",
    "e = (2*n).exp(); e.label='e'\n",
    "o = (e-1)/(e+1); o.label = 'o'\n",
    "\n",
    "#o.backward()\n",
    "draw_tree(o)"
   ]
  },
  {
   "cell_type": "code",
   "execution_count": 639,
   "id": "44514cc9",
   "metadata": {},
   "outputs": [
    {
     "name": "stdout",
     "output_type": "stream",
     "text": [
      "--> (0) | o | data=0.7071067811865477 | grad=1.0 [*]\n",
      "    --> (1) |  | data=4.828427124746192 | grad=0.1464466094067262 [+]\n",
      "        --> (2) | e | data=5.828427124746192 | grad=0.04289321881345247 [exp]\n",
      "            --> (3) |  | data=1.7627471740390863 | grad=0.25 [*]\n",
      "                --> (4) | n | data=0.8813735870195432 | grad=0.5 [+]\n",
      "                    --> (5) | x1w1 + x2w2 | data=-6.0 | grad=0.5 [+]\n",
      "                        --> (6) | x1w1 | data=-6.0 | grad=0.5 [*]\n",
      "                            --> (7) | x1 | data=2.0 | grad=-1.5 [leaf]\n",
      "                            --> (7) | w1 | data=-3.0 | grad=1.0 [leaf]\n",
      "                        --> (6) | x2w2 | data=0.0 | grad=0.5 [*]\n",
      "                            --> (7) | x2 | data=0.0 | grad=0.5 [leaf]\n",
      "                            --> (7) | w2 | data=1.0 | grad=0.0 [leaf]\n",
      "                    --> (5) | b | data=6.881373587019543 | grad=0.5 [leaf]\n",
      "                --> (4) |  | data=2 | grad=0.2203433967548858 [leaf]\n",
      "        --> (2) |  | data=-1 | grad=0.1464466094067262 [leaf]\n",
      "    --> (1) |  | data=0.1464466094067262 | grad=4.828427124746192 [**-1]\n",
      "        --> (2) |  | data=6.828427124746192 | grad=-0.10355339059327374 [+]\n",
      "            --> (3) | e | data=5.828427124746192 | grad=0.04289321881345247 [exp]\n",
      "                --> (4) |  | data=1.7627471740390863 | grad=0.25 [*]\n",
      "                    --> (5) | n | data=0.8813735870195432 | grad=0.5 [+]\n",
      "                        --> (6) | x1w1 + x2w2 | data=-6.0 | grad=0.5 [+]\n",
      "                            --> (7) | x1w1 | data=-6.0 | grad=0.5 [*]\n",
      "                                --> (8) | x1 | data=2.0 | grad=-1.5 [leaf]\n",
      "                                --> (8) | w1 | data=-3.0 | grad=1.0 [leaf]\n",
      "                            --> (7) | x2w2 | data=0.0 | grad=0.5 [*]\n",
      "                                --> (8) | x2 | data=0.0 | grad=0.5 [leaf]\n",
      "                                --> (8) | w2 | data=1.0 | grad=0.0 [leaf]\n",
      "                        --> (6) | b | data=6.881373587019543 | grad=0.5 [leaf]\n",
      "                    --> (5) |  | data=2 | grad=0.2203433967548858 [leaf]\n",
      "            --> (3) |  | data=1 | grad=-0.10355339059327374 [leaf]\n"
     ]
    }
   ],
   "source": [
    "o.backward()\n",
    "draw_tree(o)"
   ]
  },
  {
   "cell_type": "code",
   "execution_count": 640,
   "id": "c3831d0a",
   "metadata": {},
   "outputs": [],
   "source": [
    "#In PyTorch"
   ]
  },
  {
   "cell_type": "code",
   "execution_count": 643,
   "id": "6648052d",
   "metadata": {},
   "outputs": [
    {
     "name": "stdout",
     "output_type": "stream",
     "text": [
      "0.7071066904050358\n",
      "----\n",
      "x2 0.5000001283844369\n",
      "w2 0.0\n",
      "x1 -1.5000003851533106\n",
      "w1 1.0000002567688737\n"
     ]
    }
   ],
   "source": [
    "import torch\n",
    "\n",
    "x1 = torch.Tensor([2.0]).double(); x1.requires_grad=True\n",
    "x2 = torch.Tensor([0.0]).double(); x2.requires_grad=True\n",
    "\n",
    "w1 = torch.Tensor([-3.0]).double(); w1.requires_grad=True\n",
    "w2 = torch.Tensor([1.0]).double(); w2.requires_grad=True\n",
    "\n",
    "b = torch.Tensor([6.8813735870195432]).double(); b.requires_grad=True\n",
    "\n",
    "n = x1*w1+x2*w2+b\n",
    "o = torch.tanh(n)\n",
    "\n",
    "print(o.data.item())\n",
    "o.backward()\n",
    "\n",
    "print('----')\n",
    "print('x2', x2.grad.item())\n",
    "print('w2', w2.grad.item())\n",
    "print('x1', x1.grad.item())\n",
    "print('w1', w1.grad.item())"
   ]
  },
  {
   "cell_type": "code",
   "execution_count": 644,
   "id": "d4ee1ca7",
   "metadata": {},
   "outputs": [],
   "source": [
    "#class Neuron"
   ]
  },
  {
   "cell_type": "code",
   "execution_count": 649,
   "id": "696d4ff4",
   "metadata": {},
   "outputs": [],
   "source": [
    "import random"
   ]
  },
  {
   "cell_type": "code",
   "execution_count": 725,
   "id": "f4cd7e8e",
   "metadata": {},
   "outputs": [],
   "source": [
    "class Neuron:\n",
    "    def __init__(self, nin):\n",
    "        self.w = [Value(random.uniform(-1,1)) for _ in range(nin)]\n",
    "        self.b = Value(random.uniform(-1,1))\n",
    "        \n",
    "    def __call__(self, x):\n",
    "        #w*x + b\n",
    "        act = sum((wi*xi for wi, xi in zip(self.w, x)), self.b)\n",
    "        out = act.tanh()\n",
    "        return out\n",
    "    \n",
    "    def parameters(self):\n",
    "        return self.w + [self.b]"
   ]
  },
  {
   "cell_type": "code",
   "execution_count": 726,
   "id": "c5a5fafa",
   "metadata": {},
   "outputs": [],
   "source": [
    "class Layer:\n",
    "    def __init__(self, nin, nout):\n",
    "        self.neurons = [Neuron(nin) for _ in range(nout)]\n",
    "        \n",
    "    def __call__(self, x):\n",
    "        outs = [n(x) for n in self.neurons]\n",
    "        return outs[0] if len(outs) == 1 else outs\n",
    "    \n",
    "    def parameters(self):\n",
    "        params = []\n",
    "        for neuron in self.neurons:\n",
    "            ps = neuron.parameters()\n",
    "            params.extend(ps)\n",
    "        return params"
   ]
  },
  {
   "cell_type": "code",
   "execution_count": 727,
   "id": "7479e0e0",
   "metadata": {},
   "outputs": [
    {
     "data": {
      "text/plain": [
       "Value(data=-0.36256741779298357)"
      ]
     },
     "execution_count": 727,
     "metadata": {},
     "output_type": "execute_result"
    }
   ],
   "source": [
    "x = [2.0, 3.0]\n",
    "n = Neuron(2)\n",
    "n(x)\n"
   ]
  },
  {
   "cell_type": "code",
   "execution_count": 728,
   "id": "44c479a0",
   "metadata": {},
   "outputs": [
    {
     "data": {
      "text/plain": [
       "[Value(data=0.8350331970840037), Value(data=-0.6219553325664091)]"
      ]
     },
     "execution_count": 728,
     "metadata": {},
     "output_type": "execute_result"
    }
   ],
   "source": [
    "n.w"
   ]
  },
  {
   "cell_type": "code",
   "execution_count": 729,
   "id": "f4418122",
   "metadata": {},
   "outputs": [
    {
     "data": {
      "text/plain": [
       "Value(data=-0.18403914058012938)"
      ]
     },
     "execution_count": 729,
     "metadata": {},
     "output_type": "execute_result"
    }
   ],
   "source": [
    "n.b"
   ]
  },
  {
   "cell_type": "code",
   "execution_count": 730,
   "id": "0f5de82a",
   "metadata": {},
   "outputs": [
    {
     "data": {
      "text/plain": [
       "[Value(data=0.7506416935704173),\n",
       " Value(data=-0.7560166592985756),\n",
       " Value(data=0.7712421887731167)]"
      ]
     },
     "execution_count": 730,
     "metadata": {},
     "output_type": "execute_result"
    }
   ],
   "source": [
    "x = [2.0, 3.0]\n",
    "n = Layer(2,3)\n",
    "n(x)"
   ]
  },
  {
   "cell_type": "code",
   "execution_count": 731,
   "id": "eabe895a",
   "metadata": {},
   "outputs": [
    {
     "name": "stdout",
     "output_type": "stream",
     "text": [
      "[Value(data=0.12895277702271235), Value(data=0.2734513642416927)]\n",
      "[Value(data=-0.8476341011377386), Value(data=0.032240881330905635)]\n",
      "[Value(data=-0.6049428795023988), Value(data=0.4718191326606409)]\n"
     ]
    },
    {
     "data": {
      "text/plain": [
       "[None, None, None]"
      ]
     },
     "execution_count": 731,
     "metadata": {},
     "output_type": "execute_result"
    }
   ],
   "source": [
    "[print(neu.w) for neu in n.neurons]"
   ]
  },
  {
   "cell_type": "code",
   "execution_count": 747,
   "id": "665e91a2",
   "metadata": {},
   "outputs": [],
   "source": [
    "class MLP(): #multi-layer perceptron \n",
    "    def __init__(self, nin, nouts):\n",
    "        sz = [nin] + nouts\n",
    "        self.layers = [Layer(sz[i], sz[i+1]) for i in range(len(nouts))]\n",
    "        \n",
    "    def __call__(self, x):\n",
    "        for layer in self.layers:\n",
    "            x = layer(x)\n",
    "        return x\n",
    "    \n",
    "    def parameters(self):\n",
    "        params = []\n",
    "        for l in self.layers:\n",
    "            p = l.parameters()\n",
    "            params.extend(p)\n",
    "        \n",
    "        return params"
   ]
  },
  {
   "cell_type": "code",
   "execution_count": 733,
   "id": "6b058cf0",
   "metadata": {},
   "outputs": [
    {
     "data": {
      "text/plain": [
       "[1, 1, 2, 3]"
      ]
     },
     "execution_count": 733,
     "metadata": {},
     "output_type": "execute_result"
    }
   ],
   "source": [
    "[1] + [1, 2, 3]"
   ]
  },
  {
   "cell_type": "code",
   "execution_count": 734,
   "id": "725dc967",
   "metadata": {},
   "outputs": [
    {
     "data": {
      "text/plain": [
       "Value(data=-0.48766582722636526)"
      ]
     },
     "execution_count": 734,
     "metadata": {},
     "output_type": "execute_result"
    }
   ],
   "source": [
    "x = [2.0, 3.0, -1.0]\n",
    "n = MLP(3, [4,4,1])\n",
    "n(x)"
   ]
  },
  {
   "cell_type": "code",
   "execution_count": 735,
   "id": "86c25626",
   "metadata": {},
   "outputs": [
    {
     "data": {
      "text/plain": [
       "[<__main__.Layer at 0x15cd0be20>,\n",
       " <__main__.Layer at 0x15cd0ba00>,\n",
       " <__main__.Layer at 0x15cd0b850>]"
      ]
     },
     "execution_count": 735,
     "metadata": {},
     "output_type": "execute_result"
    }
   ],
   "source": [
    "n.layers"
   ]
  },
  {
   "cell_type": "code",
   "execution_count": 736,
   "id": "8baacc54",
   "metadata": {},
   "outputs": [
    {
     "name": "stdout",
     "output_type": "stream",
     "text": [
      "--> (0) |  | data=-0.48766582722636526 | grad=0.0 [tanh]\n",
      "    --> (1) |  | data=-0.532993259180168 | grad=0.0 [+]\n",
      "        --> (2) |  | data=-0.45341944762089675 | grad=0.0 [+]\n",
      "            --> (3) |  | data=-0.858753073139016 | grad=0.0 [+]\n",
      "                --> (4) |  | data=-0.2055236740230147 | grad=0.0 [+]\n",
      "                    --> (5) |  | data=-0.31687621552453926 | grad=0.0 [leaf]\n",
      "                    --> (5) |  | data=0.11135254150152456 | grad=0.0 [*]\n",
      "                        --> (6) |  | data=0.22413086174344388 | grad=0.0 [leaf]\n",
      "                        --> (6) |  | data=0.4968193163375537 | grad=0.0 [tanh]\n",
      "                            --> (7) |  | data=0.5450741811573616 | grad=0.0 [+]\n",
      "                                --> (8) |  | data=0.1261035735093753 | grad=0.0 [+]\n",
      "                                    --> (9) |  | data=0.07285847671323831 | grad=0.0 [+]\n",
      "                                        --> (10) |  | data=0.7617129567335563 | grad=0.0 [+]\n",
      "                                            --> (11) |  | data=0.3534038782599713 | grad=0.0 [leaf]\n",
      "                                            --> (11) |  | data=0.40830907847358494 | grad=0.0 [*]\n",
      "                                                --> (12) |  | data=-0.5050089001010039 | grad=0.0 [leaf]\n",
      "                                                --> (12) |  | data=-0.808518579359535 | grad=0.0 [tanh]\n",
      "                                                    --> (13) |  | data=-1.1227362704665107 | grad=0.0 [+]\n",
      "                                                        --> (14) |  | data=-0.16131222900463382 | grad=0.0 [+]\n",
      "                                                            --> (15) |  | data=-0.13809186927001615 | grad=0.0 [+]\n",
      "                                                                --> (16) |  | data=-0.045574548804440784 | grad=0.0 [leaf]\n",
      "                                                                --> (16) |  | data=-0.09251732046557537 | grad=0.0 [*]\n",
      "                                                                    --> (17) |  | data=-0.046258660232787685 | grad=0.0 [leaf]\n",
      "                                                                    --> (17) |  | data=2.0 | grad=0.0 [leaf]\n",
      "                                                            --> (15) |  | data=-0.023220359734617668 | grad=0.0 [*]\n",
      "                                                                --> (16) |  | data=-0.007740119911539223 | grad=0.0 [leaf]\n",
      "                                                                --> (16) |  | data=3.0 | grad=0.0 [leaf]\n",
      "                                                        --> (14) |  | data=-0.9614240414618769 | grad=0.0 [*]\n",
      "                                                            --> (15) |  | data=0.9614240414618769 | grad=0.0 [leaf]\n",
      "                                                            --> (15) |  | data=-1.0 | grad=0.0 [leaf]\n",
      "                                        --> (10) |  | data=-0.688854480020318 | grad=0.0 [*]\n",
      "                                            --> (11) |  | data=0.6893094361452667 | grad=0.0 [leaf]\n",
      "                                            --> (11) |  | data=-0.9993399827405629 | grad=0.0 [tanh]\n",
      "                                                --> (12) |  | data=-4.008030845044493 | grad=0.0 [+]\n",
      "                                                    --> (13) |  | data=-3.791879861798932 | grad=0.0 [+]\n",
      "                                                        --> (14) |  | data=-1.5803701609503427 | grad=0.0 [+]\n",
      "                                                            --> (15) |  | data=-0.3994300371099784 | grad=0.0 [leaf]\n",
      "                                                            --> (15) |  | data=-1.1809401238403643 | grad=0.0 [*]\n",
      "                                                                --> (16) |  | data=-0.5904700619201821 | grad=0.0 [leaf]\n",
      "                                                                --> (16) |  | data=2.0 | grad=0.0 [leaf]\n",
      "                                                        --> (14) |  | data=-2.2115097008485893 | grad=0.0 [*]\n",
      "                                                            --> (15) |  | data=-0.7371699002828631 | grad=0.0 [leaf]\n",
      "                                                            --> (15) |  | data=3.0 | grad=0.0 [leaf]\n",
      "                                                    --> (13) |  | data=-0.2161509832455606 | grad=0.0 [*]\n",
      "                                                        --> (14) |  | data=0.2161509832455606 | grad=0.0 [leaf]\n",
      "                                                        --> (14) |  | data=-1.0 | grad=0.0 [leaf]\n",
      "                                    --> (9) |  | data=0.05324509679613698 | grad=0.0 [*]\n",
      "                                        --> (10) |  | data=0.05378688370599782 | grad=0.0 [leaf]\n",
      "                                        --> (10) |  | data=0.9899271556087488 | grad=0.0 [tanh]\n",
      "                                            --> (11) |  | data=2.643005091544657 | grad=0.0 [+]\n",
      "                                                --> (12) |  | data=1.6439041474853466 | grad=0.0 [+]\n",
      "                                                    --> (13) |  | data=-0.737916326786269 | grad=0.0 [+]\n",
      "                                                        --> (14) |  | data=0.32925278837664607 | grad=0.0 [leaf]\n",
      "                                                        --> (14) |  | data=-1.067169115162915 | grad=0.0 [*]\n",
      "                                                            --> (15) |  | data=-0.5335845575814575 | grad=0.0 [leaf]\n",
      "                                                            --> (15) |  | data=2.0 | grad=0.0 [leaf]\n",
      "                                                    --> (13) |  | data=2.3818204742716156 | grad=0.0 [*]\n",
      "                                                        --> (14) |  | data=0.7939401580905385 | grad=0.0 [leaf]\n",
      "                                                        --> (14) |  | data=3.0 | grad=0.0 [leaf]\n",
      "                                                --> (12) |  | data=0.9991009440593102 | grad=0.0 [*]\n",
      "                                                    --> (13) |  | data=-0.9991009440593102 | grad=0.0 [leaf]\n",
      "                                                    --> (13) |  | data=-1.0 | grad=0.0 [leaf]\n",
      "                                --> (8) |  | data=0.4189706076479863 | grad=0.0 [*]\n",
      "                                    --> (9) |  | data=-0.5614602712600252 | grad=0.0 [leaf]\n",
      "                                    --> (9) |  | data=-0.7462159463353221 | grad=0.0 [tanh]\n",
      "                                        --> (10) |  | data=-0.9643613431850961 | grad=0.0 [+]\n",
      "                                            --> (11) |  | data=-1.6477972782562869 | grad=0.0 [+]\n",
      "                                                --> (12) |  | data=1.2332090773935087 | grad=0.0 [+]\n",
      "                                                    --> (13) |  | data=0.3214205354362061 | grad=0.0 [leaf]\n",
      "                                                    --> (13) |  | data=0.9117885419573026 | grad=0.0 [*]\n",
      "                                                        --> (14) |  | data=0.4558942709786513 | grad=0.0 [leaf]\n",
      "                                                        --> (14) |  | data=2.0 | grad=0.0 [leaf]\n",
      "                                                --> (12) |  | data=-2.8810063556497956 | grad=0.0 [*]\n",
      "                                                    --> (13) |  | data=-0.9603354518832652 | grad=0.0 [leaf]\n",
      "                                                    --> (13) |  | data=3.0 | grad=0.0 [leaf]\n",
      "                                            --> (11) |  | data=0.6834359350711907 | grad=0.0 [*]\n",
      "                                                --> (12) |  | data=-0.6834359350711907 | grad=0.0 [leaf]\n",
      "                                                --> (12) |  | data=-1.0 | grad=0.0 [leaf]\n",
      "                --> (4) |  | data=-0.6532293991160013 | grad=0.0 [*]\n",
      "                    --> (5) |  | data=-0.7246566872086664 | grad=0.0 [leaf]\n",
      "                    --> (5) |  | data=0.9014329276835923 | grad=0.0 [tanh]\n",
      "                        --> (6) |  | data=1.479812899853267 | grad=0.0 [+]\n",
      "                            --> (7) |  | data=1.08647914080418 | grad=0.0 [+]\n",
      "                                --> (8) |  | data=1.1327365227613009 | grad=0.0 [+]\n",
      "                                    --> (9) |  | data=0.5493219608699457 | grad=0.0 [+]\n",
      "                                        --> (10) |  | data=-0.16494962218162934 | grad=0.0 [leaf]\n",
      "                                        --> (10) |  | data=0.714271583051575 | grad=0.0 [*]\n",
      "                                            --> (11) |  | data=-0.8834324915790837 | grad=0.0 [leaf]\n",
      "                                            --> (11) |  | data=-0.808518579359535 | grad=0.0 [tanh]\n",
      "                                                --> (12) |  | data=-1.1227362704665107 | grad=0.0 [+]\n",
      "                                                    --> (13) |  | data=-0.16131222900463382 | grad=0.0 [+]\n",
      "                                                        --> (14) |  | data=-0.13809186927001615 | grad=0.0 [+]\n",
      "                                                            --> (15) |  | data=-0.045574548804440784 | grad=0.0 [leaf]\n",
      "                                                            --> (15) |  | data=-0.09251732046557537 | grad=0.0 [*]\n",
      "                                                                --> (16) |  | data=-0.046258660232787685 | grad=0.0 [leaf]\n",
      "                                                                --> (16) |  | data=2.0 | grad=0.0 [leaf]\n",
      "                                                        --> (14) |  | data=-0.023220359734617668 | grad=0.0 [*]\n",
      "                                                            --> (15) |  | data=-0.007740119911539223 | grad=0.0 [leaf]\n",
      "                                                            --> (15) |  | data=3.0 | grad=0.0 [leaf]\n",
      "                                                    --> (13) |  | data=-0.9614240414618769 | grad=0.0 [*]\n",
      "                                                        --> (14) |  | data=0.9614240414618769 | grad=0.0 [leaf]\n",
      "                                                        --> (14) |  | data=-1.0 | grad=0.0 [leaf]\n",
      "                                    --> (9) |  | data=0.5834145618913553 | grad=0.0 [*]\n",
      "                                        --> (10) |  | data=-0.5837998798881388 | grad=0.0 [leaf]\n",
      "                                        --> (10) |  | data=-0.9993399827405629 | grad=0.0 [tanh]\n",
      "                                            --> (11) |  | data=-4.008030845044493 | grad=0.0 [+]\n",
      "                                                --> (12) |  | data=-3.791879861798932 | grad=0.0 [+]\n",
      "                                                    --> (13) |  | data=-1.5803701609503427 | grad=0.0 [+]\n",
      "                                                        --> (14) |  | data=-0.3994300371099784 | grad=0.0 [leaf]\n",
      "                                                        --> (14) |  | data=-1.1809401238403643 | grad=0.0 [*]\n",
      "                                                            --> (15) |  | data=-0.5904700619201821 | grad=0.0 [leaf]\n",
      "                                                            --> (15) |  | data=2.0 | grad=0.0 [leaf]\n",
      "                                                    --> (13) |  | data=-2.2115097008485893 | grad=0.0 [*]\n",
      "                                                        --> (14) |  | data=-0.7371699002828631 | grad=0.0 [leaf]\n",
      "                                                        --> (14) |  | data=3.0 | grad=0.0 [leaf]\n",
      "                                                --> (12) |  | data=-0.2161509832455606 | grad=0.0 [*]\n",
      "                                                    --> (13) |  | data=0.2161509832455606 | grad=0.0 [leaf]\n",
      "                                                    --> (13) |  | data=-1.0 | grad=0.0 [leaf]\n",
      "                                --> (8) |  | data=-0.04625738195712081 | grad=0.0 [*]\n",
      "                                    --> (9) |  | data=-0.04672806649967609 | grad=0.0 [leaf]\n",
      "                                    --> (9) |  | data=0.9899271556087488 | grad=0.0 [tanh]\n",
      "                                        --> (10) |  | data=2.643005091544657 | grad=0.0 [+]\n",
      "                                            --> (11) |  | data=1.6439041474853466 | grad=0.0 [+]\n",
      "                                                --> (12) |  | data=-0.737916326786269 | grad=0.0 [+]\n",
      "                                                    --> (13) |  | data=0.32925278837664607 | grad=0.0 [leaf]\n",
      "                                                    --> (13) |  | data=-1.067169115162915 | grad=0.0 [*]\n",
      "                                                        --> (14) |  | data=-0.5335845575814575 | grad=0.0 [leaf]\n",
      "                                                        --> (14) |  | data=2.0 | grad=0.0 [leaf]\n",
      "                                                --> (12) |  | data=2.3818204742716156 | grad=0.0 [*]\n",
      "                                                    --> (13) |  | data=0.7939401580905385 | grad=0.0 [leaf]\n",
      "                                                    --> (13) |  | data=3.0 | grad=0.0 [leaf]\n",
      "                                            --> (11) |  | data=0.9991009440593102 | grad=0.0 [*]\n",
      "                                                --> (12) |  | data=-0.9991009440593102 | grad=0.0 [leaf]\n",
      "                                                --> (12) |  | data=-1.0 | grad=0.0 [leaf]\n",
      "                            --> (7) |  | data=0.39333375904908674 | grad=0.0 [*]\n",
      "                                --> (8) |  | data=-0.5271044675214391 | grad=0.0 [leaf]\n",
      "                                --> (8) |  | data=-0.7462159463353221 | grad=0.0 [tanh]\n",
      "                                    --> (9) |  | data=-0.9643613431850961 | grad=0.0 [+]\n",
      "                                        --> (10) |  | data=-1.6477972782562869 | grad=0.0 [+]\n",
      "                                            --> (11) |  | data=1.2332090773935087 | grad=0.0 [+]\n",
      "                                                --> (12) |  | data=0.3214205354362061 | grad=0.0 [leaf]\n",
      "                                                --> (12) |  | data=0.9117885419573026 | grad=0.0 [*]\n",
      "                                                    --> (13) |  | data=0.4558942709786513 | grad=0.0 [leaf]\n",
      "                                                    --> (13) |  | data=2.0 | grad=0.0 [leaf]\n",
      "                                            --> (11) |  | data=-2.8810063556497956 | grad=0.0 [*]\n",
      "                                                --> (12) |  | data=-0.9603354518832652 | grad=0.0 [leaf]\n",
      "                                                --> (12) |  | data=3.0 | grad=0.0 [leaf]\n",
      "                                        --> (10) |  | data=0.6834359350711907 | grad=0.0 [*]\n",
      "                                            --> (11) |  | data=-0.6834359350711907 | grad=0.0 [leaf]\n",
      "                                            --> (11) |  | data=-1.0 | grad=0.0 [leaf]\n",
      "            --> (3) |  | data=0.4053336255181193 | grad=0.0 [*]\n",
      "                --> (4) |  | data=-0.9445402223441266 | grad=0.0 [leaf]\n",
      "                --> (4) |  | data=-0.4291332607437051 | grad=0.0 [tanh]\n",
      "                    --> (5) |  | data=-0.4588338135226511 | grad=0.0 [+]\n",
      "                        --> (6) |  | data=0.16106316852805308 | grad=0.0 [+]\n",
      "                            --> (7) |  | data=-0.223725749516268 | grad=0.0 [+]\n",
      "                                --> (8) |  | data=-0.1432605137920097 | grad=0.0 [+]\n",
      "                                    --> (9) |  | data=-0.5998886880201793 | grad=0.0 [leaf]\n",
      "                                    --> (9) |  | data=0.45662817422816954 | grad=0.0 [*]\n",
      "                                        --> (10) |  | data=-0.5647714052407873 | grad=0.0 [leaf]\n",
      "                                        --> (10) |  | data=-0.808518579359535 | grad=0.0 [tanh]\n",
      "                                            --> (11) |  | data=-1.1227362704665107 | grad=0.0 [+]\n",
      "                                                --> (12) |  | data=-0.16131222900463382 | grad=0.0 [+]\n",
      "                                                    --> (13) |  | data=-0.13809186927001615 | grad=0.0 [+]\n",
      "                                                        --> (14) |  | data=-0.045574548804440784 | grad=0.0 [leaf]\n",
      "                                                        --> (14) |  | data=-0.09251732046557537 | grad=0.0 [*]\n",
      "                                                            --> (15) |  | data=-0.046258660232787685 | grad=0.0 [leaf]\n",
      "                                                            --> (15) |  | data=2.0 | grad=0.0 [leaf]\n",
      "                                                    --> (13) |  | data=-0.023220359734617668 | grad=0.0 [*]\n",
      "                                                        --> (14) |  | data=-0.007740119911539223 | grad=0.0 [leaf]\n",
      "                                                        --> (14) |  | data=3.0 | grad=0.0 [leaf]\n",
      "                                                --> (12) |  | data=-0.9614240414618769 | grad=0.0 [*]\n",
      "                                                    --> (13) |  | data=0.9614240414618769 | grad=0.0 [leaf]\n",
      "                                                    --> (13) |  | data=-1.0 | grad=0.0 [leaf]\n",
      "                                --> (8) |  | data=-0.0804652357242583 | grad=0.0 [*]\n",
      "                                    --> (9) |  | data=0.08051837924426142 | grad=0.0 [leaf]\n",
      "                                    --> (9) |  | data=-0.9993399827405629 | grad=0.0 [tanh]\n",
      "                                        --> (10) |  | data=-4.008030845044493 | grad=0.0 [+]\n",
      "                                            --> (11) |  | data=-3.791879861798932 | grad=0.0 [+]\n",
      "                                                --> (12) |  | data=-1.5803701609503427 | grad=0.0 [+]\n",
      "                                                    --> (13) |  | data=-0.3994300371099784 | grad=0.0 [leaf]\n",
      "                                                    --> (13) |  | data=-1.1809401238403643 | grad=0.0 [*]\n",
      "                                                        --> (14) |  | data=-0.5904700619201821 | grad=0.0 [leaf]\n",
      "                                                        --> (14) |  | data=2.0 | grad=0.0 [leaf]\n",
      "                                                --> (12) |  | data=-2.2115097008485893 | grad=0.0 [*]\n",
      "                                                    --> (13) |  | data=-0.7371699002828631 | grad=0.0 [leaf]\n",
      "                                                    --> (13) |  | data=3.0 | grad=0.0 [leaf]\n",
      "                                            --> (11) |  | data=-0.2161509832455606 | grad=0.0 [*]\n",
      "                                                --> (12) |  | data=0.2161509832455606 | grad=0.0 [leaf]\n",
      "                                                --> (12) |  | data=-1.0 | grad=0.0 [leaf]\n",
      "                            --> (7) |  | data=0.3847889180443211 | grad=0.0 [*]\n",
      "                                --> (8) |  | data=0.38870427572794264 | grad=0.0 [leaf]\n",
      "                                --> (8) |  | data=0.9899271556087488 | grad=0.0 [tanh]\n",
      "                                    --> (9) |  | data=2.643005091544657 | grad=0.0 [+]\n",
      "                                        --> (10) |  | data=1.6439041474853466 | grad=0.0 [+]\n",
      "                                            --> (11) |  | data=-0.737916326786269 | grad=0.0 [+]\n",
      "                                                --> (12) |  | data=0.32925278837664607 | grad=0.0 [leaf]\n",
      "                                                --> (12) |  | data=-1.067169115162915 | grad=0.0 [*]\n",
      "                                                    --> (13) |  | data=-0.5335845575814575 | grad=0.0 [leaf]\n",
      "                                                    --> (13) |  | data=2.0 | grad=0.0 [leaf]\n",
      "                                            --> (11) |  | data=2.3818204742716156 | grad=0.0 [*]\n",
      "                                                --> (12) |  | data=0.7939401580905385 | grad=0.0 [leaf]\n",
      "                                                --> (12) |  | data=3.0 | grad=0.0 [leaf]\n",
      "                                        --> (10) |  | data=0.9991009440593102 | grad=0.0 [*]\n",
      "                                            --> (11) |  | data=-0.9991009440593102 | grad=0.0 [leaf]\n",
      "                                            --> (11) |  | data=-1.0 | grad=0.0 [leaf]\n",
      "                        --> (6) |  | data=-0.6198969820507042 | grad=0.0 [*]\n",
      "                            --> (7) |  | data=0.8307206313333664 | grad=0.0 [leaf]\n",
      "                            --> (7) |  | data=-0.7462159463353221 | grad=0.0 [tanh]\n",
      "                                --> (8) |  | data=-0.9643613431850961 | grad=0.0 [+]\n",
      "                                    --> (9) |  | data=-1.6477972782562869 | grad=0.0 [+]\n",
      "                                        --> (10) |  | data=1.2332090773935087 | grad=0.0 [+]\n",
      "                                            --> (11) |  | data=0.3214205354362061 | grad=0.0 [leaf]\n",
      "                                            --> (11) |  | data=0.9117885419573026 | grad=0.0 [*]\n",
      "                                                --> (12) |  | data=0.4558942709786513 | grad=0.0 [leaf]\n",
      "                                                --> (12) |  | data=2.0 | grad=0.0 [leaf]\n",
      "                                        --> (10) |  | data=-2.8810063556497956 | grad=0.0 [*]\n",
      "                                            --> (11) |  | data=-0.9603354518832652 | grad=0.0 [leaf]\n",
      "                                            --> (11) |  | data=3.0 | grad=0.0 [leaf]\n",
      "                                    --> (9) |  | data=0.6834359350711907 | grad=0.0 [*]\n",
      "                                        --> (10) |  | data=-0.6834359350711907 | grad=0.0 [leaf]\n",
      "                                        --> (10) |  | data=-1.0 | grad=0.0 [leaf]\n",
      "        --> (2) |  | data=-0.07957381155927126 | grad=0.0 [*]\n",
      "            --> (3) |  | data=0.28301111380997157 | grad=0.0 [leaf]\n",
      "            --> (3) |  | data=-0.2811685042612894 | grad=0.0 [tanh]\n",
      "                --> (4) |  | data=-0.2889504316870043 | grad=0.0 [+]\n",
      "                    --> (5) |  | data=0.026910360662974697 | grad=0.0 [+]\n",
      "                        --> (6) |  | data=-0.8751595944447912 | grad=0.0 [+]\n",
      "                            --> (7) |  | data=0.013112672330944597 | grad=0.0 [+]\n",
      "                                --> (8) |  | data=-0.5184791885148541 | grad=0.0 [leaf]\n",
      "                                --> (8) |  | data=0.5315918608457987 | grad=0.0 [*]\n",
      "                                    --> (9) |  | data=-0.6574887385604635 | grad=0.0 [leaf]\n",
      "                                    --> (9) |  | data=-0.808518579359535 | grad=0.0 [tanh]\n",
      "                                        --> (10) |  | data=-1.1227362704665107 | grad=0.0 [+]\n",
      "                                            --> (11) |  | data=-0.16131222900463382 | grad=0.0 [+]\n",
      "                                                --> (12) |  | data=-0.13809186927001615 | grad=0.0 [+]\n",
      "                                                    --> (13) |  | data=-0.045574548804440784 | grad=0.0 [leaf]\n",
      "                                                    --> (13) |  | data=-0.09251732046557537 | grad=0.0 [*]\n",
      "                                                        --> (14) |  | data=-0.046258660232787685 | grad=0.0 [leaf]\n",
      "                                                        --> (14) |  | data=2.0 | grad=0.0 [leaf]\n",
      "                                                --> (12) |  | data=-0.023220359734617668 | grad=0.0 [*]\n",
      "                                                    --> (13) |  | data=-0.007740119911539223 | grad=0.0 [leaf]\n",
      "                                                    --> (13) |  | data=3.0 | grad=0.0 [leaf]\n",
      "                                            --> (11) |  | data=-0.9614240414618769 | grad=0.0 [*]\n",
      "                                                --> (12) |  | data=0.9614240414618769 | grad=0.0 [leaf]\n",
      "                                                --> (12) |  | data=-1.0 | grad=0.0 [leaf]\n",
      "                            --> (7) |  | data=-0.8882722667757358 | grad=0.0 [*]\n",
      "                                --> (8) |  | data=0.8888589290100872 | grad=0.0 [leaf]\n",
      "                                --> (8) |  | data=-0.9993399827405629 | grad=0.0 [tanh]\n",
      "                                    --> (9) |  | data=-4.008030845044493 | grad=0.0 [+]\n",
      "                                        --> (10) |  | data=-3.791879861798932 | grad=0.0 [+]\n",
      "                                            --> (11) |  | data=-1.5803701609503427 | grad=0.0 [+]\n",
      "                                                --> (12) |  | data=-0.3994300371099784 | grad=0.0 [leaf]\n",
      "                                                --> (12) |  | data=-1.1809401238403643 | grad=0.0 [*]\n",
      "                                                    --> (13) |  | data=-0.5904700619201821 | grad=0.0 [leaf]\n",
      "                                                    --> (13) |  | data=2.0 | grad=0.0 [leaf]\n",
      "                                            --> (11) |  | data=-2.2115097008485893 | grad=0.0 [*]\n",
      "                                                --> (12) |  | data=-0.7371699002828631 | grad=0.0 [leaf]\n",
      "                                                --> (12) |  | data=3.0 | grad=0.0 [leaf]\n",
      "                                        --> (10) |  | data=-0.2161509832455606 | grad=0.0 [*]\n",
      "                                            --> (11) |  | data=0.2161509832455606 | grad=0.0 [leaf]\n",
      "                                            --> (11) |  | data=-1.0 | grad=0.0 [leaf]\n",
      "                        --> (6) |  | data=0.9020699551077659 | grad=0.0 [*]\n",
      "                            --> (7) |  | data=0.9112488227005393 | grad=0.0 [leaf]\n",
      "                            --> (7) |  | data=0.9899271556087488 | grad=0.0 [tanh]\n",
      "                                --> (8) |  | data=2.643005091544657 | grad=0.0 [+]\n",
      "                                    --> (9) |  | data=1.6439041474853466 | grad=0.0 [+]\n",
      "                                        --> (10) |  | data=-0.737916326786269 | grad=0.0 [+]\n",
      "                                            --> (11) |  | data=0.32925278837664607 | grad=0.0 [leaf]\n",
      "                                            --> (11) |  | data=-1.067169115162915 | grad=0.0 [*]\n",
      "                                                --> (12) |  | data=-0.5335845575814575 | grad=0.0 [leaf]\n",
      "                                                --> (12) |  | data=2.0 | grad=0.0 [leaf]\n",
      "                                        --> (10) |  | data=2.3818204742716156 | grad=0.0 [*]\n",
      "                                            --> (11) |  | data=0.7939401580905385 | grad=0.0 [leaf]\n",
      "                                            --> (11) |  | data=3.0 | grad=0.0 [leaf]\n",
      "                                    --> (9) |  | data=0.9991009440593102 | grad=0.0 [*]\n",
      "                                        --> (10) |  | data=-0.9991009440593102 | grad=0.0 [leaf]\n",
      "                                        --> (10) |  | data=-1.0 | grad=0.0 [leaf]\n",
      "                    --> (5) |  | data=-0.315860792349979 | grad=0.0 [*]\n",
      "                        --> (6) |  | data=0.4232833590613765 | grad=0.0 [leaf]\n",
      "                        --> (6) |  | data=-0.7462159463353221 | grad=0.0 [tanh]\n",
      "                            --> (7) |  | data=-0.9643613431850961 | grad=0.0 [+]\n",
      "                                --> (8) |  | data=-1.6477972782562869 | grad=0.0 [+]\n",
      "                                    --> (9) |  | data=1.2332090773935087 | grad=0.0 [+]\n",
      "                                        --> (10) |  | data=0.3214205354362061 | grad=0.0 [leaf]\n",
      "                                        --> (10) |  | data=0.9117885419573026 | grad=0.0 [*]\n",
      "                                            --> (11) |  | data=0.4558942709786513 | grad=0.0 [leaf]\n",
      "                                            --> (11) |  | data=2.0 | grad=0.0 [leaf]\n",
      "                                    --> (9) |  | data=-2.8810063556497956 | grad=0.0 [*]\n",
      "                                        --> (10) |  | data=-0.9603354518832652 | grad=0.0 [leaf]\n",
      "                                        --> (10) |  | data=3.0 | grad=0.0 [leaf]\n",
      "                                --> (8) |  | data=0.6834359350711907 | grad=0.0 [*]\n",
      "                                    --> (9) |  | data=-0.6834359350711907 | grad=0.0 [leaf]\n",
      "                                    --> (9) |  | data=-1.0 | grad=0.0 [leaf]\n"
     ]
    }
   ],
   "source": [
    "draw_tree(n(x))"
   ]
  },
  {
   "cell_type": "code",
   "execution_count": 737,
   "id": "abf6539e",
   "metadata": {},
   "outputs": [],
   "source": [
    "xs = [\n",
    "    [2.0, 3.0, -1.0],\n",
    "    [3.0, -1.0, 0.5],\n",
    "    [0.5, 1.0, 1.0],\n",
    "    [1.0, 1.0, -1.0]\n",
    "] #inputs (4 samples)\n",
    "\n",
    "ys = [1.0, -1.0, -1.0, 1.0] #desired targets"
   ]
  },
  {
   "cell_type": "code",
   "execution_count": 738,
   "id": "77ce58cf",
   "metadata": {},
   "outputs": [
    {
     "data": {
      "text/plain": [
       "[Value(data=-0.48766582722636526),\n",
       " Value(data=-0.12634288323562073),\n",
       " Value(data=0.1758906947940979),\n",
       " Value(data=-0.8393511282580918)]"
      ]
     },
     "execution_count": 738,
     "metadata": {},
     "output_type": "execute_result"
    }
   ],
   "source": [
    "ypred = [n(x) for x in xs]\n",
    "ypred #nn predictions for xs"
   ]
  },
  {
   "cell_type": "code",
   "execution_count": 739,
   "id": "ffbdb0da",
   "metadata": {},
   "outputs": [],
   "source": [
    "#Loss"
   ]
  },
  {
   "cell_type": "code",
   "execution_count": 740,
   "id": "d21072d8",
   "metadata": {},
   "outputs": [
    {
     "data": {
      "text/plain": [
       "Value(data=7.742357870297815)"
      ]
     },
     "execution_count": 740,
     "metadata": {},
     "output_type": "execute_result"
    }
   ],
   "source": [
    "loss = sum([(yout - ygt)**2 for ygt, yout in zip(ys, ypred)])\n",
    "loss"
   ]
  },
  {
   "cell_type": "code",
   "execution_count": 741,
   "id": "c1dec3e5",
   "metadata": {},
   "outputs": [],
   "source": [
    "loss.backward()"
   ]
  },
  {
   "cell_type": "code",
   "execution_count": 742,
   "id": "6e1167a5",
   "metadata": {},
   "outputs": [
    {
     "data": {
      "text/plain": [
       "4.1019804653836"
      ]
     },
     "execution_count": 742,
     "metadata": {},
     "output_type": "execute_result"
    }
   ],
   "source": [
    "n.layers[0].neurons[0].w[0].grad"
   ]
  },
  {
   "cell_type": "code",
   "execution_count": 743,
   "id": "0cb5113a",
   "metadata": {},
   "outputs": [
    {
     "name": "stdout",
     "output_type": "stream",
     "text": [
      "--> (0) |  | data=7.742357870297815 | grad=1.0 [+]\n",
      "    --> (1) |  | data=4.3591452972735 | grad=1.0 [+]\n",
      "        --> (2) |  | data=2.9764263711701537 | grad=1.0 [+]\n",
      "            --> (3) |  | data=2.2131496134971056 | grad=1.0 [+]\n",
      "                --> (4) |  | data=2.2131496134971056 | grad=1.0 [**2]\n",
      "                    --> (5) |  | data=-1.4876658272263652 | grad=-2.9753316544527304 [+]\n",
      "                        --> (6) |  | data=-0.48766582722636526 | grad=-2.9753316544527304 [tanh]\n",
      "                            --> (7) |  | data=-0.532993259180168 | grad=-2.267744352910658 [+]\n",
      "                                --> (8) |  | data=-0.45341944762089675 | grad=-2.267744352910658 [+]\n",
      "                                    --> (9) |  | data=-0.858753073139016 | grad=-2.267744352910658 [+]\n",
      "                                        --> (10) |  | data=-0.2055236740230147 | grad=-2.267744352910658 [+]\n",
      "                                            --> (11) |  | data=-0.31687621552453926 | grad=0.6436828365111071 [leaf]\n",
      "                                            --> (11) |  | data=0.11135254150152456 | grad=-2.267744352910658 [*]\n",
      "                                                --> (12) |  | data=0.22413086174344388 | grad=-2.6241908698312377 [leaf]\n",
      "                                                --> (12) |  | data=0.4968193163375537 | grad=-0.5082714960316943 [tanh]\n",
      "                                                    --> (13) |  | data=0.5450741811573616 | grad=-0.38281513081236 [+]\n",
      "                                                        --> (14) |  | data=0.1261035735093753 | grad=-0.38281513081236 [+]\n",
      "                                                            --> (15) |  | data=0.07285847671323831 | grad=-0.38281513081236 [+]\n",
      "                                                                --> (16) |  | data=0.7617129567335563 | grad=-0.38281513081236 [+]\n",
      "                                                                    --> (17) |  | data=0.3534038782599713 | grad=0.040196758021074086 [leaf]\n",
      "                                                                    --> (17) |  | data=0.40830907847358494 | grad=-0.38281513081236 [*]\n",
      "                                                                        --> (18) |  | data=-0.5050089001010039 | grad=0.9010755615108164 [leaf]\n",
      "                                                                        --> (18) |  | data=-0.808518579359535 | grad=-0.6770992731707751 [tanh]\n",
      "                                                                            --> (19) |  | data=-1.1227362704665107 | grad=-0.23447792559559666 [+]\n",
      "                                                                                --> (20) |  | data=-0.16131222900463382 | grad=-0.23447792559559666 [+]\n",
      "                                                                                    --> (21) |  | data=-0.13809186927001615 | grad=-0.23447792559559666 [+]\n",
      "                                                                                        --> (22) |  | data=-0.045574548804440784 | grad=1.691636112669734 [leaf]\n",
      "                                                                                        --> (22) |  | data=-0.09251732046557537 | grad=-0.23447792559559666 [*]\n",
      "                                                                                            --> (23) |  | data=-0.046258660232787685 | grad=4.1019804653836 [leaf]\n",
      "                                                                                            --> (23) |  | data=2.0 | grad=0.010846634692215577 [leaf]\n",
      "                                                                                    --> (21) |  | data=-0.023220359734617668 | grad=-0.23447792559559666 [*]\n",
      "                                                                                        --> (22) |  | data=-0.007740119911539223 | grad=-1.7435281581008253 [leaf]\n",
      "                                                                                        --> (22) |  | data=3.0 | grad=0.00181488726071889 [leaf]\n",
      "                                                                                --> (20) |  | data=-0.9614240414618769 | grad=-0.23447792559559666 [*]\n",
      "                                                                                    --> (21) |  | data=0.9614240414618769 | grad=1.8185647670944014 [leaf]\n",
      "                                                                                    --> (21) |  | data=-1.0 | grad=-0.2254327148597158 [leaf]\n",
      "                                                                --> (16) |  | data=-0.688854480020318 | grad=-0.38281513081236 [*]\n",
      "                                                                    --> (17) |  | data=0.6893094361452667 | grad=0.05222876474386545 [leaf]\n",
      "                                                                    --> (17) |  | data=-0.9993399827405629 | grad=-0.8283444625946657 [tanh]\n",
      "                                                                        --> (18) |  | data=-4.008030845044493 | grad=-0.0010930824384233913 [+]\n",
      "                                                                            --> (19) |  | data=-3.791879861798932 | grad=-0.0010930824384233913 [+]\n",
      "                                                                                --> (20) |  | data=-1.5803701609503427 | grad=-0.0010930824384233913 [+]\n",
      "                                                                                    --> (21) |  | data=-0.3994300371099784 | grad=0.49981083702452617 [leaf]\n",
      "                                                                                    --> (21) |  | data=-1.1809401238403643 | grad=-0.0010930824384233913 [*]\n",
      "                                                                                        --> (22) |  | data=-0.5904700619201821 | grad=0.6303616503577171 [leaf]\n",
      "                                                                                        --> (22) |  | data=2.0 | grad=0.0006454324550997236 [leaf]\n",
      "                                                                                --> (20) |  | data=-2.2115097008485893 | grad=-0.0010930824384233913 [*]\n",
      "                                                                                    --> (21) |  | data=-0.7371699002828631 | grad=0.1723448412663164 [leaf]\n",
      "                                                                                    --> (21) |  | data=3.0 | grad=0.0008057874721335203 [leaf]\n",
      "                                                                            --> (19) |  | data=-0.2161509832455606 | grad=-0.0010930824384233913 [*]\n",
      "                                                                                --> (20) |  | data=0.2161509832455606 | grad=0.518692776575491 [leaf]\n",
      "                                                                                --> (20) |  | data=-1.0 | grad=-0.00023627084383367097 [leaf]\n",
      "                                                            --> (15) |  | data=0.05324509679613698 | grad=-0.38281513081236 [*]\n",
      "                                                                --> (16) |  | data=0.05378688370599782 | grad=-0.831301111109401 [leaf]\n",
      "                                                                --> (16) |  | data=0.9899271556087488 | grad=0.10568404031665281 [tanh]\n",
      "                                                                    --> (17) |  | data=2.643005091544657 | grad=0.002118354850881644 [+]\n",
      "                                                                        --> (18) |  | data=1.6439041474853466 | grad=0.002118354850881644 [+]\n",
      "                                                                            --> (19) |  | data=-0.737916326786269 | grad=0.002118354850881644 [+]\n",
      "                                                                                --> (20) |  | data=0.32925278837664607 | grad=0.03412709341437927 [leaf]\n",
      "                                                                                --> (20) |  | data=-1.067169115162915 | grad=0.002118354850881644 [*]\n",
      "                                                                                    --> (21) |  | data=-0.5335845575814575 | grad=-0.0053090922917333715 [leaf]\n",
      "                                                                                    --> (21) |  | data=2.0 | grad=-0.0011303214359082165 [leaf]\n",
      "                                                                            --> (19) |  | data=2.3818204742716156 | grad=0.002118354850881644 [*]\n",
      "                                                                                --> (20) |  | data=0.7939401580905385 | grad=0.059201431355879935 [leaf]\n",
      "                                                                                --> (20) |  | data=3.0 | grad=0.0016818469852008316 [leaf]\n",
      "                                                                        --> (18) |  | data=0.9991009440593102 | grad=0.002118354850881644 [*]\n",
      "                                                                            --> (19) |  | data=-0.9991009440593102 | grad=0.03311233467484536 [leaf]\n",
      "                                                                            --> (19) |  | data=-1.0 | grad=-0.0021164503313684697 [leaf]\n",
      "                                                        --> (14) |  | data=0.4189706076479863 | grad=-0.38281513081236 [*]\n",
      "                                                            --> (15) |  | data=-0.5614602712600252 | grad=-0.06588612449126069 [leaf]\n",
      "                                                            --> (15) |  | data=-0.7462159463353221 | grad=1.2541065540363343 [tanh]\n",
      "                                                                --> (16) |  | data=-0.9643613431850961 | grad=0.5557720695137691 [+]\n",
      "                                                                    --> (17) |  | data=-1.6477972782562869 | grad=0.5557720695137691 [+]\n",
      "                                                                        --> (18) |  | data=1.2332090773935087 | grad=0.5557720695137691 [+]\n",
      "                                                                            --> (19) |  | data=0.3214205354362061 | grad=1.0230210789820884 [leaf]\n",
      "                                                                            --> (19) |  | data=0.9117885419573026 | grad=0.5557720695137691 [*]\n",
      "                                                                                --> (20) |  | data=0.4558942709786513 | grad=1.4554044003648539 [leaf]\n",
      "                                                                                --> (20) |  | data=2.0 | grad=0.2533733024612761 [leaf]\n",
      "                                                                        --> (18) |  | data=-2.8810063556497956 | grad=0.5557720695137691 [*]\n",
      "                                                                            --> (19) |  | data=-0.9603354518832652 | grad=2.185673652201306 [leaf]\n",
      "                                                                            --> (19) |  | data=3.0 | grad=-0.5337276215206029 [leaf]\n",
      "                                                                    --> (17) |  | data=0.6834359350711907 | grad=0.5557720695137691 [*]\n",
      "                                                                        --> (18) |  | data=-0.6834359350711907 | grad=-0.7722311488685496 [leaf]\n",
      "                                                                        --> (18) |  | data=-1.0 | grad=-0.3798346040145936 [leaf]\n",
      "                                        --> (10) |  | data=-0.6532293991160013 | grad=-2.267744352910658 [*]\n",
      "                                            --> (11) |  | data=-0.7246566872086664 | grad=-3.1204451714133055 [leaf]\n",
      "                                            --> (11) |  | data=0.9014329276835923 | grad=1.6433361102163984 [tanh]\n",
      "                                                --> (12) |  | data=1.479812899853267 | grad=0.3079918794586807 [+]\n",
      "                                                    --> (13) |  | data=1.08647914080418 | grad=0.3079918794586807 [+]\n",
      "                                                        --> (14) |  | data=1.1327365227613009 | grad=0.3079918794586807 [+]\n",
      "                                                            --> (15) |  | data=0.5493219608699457 | grad=0.3079918794586807 [+]\n",
      "                                                                --> (16) |  | data=-0.16494962218162934 | grad=-1.9537464124926742 [leaf]\n",
      "                                                                --> (16) |  | data=0.714271583051575 | grad=0.3079918794586807 [*]\n",
      "                                                                    --> (17) |  | data=-0.8834324915790837 | grad=-2.0633122056382445 [leaf]\n",
      "                                                                    --> (17) |  | data=-0.808518579359535 | grad=-0.6770992731707751 [tanh]\n",
      "                                                                        --> (18) |  | data=-1.1227362704665107 | grad=-0.23447792559559666 [+]\n",
      "                                                                            --> (19) |  | data=-0.16131222900463382 | grad=-0.23447792559559666 [+]\n",
      "                                                                                --> (20) |  | data=-0.13809186927001615 | grad=-0.23447792559559666 [+]\n",
      "                                                                                    --> (21) |  | data=-0.045574548804440784 | grad=1.691636112669734 [leaf]\n",
      "                                                                                    --> (21) |  | data=-0.09251732046557537 | grad=-0.23447792559559666 [*]\n",
      "                                                                                        --> (22) |  | data=-0.046258660232787685 | grad=4.1019804653836 [leaf]\n",
      "                                                                                        --> (22) |  | data=2.0 | grad=0.010846634692215577 [leaf]\n",
      "                                                                                --> (20) |  | data=-0.023220359734617668 | grad=-0.23447792559559666 [*]\n",
      "                                                                                    --> (21) |  | data=-0.007740119911539223 | grad=-1.7435281581008253 [leaf]\n",
      "                                                                                    --> (21) |  | data=3.0 | grad=0.00181488726071889 [leaf]\n",
      "                                                                            --> (19) |  | data=-0.9614240414618769 | grad=-0.23447792559559666 [*]\n",
      "                                                                                --> (20) |  | data=0.9614240414618769 | grad=1.8185647670944014 [leaf]\n",
      "                                                                                --> (20) |  | data=-1.0 | grad=-0.2254327148597158 [leaf]\n",
      "                                                            --> (15) |  | data=0.5834145618913553 | grad=0.3079918794586807 [*]\n",
      "                                                                --> (16) |  | data=-0.5837998798881388 | grad=1.5671650785860847 [leaf]\n",
      "                                                                --> (16) |  | data=-0.9993399827405629 | grad=-0.8283444625946657 [tanh]\n",
      "                                                                    --> (17) |  | data=-4.008030845044493 | grad=-0.0010930824384233913 [+]\n",
      "                                                                        --> (18) |  | data=-3.791879861798932 | grad=-0.0010930824384233913 [+]\n",
      "                                                                            --> (19) |  | data=-1.5803701609503427 | grad=-0.0010930824384233913 [+]\n",
      "                                                                                --> (20) |  | data=-0.3994300371099784 | grad=0.49981083702452617 [leaf]\n",
      "                                                                                --> (20) |  | data=-1.1809401238403643 | grad=-0.0010930824384233913 [*]\n",
      "                                                                                    --> (21) |  | data=-0.5904700619201821 | grad=0.6303616503577171 [leaf]\n",
      "                                                                                    --> (21) |  | data=2.0 | grad=0.0006454324550997236 [leaf]\n",
      "                                                                            --> (19) |  | data=-2.2115097008485893 | grad=-0.0010930824384233913 [*]\n",
      "                                                                                --> (20) |  | data=-0.7371699002828631 | grad=0.1723448412663164 [leaf]\n",
      "                                                                                --> (20) |  | data=3.0 | grad=0.0008057874721335203 [leaf]\n",
      "                                                                        --> (18) |  | data=-0.2161509832455606 | grad=-0.0010930824384233913 [*]\n",
      "                                                                            --> (19) |  | data=0.2161509832455606 | grad=0.518692776575491 [leaf]\n",
      "                                                                            --> (19) |  | data=-1.0 | grad=-0.00023627084383367097 [leaf]\n",
      "                                                        --> (14) |  | data=-0.04625738195712081 | grad=0.3079918794586807 [*]\n",
      "                                                            --> (15) |  | data=-0.04672806649967609 | grad=2.000812942875408 [leaf]\n",
      "                                                            --> (15) |  | data=0.9899271556087488 | grad=0.10568404031665281 [tanh]\n",
      "                                                                --> (16) |  | data=2.643005091544657 | grad=0.002118354850881644 [+]\n",
      "                                                                    --> (17) |  | data=1.6439041474853466 | grad=0.002118354850881644 [+]\n",
      "                                                                        --> (18) |  | data=-0.737916326786269 | grad=0.002118354850881644 [+]\n",
      "                                                                            --> (19) |  | data=0.32925278837664607 | grad=0.03412709341437927 [leaf]\n",
      "                                                                            --> (19) |  | data=-1.067169115162915 | grad=0.002118354850881644 [*]\n",
      "                                                                                --> (20) |  | data=-0.5335845575814575 | grad=-0.0053090922917333715 [leaf]\n",
      "                                                                                --> (20) |  | data=2.0 | grad=-0.0011303214359082165 [leaf]\n",
      "                                                                        --> (18) |  | data=2.3818204742716156 | grad=0.002118354850881644 [*]\n",
      "                                                                            --> (19) |  | data=0.7939401580905385 | grad=0.059201431355879935 [leaf]\n",
      "                                                                            --> (19) |  | data=3.0 | grad=0.0016818469852008316 [leaf]\n",
      "                                                                    --> (17) |  | data=0.9991009440593102 | grad=0.002118354850881644 [*]\n",
      "                                                                        --> (18) |  | data=-0.9991009440593102 | grad=0.03311233467484536 [leaf]\n",
      "                                                                        --> (18) |  | data=-1.0 | grad=-0.0021164503313684697 [leaf]\n",
      "                                                    --> (13) |  | data=0.39333375904908674 | grad=0.3079918794586807 [*]\n",
      "                                                        --> (14) |  | data=-0.5271044675214391 | grad=0.21747269368062103 [leaf]\n",
      "                                                        --> (14) |  | data=-0.7462159463353221 | grad=1.2541065540363343 [tanh]\n",
      "                                                            --> (15) |  | data=-0.9643613431850961 | grad=0.5557720695137691 [+]\n",
      "                                                                --> (16) |  | data=-1.6477972782562869 | grad=0.5557720695137691 [+]\n",
      "                                                                    --> (17) |  | data=1.2332090773935087 | grad=0.5557720695137691 [+]\n",
      "                                                                        --> (18) |  | data=0.3214205354362061 | grad=1.0230210789820884 [leaf]\n",
      "                                                                        --> (18) |  | data=0.9117885419573026 | grad=0.5557720695137691 [*]\n",
      "                                                                            --> (19) |  | data=0.4558942709786513 | grad=1.4554044003648539 [leaf]\n",
      "                                                                            --> (19) |  | data=2.0 | grad=0.2533733024612761 [leaf]\n",
      "                                                                    --> (17) |  | data=-2.8810063556497956 | grad=0.5557720695137691 [*]\n",
      "                                                                        --> (18) |  | data=-0.9603354518832652 | grad=2.185673652201306 [leaf]\n",
      "                                                                        --> (18) |  | data=3.0 | grad=-0.5337276215206029 [leaf]\n",
      "                                                                --> (16) |  | data=0.6834359350711907 | grad=0.5557720695137691 [*]\n",
      "                                                                    --> (17) |  | data=-0.6834359350711907 | grad=-0.7722311488685496 [leaf]\n",
      "                                                                    --> (17) |  | data=-1.0 | grad=-0.3798346040145936 [leaf]\n",
      "                                    --> (9) |  | data=0.4053336255181193 | grad=-2.267744352910658 [*]\n",
      "                                        --> (10) |  | data=-0.9445402223441266 | grad=-2.353192656882509 [leaf]\n",
      "                                        --> (10) |  | data=-0.4291332607437051 | grad=2.1419757553178704 [tanh]\n",
      "                                            --> (11) |  | data=-0.4588338135226511 | grad=1.7475194486752101 [+]\n",
      "                                                --> (12) |  | data=0.16106316852805308 | grad=1.7475194486752101 [+]\n",
      "                                                    --> (13) |  | data=-0.223725749516268 | grad=1.7475194486752101 [+]\n",
      "                                                        --> (14) |  | data=-0.1432605137920097 | grad=1.7475194486752101 [+]\n",
      "                                                            --> (15) |  | data=-0.5998886880201793 | grad=0.9366708291651445 [leaf]\n",
      "                                                            --> (15) |  | data=0.45662817422816954 | grad=1.7475194486752101 [*]\n",
      "                                                                --> (16) |  | data=-0.5647714052407873 | grad=-2.6129224193481964 [leaf]\n",
      "                                                                --> (16) |  | data=-0.808518579359535 | grad=-0.6770992731707751 [tanh]\n",
      "                                                                    --> (17) |  | data=-1.1227362704665107 | grad=-0.23447792559559666 [+]\n",
      "                                                                        --> (18) |  | data=-0.16131222900463382 | grad=-0.23447792559559666 [+]\n",
      "                                                                            --> (19) |  | data=-0.13809186927001615 | grad=-0.23447792559559666 [+]\n",
      "                                                                                --> (20) |  | data=-0.045574548804440784 | grad=1.691636112669734 [leaf]\n",
      "                                                                                --> (20) |  | data=-0.09251732046557537 | grad=-0.23447792559559666 [*]\n",
      "                                                                                    --> (21) |  | data=-0.046258660232787685 | grad=4.1019804653836 [leaf]\n",
      "                                                                                    --> (21) |  | data=2.0 | grad=0.010846634692215577 [leaf]\n",
      "                                                                            --> (19) |  | data=-0.023220359734617668 | grad=-0.23447792559559666 [*]\n",
      "                                                                                --> (20) |  | data=-0.007740119911539223 | grad=-1.7435281581008253 [leaf]\n",
      "                                                                                --> (20) |  | data=3.0 | grad=0.00181488726071889 [leaf]\n",
      "                                                                        --> (18) |  | data=-0.9614240414618769 | grad=-0.23447792559559666 [*]\n",
      "                                                                            --> (19) |  | data=0.9614240414618769 | grad=1.8185647670944014 [leaf]\n",
      "                                                                            --> (19) |  | data=-1.0 | grad=-0.2254327148597158 [leaf]\n",
      "                                                        --> (14) |  | data=-0.0804652357242583 | grad=1.7475194486752101 [*]\n",
      "                                                            --> (15) |  | data=0.08051837924426142 | grad=-1.1226265619768534 [leaf]\n",
      "                                                            --> (15) |  | data=-0.9993399827405629 | grad=-0.8283444625946657 [tanh]\n",
      "                                                                --> (16) |  | data=-4.008030845044493 | grad=-0.0010930824384233913 [+]\n",
      "                                                                    --> (17) |  | data=-3.791879861798932 | grad=-0.0010930824384233913 [+]\n",
      "                                                                        --> (18) |  | data=-1.5803701609503427 | grad=-0.0010930824384233913 [+]\n",
      "                                                                            --> (19) |  | data=-0.3994300371099784 | grad=0.49981083702452617 [leaf]\n",
      "                                                                            --> (19) |  | data=-1.1809401238403643 | grad=-0.0010930824384233913 [*]\n",
      "                                                                                --> (20) |  | data=-0.5904700619201821 | grad=0.6303616503577171 [leaf]\n",
      "                                                                                --> (20) |  | data=2.0 | grad=0.0006454324550997236 [leaf]\n",
      "                                                                        --> (18) |  | data=-2.2115097008485893 | grad=-0.0010930824384233913 [*]\n",
      "                                                                            --> (19) |  | data=-0.7371699002828631 | grad=0.1723448412663164 [leaf]\n",
      "                                                                            --> (19) |  | data=3.0 | grad=0.0008057874721335203 [leaf]\n",
      "                                                                    --> (17) |  | data=-0.2161509832455606 | grad=-0.0010930824384233913 [*]\n",
      "                                                                        --> (18) |  | data=0.2161509832455606 | grad=0.518692776575491 [leaf]\n",
      "                                                                        --> (18) |  | data=-1.0 | grad=-0.00023627084383367097 [leaf]\n",
      "                                                    --> (13) |  | data=0.3847889180443211 | grad=1.7475194486752101 [*]\n",
      "                                                        --> (14) |  | data=0.38870427572794264 | grad=3.86615980176846 [leaf]\n",
      "                                                        --> (14) |  | data=0.9899271556087488 | grad=0.10568404031665281 [tanh]\n",
      "                                                            --> (15) |  | data=2.643005091544657 | grad=0.002118354850881644 [+]\n",
      "                                                                --> (16) |  | data=1.6439041474853466 | grad=0.002118354850881644 [+]\n",
      "                                                                    --> (17) |  | data=-0.737916326786269 | grad=0.002118354850881644 [+]\n",
      "                                                                        --> (18) |  | data=0.32925278837664607 | grad=0.03412709341437927 [leaf]\n",
      "                                                                        --> (18) |  | data=-1.067169115162915 | grad=0.002118354850881644 [*]\n",
      "                                                                            --> (19) |  | data=-0.5335845575814575 | grad=-0.0053090922917333715 [leaf]\n",
      "                                                                            --> (19) |  | data=2.0 | grad=-0.0011303214359082165 [leaf]\n",
      "                                                                    --> (17) |  | data=2.3818204742716156 | grad=0.002118354850881644 [*]\n",
      "                                                                        --> (18) |  | data=0.7939401580905385 | grad=0.059201431355879935 [leaf]\n",
      "                                                                        --> (18) |  | data=3.0 | grad=0.0016818469852008316 [leaf]\n",
      "                                                                --> (16) |  | data=0.9991009440593102 | grad=0.002118354850881644 [*]\n",
      "                                                                    --> (17) |  | data=-0.9991009440593102 | grad=0.03311233467484536 [leaf]\n",
      "                                                                    --> (17) |  | data=-1.0 | grad=-0.0021164503313684697 [leaf]\n",
      "                                                --> (12) |  | data=-0.6198969820507042 | grad=1.7475194486752101 [*]\n",
      "                                                    --> (13) |  | data=0.8307206313333664 | grad=-2.1068467113090854 [leaf]\n",
      "                                                    --> (13) |  | data=-0.7462159463353221 | grad=1.2541065540363343 [tanh]\n",
      "                                                        --> (14) |  | data=-0.9643613431850961 | grad=0.5557720695137691 [+]\n",
      "                                                            --> (15) |  | data=-1.6477972782562869 | grad=0.5557720695137691 [+]\n",
      "                                                                --> (16) |  | data=1.2332090773935087 | grad=0.5557720695137691 [+]\n",
      "                                                                    --> (17) |  | data=0.3214205354362061 | grad=1.0230210789820884 [leaf]\n",
      "                                                                    --> (17) |  | data=0.9117885419573026 | grad=0.5557720695137691 [*]\n",
      "                                                                        --> (18) |  | data=0.4558942709786513 | grad=1.4554044003648539 [leaf]\n",
      "                                                                        --> (18) |  | data=2.0 | grad=0.2533733024612761 [leaf]\n",
      "                                                                --> (16) |  | data=-2.8810063556497956 | grad=0.5557720695137691 [*]\n",
      "                                                                    --> (17) |  | data=-0.9603354518832652 | grad=2.185673652201306 [leaf]\n",
      "                                                                    --> (17) |  | data=3.0 | grad=-0.5337276215206029 [leaf]\n",
      "                                                            --> (15) |  | data=0.6834359350711907 | grad=0.5557720695137691 [*]\n",
      "                                                                --> (16) |  | data=-0.6834359350711907 | grad=-0.7722311488685496 [leaf]\n",
      "                                                                --> (16) |  | data=-1.0 | grad=-0.3798346040145936 [leaf]\n",
      "                                --> (8) |  | data=-0.07957381155927126 | grad=-2.267744352910658 [*]\n",
      "                                    --> (9) |  | data=0.28301111380997157 | grad=-3.432373781799989 [leaf]\n",
      "                                    --> (9) |  | data=-0.2811685042612894 | grad=-0.6417968551535186 [tanh]\n",
      "                                        --> (10) |  | data=-0.2889504316870043 | grad=-0.5910591376769669 [+]\n",
      "                                            --> (11) |  | data=0.026910360662974697 | grad=-0.5910591376769669 [+]\n",
      "                                                --> (12) |  | data=-0.8751595944447912 | grad=-0.5910591376769669 [+]\n",
      "                                                    --> (13) |  | data=0.013112672330944597 | grad=-0.5910591376769669 [+]\n",
      "                                                        --> (14) |  | data=-0.5184791885148541 | grad=-0.8214754027484394 [leaf]\n",
      "                                                        --> (14) |  | data=0.5315918608457987 | grad=-0.5910591376769669 [*]\n",
      "                                                            --> (15) |  | data=-0.6574887385604635 | grad=0.7448911553883564 [leaf]\n",
      "                                                            --> (15) |  | data=-0.808518579359535 | grad=-0.6770992731707751 [tanh]\n",
      "                                                                --> (16) |  | data=-1.1227362704665107 | grad=-0.23447792559559666 [+]\n",
      "                                                                    --> (17) |  | data=-0.16131222900463382 | grad=-0.23447792559559666 [+]\n",
      "                                                                        --> (18) |  | data=-0.13809186927001615 | grad=-0.23447792559559666 [+]\n",
      "                                                                            --> (19) |  | data=-0.045574548804440784 | grad=1.691636112669734 [leaf]\n",
      "                                                                            --> (19) |  | data=-0.09251732046557537 | grad=-0.23447792559559666 [*]\n",
      "                                                                                --> (20) |  | data=-0.046258660232787685 | grad=4.1019804653836 [leaf]\n",
      "                                                                                --> (20) |  | data=2.0 | grad=0.010846634692215577 [leaf]\n",
      "                                                                        --> (18) |  | data=-0.023220359734617668 | grad=-0.23447792559559666 [*]\n",
      "                                                                            --> (19) |  | data=-0.007740119911539223 | grad=-1.7435281581008253 [leaf]\n",
      "                                                                            --> (19) |  | data=3.0 | grad=0.00181488726071889 [leaf]\n",
      "                                                                    --> (17) |  | data=-0.9614240414618769 | grad=-0.23447792559559666 [*]\n",
      "                                                                        --> (18) |  | data=0.9614240414618769 | grad=1.8185647670944014 [leaf]\n",
      "                                                                        --> (18) |  | data=-1.0 | grad=-0.2254327148597158 [leaf]\n",
      "                                                    --> (13) |  | data=-0.8882722667757358 | grad=-0.5910591376769669 [*]\n",
      "                                                        --> (14) |  | data=0.8888589290100872 | grad=0.8189347375273707 [leaf]\n",
      "                                                        --> (14) |  | data=-0.9993399827405629 | grad=-0.8283444625946657 [tanh]\n",
      "                                                            --> (15) |  | data=-4.008030845044493 | grad=-0.0010930824384233913 [+]\n",
      "                                                                --> (16) |  | data=-3.791879861798932 | grad=-0.0010930824384233913 [+]\n",
      "                                                                    --> (17) |  | data=-1.5803701609503427 | grad=-0.0010930824384233913 [+]\n",
      "                                                                        --> (18) |  | data=-0.3994300371099784 | grad=0.49981083702452617 [leaf]\n",
      "                                                                        --> (18) |  | data=-1.1809401238403643 | grad=-0.0010930824384233913 [*]\n",
      "                                                                            --> (19) |  | data=-0.5904700619201821 | grad=0.6303616503577171 [leaf]\n",
      "                                                                            --> (19) |  | data=2.0 | grad=0.0006454324550997236 [leaf]\n",
      "                                                                    --> (17) |  | data=-2.2115097008485893 | grad=-0.0010930824384233913 [*]\n",
      "                                                                        --> (18) |  | data=-0.7371699002828631 | grad=0.1723448412663164 [leaf]\n",
      "                                                                        --> (18) |  | data=3.0 | grad=0.0008057874721335203 [leaf]\n",
      "                                                                --> (16) |  | data=-0.2161509832455606 | grad=-0.0010930824384233913 [*]\n",
      "                                                                    --> (17) |  | data=0.2161509832455606 | grad=0.518692776575491 [leaf]\n",
      "                                                                    --> (17) |  | data=-1.0 | grad=-0.00023627084383367097 [leaf]\n",
      "                                                --> (12) |  | data=0.9020699551077659 | grad=-0.5910591376769669 [*]\n",
      "                                                    --> (13) |  | data=0.9112488227005393 | grad=-0.8996384897253933 [leaf]\n",
      "                                                    --> (13) |  | data=0.9899271556087488 | grad=0.10568404031665281 [tanh]\n",
      "                                                        --> (14) |  | data=2.643005091544657 | grad=0.002118354850881644 [+]\n",
      "                                                            --> (15) |  | data=1.6439041474853466 | grad=0.002118354850881644 [+]\n",
      "                                                                --> (16) |  | data=-0.737916326786269 | grad=0.002118354850881644 [+]\n",
      "                                                                    --> (17) |  | data=0.32925278837664607 | grad=0.03412709341437927 [leaf]\n",
      "                                                                    --> (17) |  | data=-1.067169115162915 | grad=0.002118354850881644 [*]\n",
      "                                                                        --> (18) |  | data=-0.5335845575814575 | grad=-0.0053090922917333715 [leaf]\n",
      "                                                                        --> (18) |  | data=2.0 | grad=-0.0011303214359082165 [leaf]\n",
      "                                                                --> (16) |  | data=2.3818204742716156 | grad=0.002118354850881644 [*]\n",
      "                                                                    --> (17) |  | data=0.7939401580905385 | grad=0.059201431355879935 [leaf]\n",
      "                                                                    --> (17) |  | data=3.0 | grad=0.0016818469852008316 [leaf]\n",
      "                                                            --> (15) |  | data=0.9991009440593102 | grad=0.002118354850881644 [*]\n",
      "                                                                --> (16) |  | data=-0.9991009440593102 | grad=0.03311233467484536 [leaf]\n",
      "                                                                --> (16) |  | data=-1.0 | grad=-0.0021164503313684697 [leaf]\n",
      "                                            --> (11) |  | data=-0.315860792349979 | grad=-0.5910591376769669 [*]\n",
      "                                                --> (12) |  | data=0.4232833590613765 | grad=0.31416846730067627 [leaf]\n",
      "                                                --> (12) |  | data=-0.7462159463353221 | grad=1.2541065540363343 [tanh]\n",
      "                                                    --> (13) |  | data=-0.9643613431850961 | grad=0.5557720695137691 [+]\n",
      "                                                        --> (14) |  | data=-1.6477972782562869 | grad=0.5557720695137691 [+]\n",
      "                                                            --> (15) |  | data=1.2332090773935087 | grad=0.5557720695137691 [+]\n",
      "                                                                --> (16) |  | data=0.3214205354362061 | grad=1.0230210789820884 [leaf]\n",
      "                                                                --> (16) |  | data=0.9117885419573026 | grad=0.5557720695137691 [*]\n",
      "                                                                    --> (17) |  | data=0.4558942709786513 | grad=1.4554044003648539 [leaf]\n",
      "                                                                    --> (17) |  | data=2.0 | grad=0.2533733024612761 [leaf]\n",
      "                                                            --> (15) |  | data=-2.8810063556497956 | grad=0.5557720695137691 [*]\n",
      "                                                                --> (16) |  | data=-0.9603354518832652 | grad=2.185673652201306 [leaf]\n",
      "                                                                --> (16) |  | data=3.0 | grad=-0.5337276215206029 [leaf]\n",
      "                                                        --> (14) |  | data=0.6834359350711907 | grad=0.5557720695137691 [*]\n",
      "                                                            --> (15) |  | data=-0.6834359350711907 | grad=-0.7722311488685496 [leaf]\n",
      "                                                            --> (15) |  | data=-1.0 | grad=-0.3798346040145936 [leaf]\n",
      "                        --> (6) |  | data=-1.0 | grad=-2.9753316544527304 [leaf]\n",
      "                --> (4) |  | data=0 | grad=1.0 [leaf]\n",
      "            --> (3) |  | data=0.7632767576730483 | grad=1.0 [**2]\n",
      "                --> (4) |  | data=0.8736571167643793 | grad=1.7473142335287586 [+]\n",
      "                    --> (5) |  | data=-0.12634288323562073 | grad=1.7473142335287586 [tanh]\n",
      "                        --> (6) |  | data=-0.12702164649918413 | grad=1.7194226878883947 [+]\n",
      "                            --> (7) |  | data=0.1451850156424448 | grad=1.7194226878883947 [+]\n",
      "                                --> (8) |  | data=-0.2186339326938328 | grad=1.7194226878883947 [+]\n",
      "                                    --> (9) |  | data=-0.48735142236495177 | grad=1.7194226878883947 [+]\n",
      "                                        --> (10) |  | data=-0.31687621552453926 | grad=0.6436828365111071 [leaf]\n",
      "                                        --> (10) |  | data=-0.17047520684041254 | grad=1.7194226878883947 [*]\n",
      "                                            --> (11) |  | data=0.22413086174344388 | grad=-2.6241908698312377 [leaf]\n",
      "                                            --> (11) |  | data=-0.7606056814949054 | grad=0.38537568873765443 [tanh]\n",
      "                                                --> (12) |  | data=-0.9976505527136643 | grad=0.16242775886433827 [+]\n",
      "                                                    --> (13) |  | data=-0.4471958060605394 | grad=0.16242775886433827 [+]\n",
      "                                                        --> (14) |  | data=-0.3940416561848954 | grad=0.16242775886433827 [+]\n",
      "                                                            --> (15) |  | data=0.20439512001924268 | grad=0.16242775886433827 [+]\n",
      "                                                                --> (16) |  | data=0.3534038782599713 | grad=0.040196758021074086 [leaf]\n",
      "                                                                --> (16) |  | data=-0.14900875824072865 | grad=0.16242775886433827 [*]\n",
      "                                                                    --> (17) |  | data=-0.5050089001010039 | grad=0.9010755615108164 [leaf]\n",
      "                                                                    --> (17) |  | data=0.2950616478460603 | grad=1.6245387924761765 [tanh]\n",
      "                                                                        --> (18) |  | data=0.3041016111396738 | grad=1.483104209789683 [+]\n",
      "                                                                            --> (19) |  | data=-0.17661040959126462 | grad=1.483104209789683 [+]\n",
      "                                                                                --> (20) |  | data=-0.18435052950280384 | grad=1.483104209789683 [+]\n",
      "                                                                                    --> (21) |  | data=-0.045574548804440784 | grad=1.691636112669734 [leaf]\n",
      "                                                                                    --> (21) |  | data=-0.13877598069836306 | grad=1.483104209789683 [*]\n",
      "                                                                                        --> (22) |  | data=-0.046258660232787685 | grad=4.1019804653836 [leaf]\n",
      "                                                                                        --> (22) |  | data=3.0 | grad=-0.06860641373047802 [leaf]\n",
      "                                                                                --> (20) |  | data=0.007740119911539223 | grad=1.483104209789683 [*]\n",
      "                                                                                    --> (21) |  | data=-0.007740119911539223 | grad=-1.7435281581008253 [leaf]\n",
      "                                                                                    --> (21) |  | data=-1.0 | grad=-0.01147940442508077 [leaf]\n",
      "                                                                            --> (19) |  | data=0.48071202073093844 | grad=1.483104209789683 [*]\n",
      "                                                                                --> (20) |  | data=0.9614240414618769 | grad=1.8185647670944014 [leaf]\n",
      "                                                                                --> (20) |  | data=0.5 | grad=1.4258920432851203 [leaf]\n",
      "                                                            --> (15) |  | data=-0.598436776204138 | grad=0.16242775886433827 [*]\n",
      "                                                                --> (16) |  | data=0.6893094361452667 | grad=0.05222876474386545 [leaf]\n",
      "                                                                --> (16) |  | data=-0.8681685536624832 | grad=0.6603771924945055 [tanh]\n",
      "                                                                    --> (17) |  | data=-1.3255948309648815 | grad=0.1626399154406815 [+]\n",
      "                                                                        --> (18) |  | data=-1.4336703225876617 | grad=0.1626399154406815 [+]\n",
      "                                                                            --> (19) |  | data=-2.170840222870525 | grad=0.1626399154406815 [+]\n",
      "                                                                                --> (20) |  | data=-0.3994300371099784 | grad=0.49981083702452617 [leaf]\n",
      "                                                                                --> (20) |  | data=-1.7714101857605464 | grad=0.1626399154406815 [*]\n",
      "                                                                                    --> (21) |  | data=-0.5904700619201821 | grad=0.6303616503577171 [leaf]\n",
      "                                                                                    --> (21) |  | data=3.0 | grad=-0.09603400094095238 [leaf]\n",
      "                                                                            --> (19) |  | data=0.7371699002828631 | grad=0.1626399154406815 [*]\n",
      "                                                                                --> (20) |  | data=-0.7371699002828631 | grad=0.1723448412663164 [leaf]\n",
      "                                                                                --> (20) |  | data=-1.0 | grad=-0.11989325024742047 [leaf]\n",
      "                                                                        --> (18) |  | data=0.1080754916227803 | grad=0.1626399154406815 [*]\n",
      "                                                                            --> (19) |  | data=0.2161509832455606 | grad=0.518692776575491 [leaf]\n",
      "                                                                            --> (19) |  | data=0.5 | grad=0.03515477763747814 [leaf]\n",
      "                                                        --> (14) |  | data=-0.053154149875644 | grad=0.16242775886433827 [*]\n",
      "                                                            --> (15) |  | data=0.05378688370599782 | grad=-0.831301111109401 [leaf]\n",
      "                                                            --> (15) |  | data=-0.9882362801717165 | grad=-0.44545683095230426 [tanh]\n",
      "                                                                --> (16) |  | data=-2.5649915144879203 | grad=-0.010418814119868688 [+]\n",
      "                                                                    --> (17) |  | data=-2.065441042458265 | grad=-0.010418814119868688 [+]\n",
      "                                                                        --> (18) |  | data=-1.2715008843677265 | grad=-0.010418814119868688 [+]\n",
      "                                                                            --> (19) |  | data=0.32925278837664607 | grad=0.03412709341437927 [leaf]\n",
      "                                                                            --> (19) |  | data=-1.6007536727443725 | grad=-0.010418814119868688 [*]\n",
      "                                                                                --> (20) |  | data=-0.5335845575814575 | grad=-0.0053090922917333715 [leaf]\n",
      "                                                                                --> (20) |  | data=3.0 | grad=0.005559318322673577 [leaf]\n",
      "                                                                        --> (18) |  | data=-0.7939401580905385 | grad=-0.010418814119868688 [*]\n",
      "                                                                            --> (19) |  | data=0.7939401580905385 | grad=0.059201431355879935 [leaf]\n",
      "                                                                            --> (19) |  | data=-1.0 | grad=-0.008271914929444481 [leaf]\n",
      "                                                                    --> (17) |  | data=-0.4995504720296551 | grad=-0.010418814119868688 [*]\n",
      "                                                                        --> (18) |  | data=-0.9991009440593102 | grad=0.03311233467484536 [leaf]\n",
      "                                                                        --> (18) |  | data=0.5 | grad=0.010409447023139277 [leaf]\n",
      "                                                    --> (13) |  | data=-0.5504547466531249 | grad=0.16242775886433827 [*]\n",
      "                                                        --> (14) |  | data=-0.5614602712600252 | grad=-0.06588612449126069 [leaf]\n",
      "                                                        --> (14) |  | data=0.9803983911769896 | grad=-0.6582915753981099 [tanh]\n",
      "                                                            --> (15) |  | data=2.30772083271983 | grad=-0.025554217095839597 [+]\n",
      "                                                                --> (16) |  | data=2.6494388002554254 | grad=-0.025554217095839597 [+]\n",
      "                                                                    --> (17) |  | data=1.68910334837216 | grad=-0.025554217095839597 [+]\n",
      "                                                                        --> (18) |  | data=0.3214205354362061 | grad=1.0230210789820884 [leaf]\n",
      "                                                                        --> (18) |  | data=1.367682812935954 | grad=-0.025554217095839597 [*]\n",
      "                                                                            --> (19) |  | data=0.4558942709786513 | grad=1.4554044003648539 [leaf]\n",
      "                                                                            --> (19) |  | data=3.0 | grad=-0.011650021173337981 [leaf]\n",
      "                                                                    --> (17) |  | data=0.9603354518832652 | grad=-0.025554217095839597 [*]\n",
      "                                                                        --> (18) |  | data=-0.9603354518832652 | grad=2.185673652201306 [leaf]\n",
      "                                                                        --> (18) |  | data=-1.0 | grad=0.02454062062225618 [leaf]\n",
      "                                                                --> (16) |  | data=-0.34171796753559536 | grad=-0.025554217095839597 [*]\n",
      "                                                                    --> (17) |  | data=-0.6834359350711907 | grad=-0.7722311488685496 [leaf]\n",
      "                                                                    --> (17) |  | data=0.5 | grad=0.017464670255907342 [leaf]\n",
      "                                    --> (9) |  | data=0.26871748967111897 | grad=1.7194226878883947 [*]\n",
      "                                        --> (10) |  | data=-0.7246566872086664 | grad=-3.1204451714133055 [leaf]\n",
      "                                        --> (10) |  | data=-0.370820409739407 | grad=-1.2459911489166249 [tanh]\n",
      "                                            --> (11) |  | data=-0.38937397287985387 | grad=-1.0746576767654077 [+]\n",
      "                                                --> (12) |  | data=0.12739839906036876 | grad=-1.0746576767654077 [+]\n",
      "                                                    --> (13) |  | data=0.08122002844311227 | grad=-1.0746576767654077 [+]\n",
      "                                                        --> (14) |  | data=-0.42561666890770455 | grad=-1.0746576767654077 [+]\n",
      "                                                            --> (15) |  | data=-0.16494962218162934 | grad=-1.9537464124926742 [leaf]\n",
      "                                                            --> (15) |  | data=-0.2606670467260752 | grad=-1.0746576767654077 [*]\n",
      "                                                                --> (16) |  | data=-0.8834324915790837 | grad=-2.0633122056382445 [leaf]\n",
      "                                                                --> (16) |  | data=0.2950616478460603 | grad=1.6245387924761765 [tanh]\n",
      "                                                                    --> (17) |  | data=0.3041016111396738 | grad=1.483104209789683 [+]\n",
      "                                                                        --> (18) |  | data=-0.17661040959126462 | grad=1.483104209789683 [+]\n",
      "                                                                            --> (19) |  | data=-0.18435052950280384 | grad=1.483104209789683 [+]\n",
      "                                                                                --> (20) |  | data=-0.045574548804440784 | grad=1.691636112669734 [leaf]\n",
      "                                                                                --> (20) |  | data=-0.13877598069836306 | grad=1.483104209789683 [*]\n",
      "                                                                                    --> (21) |  | data=-0.046258660232787685 | grad=4.1019804653836 [leaf]\n",
      "                                                                                    --> (21) |  | data=3.0 | grad=-0.06860641373047802 [leaf]\n",
      "                                                                            --> (19) |  | data=0.007740119911539223 | grad=1.483104209789683 [*]\n",
      "                                                                                --> (20) |  | data=-0.007740119911539223 | grad=-1.7435281581008253 [leaf]\n",
      "                                                                                --> (20) |  | data=-1.0 | grad=-0.01147940442508077 [leaf]\n",
      "                                                                        --> (18) |  | data=0.48071202073093844 | grad=1.483104209789683 [*]\n",
      "                                                                            --> (19) |  | data=0.9614240414618769 | grad=1.8185647670944014 [leaf]\n",
      "                                                                            --> (19) |  | data=0.5 | grad=1.4258920432851203 [leaf]\n",
      "                                                        --> (14) |  | data=0.5068366973508168 | grad=-1.0746576767654077 [*]\n",
      "                                                            --> (15) |  | data=-0.5837998798881388 | grad=1.5671650785860847 [leaf]\n",
      "                                                            --> (15) |  | data=-0.8681685536624832 | grad=0.6603771924945055 [tanh]\n",
      "                                                                --> (16) |  | data=-1.3255948309648815 | grad=0.1626399154406815 [+]\n",
      "                                                                    --> (17) |  | data=-1.4336703225876617 | grad=0.1626399154406815 [+]\n",
      "                                                                        --> (18) |  | data=-2.170840222870525 | grad=0.1626399154406815 [+]\n",
      "                                                                            --> (19) |  | data=-0.3994300371099784 | grad=0.49981083702452617 [leaf]\n",
      "                                                                            --> (19) |  | data=-1.7714101857605464 | grad=0.1626399154406815 [*]\n",
      "                                                                                --> (20) |  | data=-0.5904700619201821 | grad=0.6303616503577171 [leaf]\n",
      "                                                                                --> (20) |  | data=3.0 | grad=-0.09603400094095238 [leaf]\n",
      "                                                                        --> (18) |  | data=0.7371699002828631 | grad=0.1626399154406815 [*]\n",
      "                                                                            --> (19) |  | data=-0.7371699002828631 | grad=0.1723448412663164 [leaf]\n",
      "                                                                            --> (19) |  | data=-1.0 | grad=-0.11989325024742047 [leaf]\n",
      "                                                                    --> (17) |  | data=0.1080754916227803 | grad=0.1626399154406815 [*]\n",
      "                                                                        --> (18) |  | data=0.2161509832455606 | grad=0.518692776575491 [leaf]\n",
      "                                                                        --> (18) |  | data=0.5 | grad=0.03515477763747814 [leaf]\n",
      "                                                    --> (13) |  | data=0.0461783706172565 | grad=-1.0746576767654077 [*]\n",
      "                                                        --> (14) |  | data=-0.04672806649967609 | grad=2.000812942875408 [leaf]\n",
      "                                                        --> (14) |  | data=-0.9882362801717165 | grad=-0.44545683095230426 [tanh]\n",
      "                                                            --> (15) |  | data=-2.5649915144879203 | grad=-0.010418814119868688 [+]\n",
      "                                                                --> (16) |  | data=-2.065441042458265 | grad=-0.010418814119868688 [+]\n",
      "                                                                    --> (17) |  | data=-1.2715008843677265 | grad=-0.010418814119868688 [+]\n",
      "                                                                        --> (18) |  | data=0.32925278837664607 | grad=0.03412709341437927 [leaf]\n",
      "                                                                        --> (18) |  | data=-1.6007536727443725 | grad=-0.010418814119868688 [*]\n",
      "                                                                            --> (19) |  | data=-0.5335845575814575 | grad=-0.0053090922917333715 [leaf]\n",
      "                                                                            --> (19) |  | data=3.0 | grad=0.005559318322673577 [leaf]\n",
      "                                                                    --> (17) |  | data=-0.7939401580905385 | grad=-0.010418814119868688 [*]\n",
      "                                                                        --> (18) |  | data=0.7939401580905385 | grad=0.059201431355879935 [leaf]\n",
      "                                                                        --> (18) |  | data=-1.0 | grad=-0.008271914929444481 [leaf]\n",
      "                                                                --> (16) |  | data=-0.4995504720296551 | grad=-0.010418814119868688 [*]\n",
      "                                                                    --> (17) |  | data=-0.9991009440593102 | grad=0.03311233467484536 [leaf]\n",
      "                                                                    --> (17) |  | data=0.5 | grad=0.010409447023139277 [leaf]\n",
      "                                                --> (12) |  | data=-0.5167723719402226 | grad=-1.0746576767654077 [*]\n",
      "                                                    --> (13) |  | data=-0.5271044675214391 | grad=0.21747269368062103 [leaf]\n",
      "                                                    --> (13) |  | data=0.9803983911769896 | grad=-0.6582915753981099 [tanh]\n",
      "                                                        --> (14) |  | data=2.30772083271983 | grad=-0.025554217095839597 [+]\n",
      "                                                            --> (15) |  | data=2.6494388002554254 | grad=-0.025554217095839597 [+]\n",
      "                                                                --> (16) |  | data=1.68910334837216 | grad=-0.025554217095839597 [+]\n",
      "                                                                    --> (17) |  | data=0.3214205354362061 | grad=1.0230210789820884 [leaf]\n",
      "                                                                    --> (17) |  | data=1.367682812935954 | grad=-0.025554217095839597 [*]\n",
      "                                                                        --> (18) |  | data=0.4558942709786513 | grad=1.4554044003648539 [leaf]\n",
      "                                                                        --> (18) |  | data=3.0 | grad=-0.011650021173337981 [leaf]\n",
      "                                                                --> (16) |  | data=0.9603354518832652 | grad=-0.025554217095839597 [*]\n",
      "                                                                    --> (17) |  | data=-0.9603354518832652 | grad=2.185673652201306 [leaf]\n",
      "                                                                    --> (17) |  | data=-1.0 | grad=0.02454062062225618 [leaf]\n",
      "                                                            --> (15) |  | data=-0.34171796753559536 | grad=-0.025554217095839597 [*]\n",
      "                                                                --> (16) |  | data=-0.6834359350711907 | grad=-0.7722311488685496 [leaf]\n",
      "                                                                --> (16) |  | data=0.5 | grad=0.017464670255907342 [leaf]\n",
      "                                --> (8) |  | data=0.3638189483362776 | grad=1.7194226878883947 [*]\n",
      "                                    --> (9) |  | data=-0.9445402223441266 | grad=-2.353192656882509 [leaf]\n",
      "                                    --> (9) |  | data=-0.38518100100953306 | grad=-1.62406388792164 [tanh]\n",
      "                                        --> (10) |  | data=-0.40612909141405673 | grad=-1.383110617881394 [+]\n",
      "                                            --> (11) |  | data=-1.2205662618908222 | grad=-1.383110617881394 [+]\n",
      "                                                --> (12) |  | data=-0.8364345943585988 | grad=-1.383110617881394 [+]\n",
      "                                                    --> (13) |  | data=-0.766531069506861 | grad=-1.383110617881394 [+]\n",
      "                                                        --> (14) |  | data=-0.5998886880201793 | grad=0.9366708291651445 [leaf]\n",
      "                                                        --> (14) |  | data=-0.1666423814866818 | grad=-1.383110617881394 [*]\n",
      "                                                            --> (15) |  | data=-0.5647714052407873 | grad=-2.6129224193481964 [leaf]\n",
      "                                                            --> (15) |  | data=0.2950616478460603 | grad=1.6245387924761765 [tanh]\n",
      "                                                                --> (16) |  | data=0.3041016111396738 | grad=1.483104209789683 [+]\n",
      "                                                                    --> (17) |  | data=-0.17661040959126462 | grad=1.483104209789683 [+]\n",
      "                                                                        --> (18) |  | data=-0.18435052950280384 | grad=1.483104209789683 [+]\n",
      "                                                                            --> (19) |  | data=-0.045574548804440784 | grad=1.691636112669734 [leaf]\n",
      "                                                                            --> (19) |  | data=-0.13877598069836306 | grad=1.483104209789683 [*]\n",
      "                                                                                --> (20) |  | data=-0.046258660232787685 | grad=4.1019804653836 [leaf]\n",
      "                                                                                --> (20) |  | data=3.0 | grad=-0.06860641373047802 [leaf]\n",
      "                                                                        --> (18) |  | data=0.007740119911539223 | grad=1.483104209789683 [*]\n",
      "                                                                            --> (19) |  | data=-0.007740119911539223 | grad=-1.7435281581008253 [leaf]\n",
      "                                                                            --> (19) |  | data=-1.0 | grad=-0.01147940442508077 [leaf]\n",
      "                                                                    --> (17) |  | data=0.48071202073093844 | grad=1.483104209789683 [*]\n",
      "                                                                        --> (18) |  | data=0.9614240414618769 | grad=1.8185647670944014 [leaf]\n",
      "                                                                        --> (18) |  | data=0.5 | grad=1.4258920432851203 [leaf]\n",
      "                                                    --> (13) |  | data=-0.06990352485173774 | grad=-1.383110617881394 [*]\n",
      "                                                        --> (14) |  | data=0.08051837924426142 | grad=-1.1226265619768534 [leaf]\n",
      "                                                        --> (14) |  | data=-0.8681685536624832 | grad=0.6603771924945055 [tanh]\n",
      "                                                            --> (15) |  | data=-1.3255948309648815 | grad=0.1626399154406815 [+]\n",
      "                                                                --> (16) |  | data=-1.4336703225876617 | grad=0.1626399154406815 [+]\n",
      "                                                                    --> (17) |  | data=-2.170840222870525 | grad=0.1626399154406815 [+]\n",
      "                                                                        --> (18) |  | data=-0.3994300371099784 | grad=0.49981083702452617 [leaf]\n",
      "                                                                        --> (18) |  | data=-1.7714101857605464 | grad=0.1626399154406815 [*]\n",
      "                                                                            --> (19) |  | data=-0.5904700619201821 | grad=0.6303616503577171 [leaf]\n",
      "                                                                            --> (19) |  | data=3.0 | grad=-0.09603400094095238 [leaf]\n",
      "                                                                    --> (17) |  | data=0.7371699002828631 | grad=0.1626399154406815 [*]\n",
      "                                                                        --> (18) |  | data=-0.7371699002828631 | grad=0.1723448412663164 [leaf]\n",
      "                                                                        --> (18) |  | data=-1.0 | grad=-0.11989325024742047 [leaf]\n",
      "                                                                --> (16) |  | data=0.1080754916227803 | grad=0.1626399154406815 [*]\n",
      "                                                                    --> (17) |  | data=0.2161509832455606 | grad=0.518692776575491 [leaf]\n",
      "                                                                    --> (17) |  | data=0.5 | grad=0.03515477763747814 [leaf]\n",
      "                                                --> (12) |  | data=-0.3841316675322233 | grad=-1.383110617881394 [*]\n",
      "                                                    --> (13) |  | data=0.38870427572794264 | grad=3.86615980176846 [leaf]\n",
      "                                                    --> (13) |  | data=-0.9882362801717165 | grad=-0.44545683095230426 [tanh]\n",
      "                                                        --> (14) |  | data=-2.5649915144879203 | grad=-0.010418814119868688 [+]\n",
      "                                                            --> (15) |  | data=-2.065441042458265 | grad=-0.010418814119868688 [+]\n",
      "                                                                --> (16) |  | data=-1.2715008843677265 | grad=-0.010418814119868688 [+]\n",
      "                                                                    --> (17) |  | data=0.32925278837664607 | grad=0.03412709341437927 [leaf]\n",
      "                                                                    --> (17) |  | data=-1.6007536727443725 | grad=-0.010418814119868688 [*]\n",
      "                                                                        --> (18) |  | data=-0.5335845575814575 | grad=-0.0053090922917333715 [leaf]\n",
      "                                                                        --> (18) |  | data=3.0 | grad=0.005559318322673577 [leaf]\n",
      "                                                                --> (16) |  | data=-0.7939401580905385 | grad=-0.010418814119868688 [*]\n",
      "                                                                    --> (17) |  | data=0.7939401580905385 | grad=0.059201431355879935 [leaf]\n",
      "                                                                    --> (17) |  | data=-1.0 | grad=-0.008271914929444481 [leaf]\n",
      "                                                            --> (15) |  | data=-0.4995504720296551 | grad=-0.010418814119868688 [*]\n",
      "                                                                --> (16) |  | data=-0.9991009440593102 | grad=0.03311233467484536 [leaf]\n",
      "                                                                --> (16) |  | data=0.5 | grad=0.010409447023139277 [leaf]\n",
      "                                            --> (11) |  | data=0.8144371704767654 | grad=-1.383110617881394 [*]\n",
      "                                                --> (12) |  | data=0.8307206313333664 | grad=-2.1068467113090854 [leaf]\n",
      "                                                --> (12) |  | data=0.9803983911769896 | grad=-0.6582915753981099 [tanh]\n",
      "                                                    --> (13) |  | data=2.30772083271983 | grad=-0.025554217095839597 [+]\n",
      "                                                        --> (14) |  | data=2.6494388002554254 | grad=-0.025554217095839597 [+]\n",
      "                                                            --> (15) |  | data=1.68910334837216 | grad=-0.025554217095839597 [+]\n",
      "                                                                --> (16) |  | data=0.3214205354362061 | grad=1.0230210789820884 [leaf]\n",
      "                                                                --> (16) |  | data=1.367682812935954 | grad=-0.025554217095839597 [*]\n",
      "                                                                    --> (17) |  | data=0.4558942709786513 | grad=1.4554044003648539 [leaf]\n",
      "                                                                    --> (17) |  | data=3.0 | grad=-0.011650021173337981 [leaf]\n",
      "                                                            --> (15) |  | data=0.9603354518832652 | grad=-0.025554217095839597 [*]\n",
      "                                                                --> (16) |  | data=-0.9603354518832652 | grad=2.185673652201306 [leaf]\n",
      "                                                                --> (16) |  | data=-1.0 | grad=0.02454062062225618 [leaf]\n",
      "                                                        --> (14) |  | data=-0.34171796753559536 | grad=-0.025554217095839597 [*]\n",
      "                                                            --> (15) |  | data=-0.6834359350711907 | grad=-0.7722311488685496 [leaf]\n",
      "                                                            --> (15) |  | data=0.5 | grad=0.017464670255907342 [leaf]\n",
      "                            --> (7) |  | data=-0.2722066621416289 | grad=1.7194226878883947 [*]\n",
      "                                --> (8) |  | data=0.28301111380997157 | grad=-3.432373781799989 [leaf]\n",
      "                                --> (8) |  | data=-0.9618232248094776 | grad=0.4866157300094297 [tanh]\n",
      "                                    --> (9) |  | data=-1.9697010925840748 | grad=0.03644561269615045 [+]\n",
      "                                        --> (10) |  | data=-2.3846874168198404 | grad=0.03644561269615045 [+]\n",
      "                                            --> (11) |  | data=-1.4841582699634033 | grad=0.03644561269615045 [+]\n",
      "                                                --> (12) |  | data=-0.712478899154732 | grad=0.03644561269615045 [+]\n",
      "                                                    --> (13) |  | data=-0.5184791885148541 | grad=-0.8214754027484394 [leaf]\n",
      "                                                    --> (13) |  | data=-0.19399971063987792 | grad=0.03644561269615045 [*]\n",
      "                                                        --> (14) |  | data=-0.6574887385604635 | grad=0.7448911553883564 [leaf]\n",
      "                                                        --> (14) |  | data=0.2950616478460603 | grad=1.6245387924761765 [tanh]\n",
      "                                                            --> (15) |  | data=0.3041016111396738 | grad=1.483104209789683 [+]\n",
      "                                                                --> (16) |  | data=-0.17661040959126462 | grad=1.483104209789683 [+]\n",
      "                                                                    --> (17) |  | data=-0.18435052950280384 | grad=1.483104209789683 [+]\n",
      "                                                                        --> (18) |  | data=-0.045574548804440784 | grad=1.691636112669734 [leaf]\n",
      "                                                                        --> (18) |  | data=-0.13877598069836306 | grad=1.483104209789683 [*]\n",
      "                                                                            --> (19) |  | data=-0.046258660232787685 | grad=4.1019804653836 [leaf]\n",
      "                                                                            --> (19) |  | data=3.0 | grad=-0.06860641373047802 [leaf]\n",
      "                                                                    --> (17) |  | data=0.007740119911539223 | grad=1.483104209789683 [*]\n",
      "                                                                        --> (18) |  | data=-0.007740119911539223 | grad=-1.7435281581008253 [leaf]\n",
      "                                                                        --> (18) |  | data=-1.0 | grad=-0.01147940442508077 [leaf]\n",
      "                                                                --> (16) |  | data=0.48071202073093844 | grad=1.483104209789683 [*]\n",
      "                                                                    --> (17) |  | data=0.9614240414618769 | grad=1.8185647670944014 [leaf]\n",
      "                                                                    --> (17) |  | data=0.5 | grad=1.4258920432851203 [leaf]\n",
      "                                                --> (12) |  | data=-0.7716793708086713 | grad=0.03644561269615045 [*]\n",
      "                                                    --> (13) |  | data=0.8888589290100872 | grad=0.8189347375273707 [leaf]\n",
      "                                                    --> (13) |  | data=-0.8681685536624832 | grad=0.6603771924945055 [tanh]\n",
      "                                                        --> (14) |  | data=-1.3255948309648815 | grad=0.1626399154406815 [+]\n",
      "                                                            --> (15) |  | data=-1.4336703225876617 | grad=0.1626399154406815 [+]\n",
      "                                                                --> (16) |  | data=-2.170840222870525 | grad=0.1626399154406815 [+]\n",
      "                                                                    --> (17) |  | data=-0.3994300371099784 | grad=0.49981083702452617 [leaf]\n",
      "                                                                    --> (17) |  | data=-1.7714101857605464 | grad=0.1626399154406815 [*]\n",
      "                                                                        --> (18) |  | data=-0.5904700619201821 | grad=0.6303616503577171 [leaf]\n",
      "                                                                        --> (18) |  | data=3.0 | grad=-0.09603400094095238 [leaf]\n",
      "                                                                --> (16) |  | data=0.7371699002828631 | grad=0.1626399154406815 [*]\n",
      "                                                                    --> (17) |  | data=-0.7371699002828631 | grad=0.1723448412663164 [leaf]\n",
      "                                                                    --> (17) |  | data=-1.0 | grad=-0.11989325024742047 [leaf]\n",
      "                                                            --> (15) |  | data=0.1080754916227803 | grad=0.1626399154406815 [*]\n",
      "                                                                --> (16) |  | data=0.2161509832455606 | grad=0.518692776575491 [leaf]\n",
      "                                                                --> (16) |  | data=0.5 | grad=0.03515477763747814 [leaf]\n",
      "                                            --> (11) |  | data=-0.9005291468564369 | grad=0.03644561269615045 [*]\n",
      "                                                --> (12) |  | data=0.9112488227005393 | grad=-0.8996384897253933 [leaf]\n",
      "                                                --> (12) |  | data=-0.9882362801717165 | grad=-0.44545683095230426 [tanh]\n",
      "                                                    --> (13) |  | data=-2.5649915144879203 | grad=-0.010418814119868688 [+]\n",
      "                                                        --> (14) |  | data=-2.065441042458265 | grad=-0.010418814119868688 [+]\n",
      "                                                            --> (15) |  | data=-1.2715008843677265 | grad=-0.010418814119868688 [+]\n",
      "                                                                --> (16) |  | data=0.32925278837664607 | grad=0.03412709341437927 [leaf]\n",
      "                                                                --> (16) |  | data=-1.6007536727443725 | grad=-0.010418814119868688 [*]\n",
      "                                                                    --> (17) |  | data=-0.5335845575814575 | grad=-0.0053090922917333715 [leaf]\n",
      "                                                                    --> (17) |  | data=3.0 | grad=0.005559318322673577 [leaf]\n",
      "                                                            --> (15) |  | data=-0.7939401580905385 | grad=-0.010418814119868688 [*]\n",
      "                                                                --> (16) |  | data=0.7939401580905385 | grad=0.059201431355879935 [leaf]\n",
      "                                                                --> (16) |  | data=-1.0 | grad=-0.008271914929444481 [leaf]\n",
      "                                                        --> (14) |  | data=-0.4995504720296551 | grad=-0.010418814119868688 [*]\n",
      "                                                            --> (15) |  | data=-0.9991009440593102 | grad=0.03311233467484536 [leaf]\n",
      "                                                            --> (15) |  | data=0.5 | grad=0.010409447023139277 [leaf]\n",
      "                                        --> (10) |  | data=0.41498632423576554 | grad=0.03644561269615045 [*]\n",
      "                                            --> (11) |  | data=0.4232833590613765 | grad=0.31416846730067627 [leaf]\n",
      "                                            --> (11) |  | data=0.9803983911769896 | grad=-0.6582915753981099 [tanh]\n",
      "                                                --> (12) |  | data=2.30772083271983 | grad=-0.025554217095839597 [+]\n",
      "                                                    --> (13) |  | data=2.6494388002554254 | grad=-0.025554217095839597 [+]\n",
      "                                                        --> (14) |  | data=1.68910334837216 | grad=-0.025554217095839597 [+]\n",
      "                                                            --> (15) |  | data=0.3214205354362061 | grad=1.0230210789820884 [leaf]\n",
      "                                                            --> (15) |  | data=1.367682812935954 | grad=-0.025554217095839597 [*]\n",
      "                                                                --> (16) |  | data=0.4558942709786513 | grad=1.4554044003648539 [leaf]\n",
      "                                                                --> (16) |  | data=3.0 | grad=-0.011650021173337981 [leaf]\n",
      "                                                        --> (14) |  | data=0.9603354518832652 | grad=-0.025554217095839597 [*]\n",
      "                                                            --> (15) |  | data=-0.9603354518832652 | grad=2.185673652201306 [leaf]\n",
      "                                                            --> (15) |  | data=-1.0 | grad=0.02454062062225618 [leaf]\n",
      "                                                    --> (13) |  | data=-0.34171796753559536 | grad=-0.025554217095839597 [*]\n",
      "                                                        --> (14) |  | data=-0.6834359350711907 | grad=-0.7722311488685496 [leaf]\n",
      "                                                        --> (14) |  | data=0.5 | grad=0.017464670255907342 [leaf]\n",
      "                    --> (5) |  | data=1.0 | grad=1.7473142335287586 [leaf]\n",
      "        --> (2) |  | data=1.3827189261033463 | grad=1.0 [**2]\n",
      "            --> (3) |  | data=1.175890694794098 | grad=2.351781389588196 [+]\n",
      "                --> (4) |  | data=0.1758906947940979 | grad=2.351781389588196 [tanh]\n",
      "                    --> (5) |  | data=0.1777390022371103 | grad=2.2790230669721594 [+]\n",
      "                        --> (6) |  | data=0.4538432242202545 | grad=2.2790230669721594 [+]\n",
      "                            --> (7) |  | data=-0.43908262531112857 | grad=2.2790230669721594 [+]\n",
      "                                --> (8) |  | data=-0.34844873796464726 | grad=2.2790230669721594 [+]\n",
      "                                    --> (9) |  | data=-0.31687621552453926 | grad=0.6436828365111071 [leaf]\n",
      "                                    --> (9) |  | data=-0.03157252244010798 | grad=2.2790230669721594 [*]\n",
      "                                        --> (10) |  | data=0.22413086174344388 | grad=-2.6241908698312377 [leaf]\n",
      "                                        --> (10) |  | data=-0.1408664661105356 | grad=0.5107994039336565 [tanh]\n",
      "                                            --> (11) |  | data=-0.141809474028116 | grad=0.5006634268226167 [+]\n",
      "                                                --> (12) |  | data=-0.5901241616823419 | grad=0.5006634268226167 [+]\n",
      "                                                    --> (13) |  | data=-0.5825004366382244 | grad=0.5006634268226167 [+]\n",
      "                                                        --> (14) |  | data=-0.0045996653470901094 | grad=0.5006634268226167 [+]\n",
      "                                                            --> (15) |  | data=0.3534038782599713 | grad=0.040196758021074086 [leaf]\n",
      "                                                            --> (15) |  | data=-0.35800354360706144 | grad=0.5006634268226167 [*]\n",
      "                                                                --> (16) |  | data=-0.5050089001010039 | grad=0.9010755615108164 [leaf]\n",
      "                                                                --> (16) |  | data=0.7089054144104376 | grad=1.2921263636713307 [tanh]\n",
      "                                                                    --> (17) |  | data=0.884980042629503 | grad=0.6427722825398055 [+]\n",
      "                                                                        --> (18) |  | data=-0.07644399883237385 | grad=0.6427722825398055 [+]\n",
      "                                                                            --> (19) |  | data=-0.06870387892083463 | grad=0.6427722825398055 [+]\n",
      "                                                                                --> (20) |  | data=-0.045574548804440784 | grad=1.691636112669734 [leaf]\n",
      "                                                                                --> (20) |  | data=-0.023129330116393843 | grad=0.6427722825398055 [*]\n",
      "                                                                                    --> (21) |  | data=-0.046258660232787685 | grad=4.1019804653836 [leaf]\n",
      "                                                                                    --> (21) |  | data=0.5 | grad=-0.02973378462506227 [leaf]\n",
      "                                                                            --> (19) |  | data=-0.007740119911539223 | grad=0.6427722825398055 [*]\n",
      "                                                                                --> (20) |  | data=-0.007740119911539223 | grad=-1.7435281581008253 [leaf]\n",
      "                                                                                --> (20) |  | data=1.0 | grad=-0.004975134542671863 [leaf]\n",
      "                                                                        --> (18) |  | data=0.9614240414618769 | grad=0.6427722825398055 [*]\n",
      "                                                                            --> (19) |  | data=0.9614240414618769 | grad=1.8185647670944014 [leaf]\n",
      "                                                                            --> (19) |  | data=1.0 | grad=0.6179767256190951 [leaf]\n",
      "                                                        --> (14) |  | data=-0.5779007712911343 | grad=0.5006634268226167 [*]\n",
      "                                                            --> (15) |  | data=0.6893094361452667 | grad=0.05222876474386545 [leaf]\n",
      "                                                            --> (15) |  | data=-0.8383764112135933 | grad=1.3033971533397293 [tanh]\n",
      "                                                                --> (16) |  | data=-1.215683985107372 | grad=0.38727187021949744 [+]\n",
      "                                                                    --> (17) |  | data=-1.4318349683529326 | grad=0.38727187021949744 [+]\n",
      "                                                                        --> (18) |  | data=-0.6946650680700694 | grad=0.38727187021949744 [+]\n",
      "                                                                            --> (19) |  | data=-0.3994300371099784 | grad=0.49981083702452617 [leaf]\n",
      "                                                                            --> (19) |  | data=-0.29523503096009107 | grad=0.38727187021949744 [*]\n",
      "                                                                                --> (20) |  | data=-0.5904700619201821 | grad=0.6303616503577171 [leaf]\n",
      "                                                                                --> (20) |  | data=0.5 | grad=-0.2286724451884514 [leaf]\n",
      "                                                                        --> (18) |  | data=-0.7371699002828631 | grad=0.38727187021949744 [*]\n",
      "                                                                            --> (19) |  | data=-0.7371699002828631 | grad=0.1723448412663164 [leaf]\n",
      "                                                                            --> (19) |  | data=1.0 | grad=-0.28548516595206486 [leaf]\n",
      "                                                                    --> (17) |  | data=0.2161509832455606 | grad=0.38727187021949744 [*]\n",
      "                                                                        --> (18) |  | data=0.2161509832455606 | grad=0.518692776575491 [leaf]\n",
      "                                                                        --> (18) |  | data=1.0 | grad=0.08370919553129151 [leaf]\n",
      "                                                    --> (13) |  | data=-0.007623725044117539 | grad=0.5006634268226167 [*]\n",
      "                                                        --> (14) |  | data=0.05378688370599782 | grad=-0.831301111109401 [leaf]\n",
      "                                                        --> (14) |  | data=-0.14173948217169924 | grad=0.04228329953900958 [tanh]\n",
      "                                                            --> (15) |  | data=-0.14270027638285432 | grad=0.04143382463451383 [+]\n",
      "                                                                --> (16) |  | data=0.8564006676764558 | grad=0.04143382463451383 [+]\n",
      "                                                                    --> (17) |  | data=0.06246050958591731 | grad=0.04143382463451383 [+]\n",
      "                                                                        --> (18) |  | data=0.32925278837664607 | grad=0.03412709341437927 [leaf]\n",
      "                                                                        --> (18) |  | data=-0.26679227879072875 | grad=0.04143382463451383 [*]\n",
      "                                                                            --> (19) |  | data=-0.5335845575814575 | grad=-0.0053090922917333715 [leaf]\n",
      "                                                                            --> (19) |  | data=0.5 | grad=-0.022108448986514758 [leaf]\n",
      "                                                                    --> (17) |  | data=0.7939401580905385 | grad=0.04143382463451383 [*]\n",
      "                                                                        --> (18) |  | data=0.7939401580905385 | grad=0.059201431355879935 [leaf]\n",
      "                                                                        --> (18) |  | data=1.0 | grad=0.03289597728062156 [leaf]\n",
      "                                                                --> (16) |  | data=-0.9991009440593102 | grad=0.04143382463451383 [*]\n",
      "                                                                    --> (17) |  | data=-0.9991009440593102 | grad=0.03311233467484536 [leaf]\n",
      "                                                                    --> (17) |  | data=1.0 | grad=-0.04139657330833067 [leaf]\n",
      "                                                --> (12) |  | data=0.44831468765422594 | grad=0.5006634268226167 [*]\n",
      "                                                    --> (13) |  | data=-0.5614602712600252 | grad=-0.06588612449126069 [leaf]\n",
      "                                                    --> (13) |  | data=-0.7984798045427529 | grad=0.39886495926295895 [tanh]\n",
      "                                                        --> (14) |  | data=-1.0944037160289242 | grad=0.14456062787864907 [+]\n",
      "                                                            --> (15) |  | data=-0.41096778095773345 | grad=0.14456062787864907 [+]\n",
      "                                                                --> (16) |  | data=0.5493676709255317 | grad=0.14456062787864907 [+]\n",
      "                                                                    --> (17) |  | data=0.3214205354362061 | grad=1.0230210789820884 [leaf]\n",
      "                                                                    --> (17) |  | data=0.22794713548932566 | grad=0.14456062787864907 [*]\n",
      "                                                                        --> (18) |  | data=0.4558942709786513 | grad=1.4554044003648539 [leaf]\n",
      "                                                                        --> (18) |  | data=0.5 | grad=0.06590436205895281 [leaf]\n",
      "                                                                --> (16) |  | data=-0.9603354518832652 | grad=0.14456062787864907 [*]\n",
      "                                                                    --> (17) |  | data=-0.9603354518832652 | grad=2.185673652201306 [leaf]\n",
      "                                                                    --> (17) |  | data=1.0 | grad=-0.138826695898371 [leaf]\n",
      "                                                            --> (15) |  | data=-0.6834359350711907 | grad=0.14456062787864907 [*]\n",
      "                                                                --> (16) |  | data=-0.6834359350711907 | grad=-0.7722311488685496 [leaf]\n",
      "                                                                --> (16) |  | data=1.0 | grad=-0.09879792788872296 [leaf]\n",
      "                                --> (8) |  | data=-0.0906338873464813 | grad=2.2790230669721594 [*]\n",
      "                                    --> (9) |  | data=-0.7246566872086664 | grad=-3.1204451714133055 [leaf]\n",
      "                                    --> (9) |  | data=0.12507148411973887 | grad=-1.6515093057841796 [tanh]\n",
      "                                        --> (10) |  | data=0.12572983358807888 | grad=-1.6256749502698822 [+]\n",
      "                                            --> (11) |  | data=-0.2951524386120517 | grad=-1.6256749502698822 [+]\n",
      "                                                --> (12) |  | data=-0.3017756505606005 | grad=-1.6256749502698822 [+]\n",
      "                                                    --> (13) |  | data=-0.7912196987281451 | grad=-1.6256749502698822 [+]\n",
      "                                                        --> (14) |  | data=-0.16494962218162934 | grad=-1.9537464124926742 [leaf]\n",
      "                                                        --> (14) |  | data=-0.6262700765465158 | grad=-1.6256749502698822 [*]\n",
      "                                                            --> (15) |  | data=-0.8834324915790837 | grad=-2.0633122056382445 [leaf]\n",
      "                                                            --> (15) |  | data=0.7089054144104376 | grad=1.2921263636713307 [tanh]\n",
      "                                                                --> (16) |  | data=0.884980042629503 | grad=0.6427722825398055 [+]\n",
      "                                                                    --> (17) |  | data=-0.07644399883237385 | grad=0.6427722825398055 [+]\n",
      "                                                                        --> (18) |  | data=-0.06870387892083463 | grad=0.6427722825398055 [+]\n",
      "                                                                            --> (19) |  | data=-0.045574548804440784 | grad=1.691636112669734 [leaf]\n",
      "                                                                            --> (19) |  | data=-0.023129330116393843 | grad=0.6427722825398055 [*]\n",
      "                                                                                --> (20) |  | data=-0.046258660232787685 | grad=4.1019804653836 [leaf]\n",
      "                                                                                --> (20) |  | data=0.5 | grad=-0.02973378462506227 [leaf]\n",
      "                                                                        --> (18) |  | data=-0.007740119911539223 | grad=0.6427722825398055 [*]\n",
      "                                                                            --> (19) |  | data=-0.007740119911539223 | grad=-1.7435281581008253 [leaf]\n",
      "                                                                            --> (19) |  | data=1.0 | grad=-0.004975134542671863 [leaf]\n",
      "                                                                    --> (17) |  | data=0.9614240414618769 | grad=0.6427722825398055 [*]\n",
      "                                                                        --> (18) |  | data=0.9614240414618769 | grad=1.8185647670944014 [leaf]\n",
      "                                                                        --> (18) |  | data=1.0 | grad=0.6179767256190951 [leaf]\n",
      "                                                    --> (13) |  | data=0.4894440481675446 | grad=-1.6256749502698822 [*]\n",
      "                                                        --> (14) |  | data=-0.5837998798881388 | grad=1.5671650785860847 [leaf]\n",
      "                                                        --> (14) |  | data=-0.8383764112135933 | grad=1.3033971533397293 [tanh]\n",
      "                                                            --> (15) |  | data=-1.215683985107372 | grad=0.38727187021949744 [+]\n",
      "                                                                --> (16) |  | data=-1.4318349683529326 | grad=0.38727187021949744 [+]\n",
      "                                                                    --> (17) |  | data=-0.6946650680700694 | grad=0.38727187021949744 [+]\n",
      "                                                                        --> (18) |  | data=-0.3994300371099784 | grad=0.49981083702452617 [leaf]\n",
      "                                                                        --> (18) |  | data=-0.29523503096009107 | grad=0.38727187021949744 [*]\n",
      "                                                                            --> (19) |  | data=-0.5904700619201821 | grad=0.6303616503577171 [leaf]\n",
      "                                                                            --> (19) |  | data=0.5 | grad=-0.2286724451884514 [leaf]\n",
      "                                                                    --> (17) |  | data=-0.7371699002828631 | grad=0.38727187021949744 [*]\n",
      "                                                                        --> (18) |  | data=-0.7371699002828631 | grad=0.1723448412663164 [leaf]\n",
      "                                                                        --> (18) |  | data=1.0 | grad=-0.28548516595206486 [leaf]\n",
      "                                                                --> (16) |  | data=0.2161509832455606 | grad=0.38727187021949744 [*]\n",
      "                                                                    --> (17) |  | data=0.2161509832455606 | grad=0.518692776575491 [leaf]\n",
      "                                                                    --> (17) |  | data=1.0 | grad=0.08370919553129151 [leaf]\n",
      "                                                --> (12) |  | data=0.006623211948548815 | grad=-1.6256749502698822 [*]\n",
      "                                                    --> (13) |  | data=-0.04672806649967609 | grad=2.000812942875408 [leaf]\n",
      "                                                    --> (13) |  | data=-0.14173948217169924 | grad=0.04228329953900958 [tanh]\n",
      "                                                        --> (14) |  | data=-0.14270027638285432 | grad=0.04143382463451383 [+]\n",
      "                                                            --> (15) |  | data=0.8564006676764558 | grad=0.04143382463451383 [+]\n",
      "                                                                --> (16) |  | data=0.06246050958591731 | grad=0.04143382463451383 [+]\n",
      "                                                                    --> (17) |  | data=0.32925278837664607 | grad=0.03412709341437927 [leaf]\n",
      "                                                                    --> (17) |  | data=-0.26679227879072875 | grad=0.04143382463451383 [*]\n",
      "                                                                        --> (18) |  | data=-0.5335845575814575 | grad=-0.0053090922917333715 [leaf]\n",
      "                                                                        --> (18) |  | data=0.5 | grad=-0.022108448986514758 [leaf]\n",
      "                                                                --> (16) |  | data=0.7939401580905385 | grad=0.04143382463451383 [*]\n",
      "                                                                    --> (17) |  | data=0.7939401580905385 | grad=0.059201431355879935 [leaf]\n",
      "                                                                    --> (17) |  | data=1.0 | grad=0.03289597728062156 [leaf]\n",
      "                                                            --> (15) |  | data=-0.9991009440593102 | grad=0.04143382463451383 [*]\n",
      "                                                                --> (16) |  | data=-0.9991009440593102 | grad=0.03311233467484536 [leaf]\n",
      "                                                                --> (16) |  | data=1.0 | grad=-0.04139657330833067 [leaf]\n",
      "                                            --> (11) |  | data=0.4208822722001306 | grad=-1.6256749502698822 [*]\n",
      "                                                --> (12) |  | data=-0.5271044675214391 | grad=0.21747269368062103 [leaf]\n",
      "                                                --> (12) |  | data=-0.7984798045427529 | grad=0.39886495926295895 [tanh]\n",
      "                                                    --> (13) |  | data=-1.0944037160289242 | grad=0.14456062787864907 [+]\n",
      "                                                        --> (14) |  | data=-0.41096778095773345 | grad=0.14456062787864907 [+]\n",
      "                                                            --> (15) |  | data=0.5493676709255317 | grad=0.14456062787864907 [+]\n",
      "                                                                --> (16) |  | data=0.3214205354362061 | grad=1.0230210789820884 [leaf]\n",
      "                                                                --> (16) |  | data=0.22794713548932566 | grad=0.14456062787864907 [*]\n",
      "                                                                    --> (17) |  | data=0.4558942709786513 | grad=1.4554044003648539 [leaf]\n",
      "                                                                    --> (17) |  | data=0.5 | grad=0.06590436205895281 [leaf]\n",
      "                                                            --> (15) |  | data=-0.9603354518832652 | grad=0.14456062787864907 [*]\n",
      "                                                                --> (16) |  | data=-0.9603354518832652 | grad=2.185673652201306 [leaf]\n",
      "                                                                --> (16) |  | data=1.0 | grad=-0.138826695898371 [leaf]\n",
      "                                                        --> (14) |  | data=-0.6834359350711907 | grad=0.14456062787864907 [*]\n",
      "                                                            --> (15) |  | data=-0.6834359350711907 | grad=-0.7722311488685496 [leaf]\n",
      "                                                            --> (15) |  | data=1.0 | grad=-0.09879792788872296 [leaf]\n",
      "                            --> (7) |  | data=0.8929258495313831 | grad=2.2790230669721594 [*]\n",
      "                                --> (8) |  | data=-0.9445402223441266 | grad=-2.353192656882509 [leaf]\n",
      "                                --> (8) |  | data=-0.9453550292600047 | grad=-2.1526289544052766 [tanh]\n",
      "                                    --> (9) |  | data=-1.7861712950234065 | grad=-0.22883278562734655 [+]\n",
      "                                        --> (10) |  | data=-1.1228576476867078 | grad=-0.22883278562734655 [+]\n",
      "                                            --> (11) |  | data=-1.0677629049271038 | grad=-0.22883278562734655 [+]\n",
      "                                                --> (12) |  | data=-1.0002581950995648 | grad=-0.22883278562734655 [+]\n",
      "                                                    --> (13) |  | data=-0.5998886880201793 | grad=0.9366708291651445 [leaf]\n",
      "                                                    --> (13) |  | data=-0.4003695070793855 | grad=-0.22883278562734655 [*]\n",
      "                                                        --> (14) |  | data=-0.5647714052407873 | grad=-2.6129224193481964 [leaf]\n",
      "                                                        --> (14) |  | data=0.7089054144104376 | grad=1.2921263636713307 [tanh]\n",
      "                                                            --> (15) |  | data=0.884980042629503 | grad=0.6427722825398055 [+]\n",
      "                                                                --> (16) |  | data=-0.07644399883237385 | grad=0.6427722825398055 [+]\n",
      "                                                                    --> (17) |  | data=-0.06870387892083463 | grad=0.6427722825398055 [+]\n",
      "                                                                        --> (18) |  | data=-0.045574548804440784 | grad=1.691636112669734 [leaf]\n",
      "                                                                        --> (18) |  | data=-0.023129330116393843 | grad=0.6427722825398055 [*]\n",
      "                                                                            --> (19) |  | data=-0.046258660232787685 | grad=4.1019804653836 [leaf]\n",
      "                                                                            --> (19) |  | data=0.5 | grad=-0.02973378462506227 [leaf]\n",
      "                                                                    --> (17) |  | data=-0.007740119911539223 | grad=0.6427722825398055 [*]\n",
      "                                                                        --> (18) |  | data=-0.007740119911539223 | grad=-1.7435281581008253 [leaf]\n",
      "                                                                        --> (18) |  | data=1.0 | grad=-0.004975134542671863 [leaf]\n",
      "                                                                --> (16) |  | data=0.9614240414618769 | grad=0.6427722825398055 [*]\n",
      "                                                                    --> (17) |  | data=0.9614240414618769 | grad=1.8185647670944014 [leaf]\n",
      "                                                                    --> (17) |  | data=1.0 | grad=0.6179767256190951 [leaf]\n",
      "                                                --> (12) |  | data=-0.06750470982753896 | grad=-0.22883278562734655 [*]\n",
      "                                                    --> (13) |  | data=0.08051837924426142 | grad=-1.1226265619768534 [leaf]\n",
      "                                                    --> (13) |  | data=-0.8383764112135933 | grad=1.3033971533397293 [tanh]\n",
      "                                                        --> (14) |  | data=-1.215683985107372 | grad=0.38727187021949744 [+]\n",
      "                                                            --> (15) |  | data=-1.4318349683529326 | grad=0.38727187021949744 [+]\n",
      "                                                                --> (16) |  | data=-0.6946650680700694 | grad=0.38727187021949744 [+]\n",
      "                                                                    --> (17) |  | data=-0.3994300371099784 | grad=0.49981083702452617 [leaf]\n",
      "                                                                    --> (17) |  | data=-0.29523503096009107 | grad=0.38727187021949744 [*]\n",
      "                                                                        --> (18) |  | data=-0.5904700619201821 | grad=0.6303616503577171 [leaf]\n",
      "                                                                        --> (18) |  | data=0.5 | grad=-0.2286724451884514 [leaf]\n",
      "                                                                --> (16) |  | data=-0.7371699002828631 | grad=0.38727187021949744 [*]\n",
      "                                                                    --> (17) |  | data=-0.7371699002828631 | grad=0.1723448412663164 [leaf]\n",
      "                                                                    --> (17) |  | data=1.0 | grad=-0.28548516595206486 [leaf]\n",
      "                                                            --> (15) |  | data=0.2161509832455606 | grad=0.38727187021949744 [*]\n",
      "                                                                --> (16) |  | data=0.2161509832455606 | grad=0.518692776575491 [leaf]\n",
      "                                                                --> (16) |  | data=1.0 | grad=0.08370919553129151 [leaf]\n",
      "                                            --> (11) |  | data=-0.05509474275960399 | grad=-0.22883278562734655 [*]\n",
      "                                                --> (12) |  | data=0.38870427572794264 | grad=3.86615980176846 [leaf]\n",
      "                                                --> (12) |  | data=-0.14173948217169924 | grad=0.04228329953900958 [tanh]\n",
      "                                                    --> (13) |  | data=-0.14270027638285432 | grad=0.04143382463451383 [+]\n",
      "                                                        --> (14) |  | data=0.8564006676764558 | grad=0.04143382463451383 [+]\n",
      "                                                            --> (15) |  | data=0.06246050958591731 | grad=0.04143382463451383 [+]\n",
      "                                                                --> (16) |  | data=0.32925278837664607 | grad=0.03412709341437927 [leaf]\n",
      "                                                                --> (16) |  | data=-0.26679227879072875 | grad=0.04143382463451383 [*]\n",
      "                                                                    --> (17) |  | data=-0.5335845575814575 | grad=-0.0053090922917333715 [leaf]\n",
      "                                                                    --> (17) |  | data=0.5 | grad=-0.022108448986514758 [leaf]\n",
      "                                                            --> (15) |  | data=0.7939401580905385 | grad=0.04143382463451383 [*]\n",
      "                                                                --> (16) |  | data=0.7939401580905385 | grad=0.059201431355879935 [leaf]\n",
      "                                                                --> (16) |  | data=1.0 | grad=0.03289597728062156 [leaf]\n",
      "                                                        --> (14) |  | data=-0.9991009440593102 | grad=0.04143382463451383 [*]\n",
      "                                                            --> (15) |  | data=-0.9991009440593102 | grad=0.03311233467484536 [leaf]\n",
      "                                                            --> (15) |  | data=1.0 | grad=-0.04139657330833067 [leaf]\n",
      "                                        --> (10) |  | data=-0.6633136473366987 | grad=-0.22883278562734655 [*]\n",
      "                                            --> (11) |  | data=0.8307206313333664 | grad=-2.1068467113090854 [leaf]\n",
      "                                            --> (11) |  | data=-0.7984798045427529 | grad=0.39886495926295895 [tanh]\n",
      "                                                --> (12) |  | data=-1.0944037160289242 | grad=0.14456062787864907 [+]\n",
      "                                                    --> (13) |  | data=-0.41096778095773345 | grad=0.14456062787864907 [+]\n",
      "                                                        --> (14) |  | data=0.5493676709255317 | grad=0.14456062787864907 [+]\n",
      "                                                            --> (15) |  | data=0.3214205354362061 | grad=1.0230210789820884 [leaf]\n",
      "                                                            --> (15) |  | data=0.22794713548932566 | grad=0.14456062787864907 [*]\n",
      "                                                                --> (16) |  | data=0.4558942709786513 | grad=1.4554044003648539 [leaf]\n",
      "                                                                --> (16) |  | data=0.5 | grad=0.06590436205895281 [leaf]\n",
      "                                                        --> (14) |  | data=-0.9603354518832652 | grad=0.14456062787864907 [*]\n",
      "                                                            --> (15) |  | data=-0.9603354518832652 | grad=2.185673652201306 [leaf]\n",
      "                                                            --> (15) |  | data=1.0 | grad=-0.138826695898371 [leaf]\n",
      "                                                    --> (13) |  | data=-0.6834359350711907 | grad=0.14456062787864907 [*]\n",
      "                                                        --> (14) |  | data=-0.6834359350711907 | grad=-0.7722311488685496 [leaf]\n",
      "                                                        --> (14) |  | data=1.0 | grad=-0.09879792788872296 [leaf]\n",
      "                        --> (6) |  | data=-0.2761042219831442 | grad=2.2790230669721594 [*]\n",
      "                            --> (7) |  | data=0.28301111380997157 | grad=-3.432373781799989 [leaf]\n",
      "                            --> (7) |  | data=-0.9755949802329494 | grad=0.6449888565824082 [tanh]\n",
      "                                --> (8) |  | data=-2.196918024241563 | grad=0.031097773007476712 [+]\n",
      "                                    --> (9) |  | data=-1.8589348104320353 | grad=0.031097773007476712 [+]\n",
      "                                        --> (10) |  | data=-1.7297748741728904 | grad=0.031097773007476712 [+]\n",
      "                                            --> (11) |  | data=-0.9845765151942554 | grad=0.031097773007476712 [+]\n",
      "                                                --> (12) |  | data=-0.5184791885148541 | grad=-0.8214754027484394 [leaf]\n",
      "                                                --> (12) |  | data=-0.4660973266794013 | grad=0.031097773007476712 [*]\n",
      "                                                    --> (13) |  | data=-0.6574887385604635 | grad=0.7448911553883564 [leaf]\n",
      "                                                    --> (13) |  | data=0.7089054144104376 | grad=1.2921263636713307 [tanh]\n",
      "                                                        --> (14) |  | data=0.884980042629503 | grad=0.6427722825398055 [+]\n",
      "                                                            --> (15) |  | data=-0.07644399883237385 | grad=0.6427722825398055 [+]\n",
      "                                                                --> (16) |  | data=-0.06870387892083463 | grad=0.6427722825398055 [+]\n",
      "                                                                    --> (17) |  | data=-0.045574548804440784 | grad=1.691636112669734 [leaf]\n",
      "                                                                    --> (17) |  | data=-0.023129330116393843 | grad=0.6427722825398055 [*]\n",
      "                                                                        --> (18) |  | data=-0.046258660232787685 | grad=4.1019804653836 [leaf]\n",
      "                                                                        --> (18) |  | data=0.5 | grad=-0.02973378462506227 [leaf]\n",
      "                                                                --> (16) |  | data=-0.007740119911539223 | grad=0.6427722825398055 [*]\n",
      "                                                                    --> (17) |  | data=-0.007740119911539223 | grad=-1.7435281581008253 [leaf]\n",
      "                                                                    --> (17) |  | data=1.0 | grad=-0.004975134542671863 [leaf]\n",
      "                                                            --> (15) |  | data=0.9614240414618769 | grad=0.6427722825398055 [*]\n",
      "                                                                --> (16) |  | data=0.9614240414618769 | grad=1.8185647670944014 [leaf]\n",
      "                                                                --> (16) |  | data=1.0 | grad=0.6179767256190951 [leaf]\n",
      "                                            --> (11) |  | data=-0.7451983589786351 | grad=0.031097773007476712 [*]\n",
      "                                                --> (12) |  | data=0.8888589290100872 | grad=0.8189347375273707 [leaf]\n",
      "                                                --> (12) |  | data=-0.8383764112135933 | grad=1.3033971533397293 [tanh]\n",
      "                                                    --> (13) |  | data=-1.215683985107372 | grad=0.38727187021949744 [+]\n",
      "                                                        --> (14) |  | data=-1.4318349683529326 | grad=0.38727187021949744 [+]\n",
      "                                                            --> (15) |  | data=-0.6946650680700694 | grad=0.38727187021949744 [+]\n",
      "                                                                --> (16) |  | data=-0.3994300371099784 | grad=0.49981083702452617 [leaf]\n",
      "                                                                --> (16) |  | data=-0.29523503096009107 | grad=0.38727187021949744 [*]\n",
      "                                                                    --> (17) |  | data=-0.5904700619201821 | grad=0.6303616503577171 [leaf]\n",
      "                                                                    --> (17) |  | data=0.5 | grad=-0.2286724451884514 [leaf]\n",
      "                                                            --> (15) |  | data=-0.7371699002828631 | grad=0.38727187021949744 [*]\n",
      "                                                                --> (16) |  | data=-0.7371699002828631 | grad=0.1723448412663164 [leaf]\n",
      "                                                                --> (16) |  | data=1.0 | grad=-0.28548516595206486 [leaf]\n",
      "                                                        --> (14) |  | data=0.2161509832455606 | grad=0.38727187021949744 [*]\n",
      "                                                            --> (15) |  | data=0.2161509832455606 | grad=0.518692776575491 [leaf]\n",
      "                                                            --> (15) |  | data=1.0 | grad=0.08370919553129151 [leaf]\n",
      "                                        --> (10) |  | data=-0.12915993625914501 | grad=0.031097773007476712 [*]\n",
      "                                            --> (11) |  | data=0.9112488227005393 | grad=-0.8996384897253933 [leaf]\n",
      "                                            --> (11) |  | data=-0.14173948217169924 | grad=0.04228329953900958 [tanh]\n",
      "                                                --> (12) |  | data=-0.14270027638285432 | grad=0.04143382463451383 [+]\n",
      "                                                    --> (13) |  | data=0.8564006676764558 | grad=0.04143382463451383 [+]\n",
      "                                                        --> (14) |  | data=0.06246050958591731 | grad=0.04143382463451383 [+]\n",
      "                                                            --> (15) |  | data=0.32925278837664607 | grad=0.03412709341437927 [leaf]\n",
      "                                                            --> (15) |  | data=-0.26679227879072875 | grad=0.04143382463451383 [*]\n",
      "                                                                --> (16) |  | data=-0.5335845575814575 | grad=-0.0053090922917333715 [leaf]\n",
      "                                                                --> (16) |  | data=0.5 | grad=-0.022108448986514758 [leaf]\n",
      "                                                        --> (14) |  | data=0.7939401580905385 | grad=0.04143382463451383 [*]\n",
      "                                                            --> (15) |  | data=0.7939401580905385 | grad=0.059201431355879935 [leaf]\n",
      "                                                            --> (15) |  | data=1.0 | grad=0.03289597728062156 [leaf]\n",
      "                                                    --> (13) |  | data=-0.9991009440593102 | grad=0.04143382463451383 [*]\n",
      "                                                        --> (14) |  | data=-0.9991009440593102 | grad=0.03311233467484536 [leaf]\n",
      "                                                        --> (14) |  | data=1.0 | grad=-0.04139657330833067 [leaf]\n",
      "                                    --> (9) |  | data=-0.3379832138095278 | grad=0.031097773007476712 [*]\n",
      "                                        --> (10) |  | data=0.4232833590613765 | grad=0.31416846730067627 [leaf]\n",
      "                                        --> (10) |  | data=-0.7984798045427529 | grad=0.39886495926295895 [tanh]\n",
      "                                            --> (11) |  | data=-1.0944037160289242 | grad=0.14456062787864907 [+]\n",
      "                                                --> (12) |  | data=-0.41096778095773345 | grad=0.14456062787864907 [+]\n",
      "                                                    --> (13) |  | data=0.5493676709255317 | grad=0.14456062787864907 [+]\n",
      "                                                        --> (14) |  | data=0.3214205354362061 | grad=1.0230210789820884 [leaf]\n",
      "                                                        --> (14) |  | data=0.22794713548932566 | grad=0.14456062787864907 [*]\n",
      "                                                            --> (15) |  | data=0.4558942709786513 | grad=1.4554044003648539 [leaf]\n",
      "                                                            --> (15) |  | data=0.5 | grad=0.06590436205895281 [leaf]\n",
      "                                                    --> (13) |  | data=-0.9603354518832652 | grad=0.14456062787864907 [*]\n",
      "                                                        --> (14) |  | data=-0.9603354518832652 | grad=2.185673652201306 [leaf]\n",
      "                                                        --> (14) |  | data=1.0 | grad=-0.138826695898371 [leaf]\n",
      "                                                --> (12) |  | data=-0.6834359350711907 | grad=0.14456062787864907 [*]\n",
      "                                                    --> (13) |  | data=-0.6834359350711907 | grad=-0.7722311488685496 [leaf]\n",
      "                                                    --> (13) |  | data=1.0 | grad=-0.09879792788872296 [leaf]\n",
      "                --> (4) |  | data=1.0 | grad=2.351781389588196 [leaf]\n",
      "    --> (1) |  | data=3.3832125730243154 | grad=1.0 [**2]\n",
      "        --> (2) |  | data=-1.8393511282580919 | grad=-3.6787022565161838 [+]\n",
      "            --> (3) |  | data=-0.8393511282580918 | grad=-3.6787022565161838 [tanh]\n",
      "                --> (4) |  | data=-1.2189735391334964 | grad=-1.087018565438789 [+]\n",
      "                    --> (5) |  | data=-1.2691721181354767 | grad=-1.087018565438789 [+]\n",
      "                        --> (6) |  | data=-0.8263820787226974 | grad=-1.087018565438789 [+]\n",
      "                            --> (7) |  | data=-0.3439506210230999 | grad=-1.087018565438789 [+]\n",
      "                                --> (8) |  | data=-0.31687621552453926 | grad=0.6436828365111071 [leaf]\n",
      "                                --> (8) |  | data=-0.02707440549856067 | grad=-1.087018565438789 [*]\n",
      "                                    --> (9) |  | data=0.22413086174344388 | grad=-2.6241908698312377 [leaf]\n",
      "                                    --> (9) |  | data=-0.12079731139191337 | grad=-0.2436344078029179 [tanh]\n",
      "                                        --> (10) |  | data=-0.12139006754461112 | grad=-0.24007929685352086 [+]\n",
      "                                            --> (11) |  | data=0.1382536966559048 | grad=-0.24007929685352086 [+]\n",
      "                                                --> (12) |  | data=0.08877238817121336 | grad=-0.24007929685352086 [+]\n",
      "                                                    --> (13) |  | data=0.7503637435153561 | grad=-0.24007929685352086 [+]\n",
      "                                                        --> (14) |  | data=0.3534038782599713 | grad=0.040196758021074086 [leaf]\n",
      "                                                        --> (14) |  | data=0.3969598652553847 | grad=-0.24007929685352086 [*]\n",
      "                                                            --> (15) |  | data=-0.5050089001010039 | grad=0.9010755615108164 [leaf]\n",
      "                                                            --> (15) |  | data=-0.7860452858870232 | grad=-0.5227566165546136 [tanh]\n",
      "                                                                --> (16) |  | data=-1.0609973704106446 | grad=-0.19976245406415777 [+]\n",
      "                                                                    --> (17) |  | data=-0.09957332894876769 | grad=-0.19976245406415777 [+]\n",
      "                                                                        --> (18) |  | data=-0.09183320903722847 | grad=-0.19976245406415777 [+]\n",
      "                                                                            --> (19) |  | data=-0.045574548804440784 | grad=1.691636112669734 [leaf]\n",
      "                                                                            --> (19) |  | data=-0.046258660232787685 | grad=-0.19976245406415777 [*]\n",
      "                                                                                --> (20) |  | data=-0.046258660232787685 | grad=4.1019804653836 [leaf]\n",
      "                                                                                --> (20) |  | data=1.0 | grad=0.009240743489821731 [leaf]\n",
      "                                                                        --> (18) |  | data=-0.007740119911539223 | grad=-0.19976245406415777 [*]\n",
      "                                                                            --> (19) |  | data=-0.007740119911539223 | grad=-1.7435281581008253 [leaf]\n",
      "                                                                            --> (19) |  | data=1.0 | grad=0.0015461853482799269 [leaf]\n",
      "                                                                    --> (17) |  | data=-0.9614240414618769 | grad=-0.19976245406415777 [*]\n",
      "                                                                        --> (18) |  | data=0.9614240414618769 | grad=1.8185647670944014 [leaf]\n",
      "                                                                        --> (18) |  | data=-1.0 | grad=-0.1920564259187051 [leaf]\n",
      "                                                    --> (13) |  | data=-0.6615913553441427 | grad=-0.24007929685352086 [*]\n",
      "                                                        --> (14) |  | data=0.6893094361452667 | grad=0.05222876474386545 [leaf]\n",
      "                                                        --> (14) |  | data=-0.9597886241683733 | grad=-0.6218814873334417 [tanh]\n",
      "                                                            --> (15) |  | data=-1.9432209825585842 | grad=-0.049007866197229355 [+]\n",
      "                                                                --> (16) |  | data=-1.7270699993130236 | grad=-0.049007866197229355 [+]\n",
      "                                                                    --> (17) |  | data=-0.9899000990301605 | grad=-0.049007866197229355 [+]\n",
      "                                                                        --> (18) |  | data=-0.3994300371099784 | grad=0.49981083702452617 [leaf]\n",
      "                                                                        --> (18) |  | data=-0.5904700619201821 | grad=-0.049007866197229355 [*]\n",
      "                                                                            --> (19) |  | data=-0.5904700619201821 | grad=0.6303616503577171 [leaf]\n",
      "                                                                            --> (19) |  | data=1.0 | grad=0.02893767778805402 [leaf]\n",
      "                                                                    --> (17) |  | data=-0.7371699002828631 | grad=-0.049007866197229355 [*]\n",
      "                                                                        --> (18) |  | data=-0.7371699002828631 | grad=0.1723448412663164 [leaf]\n",
      "                                                                        --> (18) |  | data=1.0 | grad=0.03612712383768746 [leaf]\n",
      "                                                                --> (16) |  | data=-0.2161509832455606 | grad=-0.049007866197229355 [*]\n",
      "                                                                    --> (17) |  | data=0.2161509832455606 | grad=0.518692776575491 [leaf]\n",
      "                                                                    --> (17) |  | data=-1.0 | grad=-0.010593098465297997 [leaf]\n",
      "                                                --> (12) |  | data=0.04948130848469146 | grad=-0.24007929685352086 [*]\n",
      "                                                    --> (13) |  | data=0.05378688370599782 | grad=-0.831301111109401 [leaf]\n",
      "                                                    --> (13) |  | data=0.9199512051145986 | grad=0.006465804346302799 [tanh]\n",
      "                                                        --> (14) |  | data=1.5887093329450372 | grad=0.0009937280488524864 [+]\n",
      "                                                            --> (15) |  | data=0.5896083888857271 | grad=0.0009937280488524864 [+]\n",
      "                                                                --> (16) |  | data=-0.20433176920481144 | grad=0.0009937280488524864 [+]\n",
      "                                                                    --> (17) |  | data=0.32925278837664607 | grad=0.03412709341437927 [leaf]\n",
      "                                                                    --> (17) |  | data=-0.5335845575814575 | grad=0.0009937280488524864 [*]\n",
      "                                                                        --> (18) |  | data=-0.5335845575814575 | grad=-0.0053090922917333715 [leaf]\n",
      "                                                                        --> (18) |  | data=1.0 | grad=-0.0005302379413032389 [leaf]\n",
      "                                                                --> (16) |  | data=0.7939401580905385 | grad=0.0009937280488524864 [*]\n",
      "                                                                    --> (17) |  | data=0.7939401580905385 | grad=0.059201431355879935 [leaf]\n",
      "                                                                    --> (17) |  | data=1.0 | grad=0.0007889606042049455 [leaf]\n",
      "                                                            --> (15) |  | data=0.9991009440593102 | grad=0.0009937280488524864 [*]\n",
      "                                                                --> (16) |  | data=-0.9991009440593102 | grad=0.03311233467484536 [leaf]\n",
      "                                                                --> (16) |  | data=-1.0 | grad=-0.0009928346317467354 [leaf]\n",
      "                                            --> (11) |  | data=-0.25964376420051594 | grad=-0.24007929685352086 [*]\n",
      "                                                --> (12) |  | data=-0.5614602712600252 | grad=-0.06588612449126069 [leaf]\n",
      "                                                --> (12) |  | data=0.46244369814060976 | grad=0.4429745565593638 [tanh]\n",
      "                                                    --> (13) |  | data=0.5004152896027829 | grad=0.3482425986855097 [+]\n",
      "                                                        --> (14) |  | data=-0.1830206454684078 | grad=0.3482425986855097 [+]\n",
      "                                                            --> (15) |  | data=0.7773148064148574 | grad=0.3482425986855097 [+]\n",
      "                                                                --> (16) |  | data=0.3214205354362061 | grad=1.0230210789820884 [leaf]\n",
      "                                                                --> (16) |  | data=0.4558942709786513 | grad=0.3482425986855097 [*]\n",
      "                                                                    --> (17) |  | data=0.4558942709786513 | grad=1.4554044003648539 [leaf]\n",
      "                                                                    --> (17) |  | data=1.0 | grad=0.1587618056514415 [leaf]\n",
      "                                                            --> (15) |  | data=-0.9603354518832652 | grad=0.3482425986855097 [*]\n",
      "                                                                --> (16) |  | data=-0.9603354518832652 | grad=2.185673652201306 [leaf]\n",
      "                                                                --> (16) |  | data=1.0 | grad=-0.33442971337365157 [leaf]\n",
      "                                                        --> (14) |  | data=0.6834359350711907 | grad=0.3482425986855097 [*]\n",
      "                                                            --> (15) |  | data=-0.6834359350711907 | grad=-0.7722311488685496 [leaf]\n",
      "                                                            --> (15) |  | data=-1.0 | grad=-0.23800150606425274 [leaf]\n",
      "                            --> (7) |  | data=-0.48243145769959744 | grad=-1.087018565438789 [*]\n",
      "                                --> (8) |  | data=-0.7246566872086664 | grad=-3.1204451714133055 [leaf]\n",
      "                                --> (8) |  | data=0.665737950418831 | grad=0.7877152725651897 [tanh]\n",
      "                                    --> (9) |  | data=0.8030491263749315 | grad=0.43859433508393525 [+]\n",
      "                                        --> (10) |  | data=1.0468052656419828 | grad=0.43859433508393525 [+]\n",
      "                                            --> (11) |  | data=1.089792806731035 | grad=0.43859433508393525 [+]\n",
      "                                                --> (12) |  | data=0.5294683232235367 | grad=0.43859433508393525 [+]\n",
      "                                                    --> (13) |  | data=-0.16494962218162934 | grad=-1.9537464124926742 [leaf]\n",
      "                                                    --> (13) |  | data=0.694417945405166 | grad=0.43859433508393525 [*]\n",
      "                                                        --> (14) |  | data=-0.8834324915790837 | grad=-2.0633122056382445 [leaf]\n",
      "                                                        --> (14) |  | data=-0.7860452858870232 | grad=-0.5227566165546136 [tanh]\n",
      "                                                            --> (15) |  | data=-1.0609973704106446 | grad=-0.19976245406415777 [+]\n",
      "                                                                --> (16) |  | data=-0.09957332894876769 | grad=-0.19976245406415777 [+]\n",
      "                                                                    --> (17) |  | data=-0.09183320903722847 | grad=-0.19976245406415777 [+]\n",
      "                                                                        --> (18) |  | data=-0.045574548804440784 | grad=1.691636112669734 [leaf]\n",
      "                                                                        --> (18) |  | data=-0.046258660232787685 | grad=-0.19976245406415777 [*]\n",
      "                                                                            --> (19) |  | data=-0.046258660232787685 | grad=4.1019804653836 [leaf]\n",
      "                                                                            --> (19) |  | data=1.0 | grad=0.009240743489821731 [leaf]\n",
      "                                                                    --> (17) |  | data=-0.007740119911539223 | grad=-0.19976245406415777 [*]\n",
      "                                                                        --> (18) |  | data=-0.007740119911539223 | grad=-1.7435281581008253 [leaf]\n",
      "                                                                        --> (18) |  | data=1.0 | grad=0.0015461853482799269 [leaf]\n",
      "                                                                --> (16) |  | data=-0.9614240414618769 | grad=-0.19976245406415777 [*]\n",
      "                                                                    --> (17) |  | data=0.9614240414618769 | grad=1.8185647670944014 [leaf]\n",
      "                                                                    --> (17) |  | data=-1.0 | grad=-0.1920564259187051 [leaf]\n",
      "                                                --> (12) |  | data=0.5603244835074983 | grad=0.43859433508393525 [*]\n",
      "                                                    --> (13) |  | data=-0.5837998798881388 | grad=1.5671650785860847 [leaf]\n",
      "                                                    --> (13) |  | data=-0.9597886241683733 | grad=-0.6218814873334417 [tanh]\n",
      "                                                        --> (14) |  | data=-1.9432209825585842 | grad=-0.049007866197229355 [+]\n",
      "                                                            --> (15) |  | data=-1.7270699993130236 | grad=-0.049007866197229355 [+]\n",
      "                                                                --> (16) |  | data=-0.9899000990301605 | grad=-0.049007866197229355 [+]\n",
      "                                                                    --> (17) |  | data=-0.3994300371099784 | grad=0.49981083702452617 [leaf]\n",
      "                                                                    --> (17) |  | data=-0.5904700619201821 | grad=-0.049007866197229355 [*]\n",
      "                                                                        --> (18) |  | data=-0.5904700619201821 | grad=0.6303616503577171 [leaf]\n",
      "                                                                        --> (18) |  | data=1.0 | grad=0.02893767778805402 [leaf]\n",
      "                                                                --> (16) |  | data=-0.7371699002828631 | grad=-0.049007866197229355 [*]\n",
      "                                                                    --> (17) |  | data=-0.7371699002828631 | grad=0.1723448412663164 [leaf]\n",
      "                                                                    --> (17) |  | data=1.0 | grad=0.03612712383768746 [leaf]\n",
      "                                                            --> (15) |  | data=-0.2161509832455606 | grad=-0.049007866197229355 [*]\n",
      "                                                                --> (16) |  | data=0.2161509832455606 | grad=0.518692776575491 [leaf]\n",
      "                                                                --> (16) |  | data=-1.0 | grad=-0.010593098465297997 [leaf]\n",
      "                                            --> (11) |  | data=-0.042987541089052124 | grad=0.43859433508393525 [*]\n",
      "                                                --> (12) |  | data=-0.04672806649967609 | grad=2.000812942875408 [leaf]\n",
      "                                                --> (12) |  | data=0.9199512051145986 | grad=0.006465804346302799 [tanh]\n",
      "                                                    --> (13) |  | data=1.5887093329450372 | grad=0.0009937280488524864 [+]\n",
      "                                                        --> (14) |  | data=0.5896083888857271 | grad=0.0009937280488524864 [+]\n",
      "                                                            --> (15) |  | data=-0.20433176920481144 | grad=0.0009937280488524864 [+]\n",
      "                                                                --> (16) |  | data=0.32925278837664607 | grad=0.03412709341437927 [leaf]\n",
      "                                                                --> (16) |  | data=-0.5335845575814575 | grad=0.0009937280488524864 [*]\n",
      "                                                                    --> (17) |  | data=-0.5335845575814575 | grad=-0.0053090922917333715 [leaf]\n",
      "                                                                    --> (17) |  | data=1.0 | grad=-0.0005302379413032389 [leaf]\n",
      "                                                            --> (15) |  | data=0.7939401580905385 | grad=0.0009937280488524864 [*]\n",
      "                                                                --> (16) |  | data=0.7939401580905385 | grad=0.059201431355879935 [leaf]\n",
      "                                                                --> (16) |  | data=1.0 | grad=0.0007889606042049455 [leaf]\n",
      "                                                        --> (14) |  | data=0.9991009440593102 | grad=0.0009937280488524864 [*]\n",
      "                                                            --> (15) |  | data=-0.9991009440593102 | grad=0.03311233467484536 [leaf]\n",
      "                                                            --> (15) |  | data=-1.0 | grad=-0.0009928346317467354 [leaf]\n",
      "                                        --> (10) |  | data=-0.24375613926705125 | grad=0.43859433508393525 [*]\n",
      "                                            --> (11) |  | data=-0.5271044675214391 | grad=0.21747269368062103 [leaf]\n",
      "                                            --> (11) |  | data=0.46244369814060976 | grad=0.4429745565593638 [tanh]\n",
      "                                                --> (12) |  | data=0.5004152896027829 | grad=0.3482425986855097 [+]\n",
      "                                                    --> (13) |  | data=-0.1830206454684078 | grad=0.3482425986855097 [+]\n",
      "                                                        --> (14) |  | data=0.7773148064148574 | grad=0.3482425986855097 [+]\n",
      "                                                            --> (15) |  | data=0.3214205354362061 | grad=1.0230210789820884 [leaf]\n",
      "                                                            --> (15) |  | data=0.4558942709786513 | grad=0.3482425986855097 [*]\n",
      "                                                                --> (16) |  | data=0.4558942709786513 | grad=1.4554044003648539 [leaf]\n",
      "                                                                --> (16) |  | data=1.0 | grad=0.1587618056514415 [leaf]\n",
      "                                                        --> (14) |  | data=-0.9603354518832652 | grad=0.3482425986855097 [*]\n",
      "                                                            --> (15) |  | data=-0.9603354518832652 | grad=2.185673652201306 [leaf]\n",
      "                                                            --> (15) |  | data=1.0 | grad=-0.33442971337365157 [leaf]\n",
      "                                                    --> (13) |  | data=0.6834359350711907 | grad=0.3482425986855097 [*]\n",
      "                                                        --> (14) |  | data=-0.6834359350711907 | grad=-0.7722311488685496 [leaf]\n",
      "                                                        --> (14) |  | data=-1.0 | grad=-0.23800150606425274 [leaf]\n",
      "                        --> (6) |  | data=-0.44279003941277933 | grad=-1.087018565438789 [*]\n",
      "                            --> (7) |  | data=-0.9445402223441266 | grad=-2.353192656882509 [leaf]\n",
      "                            --> (7) |  | data=0.46878897154202565 | grad=1.0267327574917473 [tanh]\n",
      "                                --> (8) |  | data=0.5085170760026363 | grad=0.8010947839986751 [+]\n",
      "                                    --> (9) |  | data=0.12435555512713231 | grad=0.8010947839986751 [+]\n",
      "                                        --> (10) |  | data=-0.23323341176198575 | grad=0.8010947839986751 [+]\n",
      "                                            --> (11) |  | data=-0.1559527873268688 | grad=0.8010947839986751 [+]\n",
      "                                                --> (12) |  | data=-0.5998886880201793 | grad=0.9366708291651445 [leaf]\n",
      "                                                --> (12) |  | data=0.44393590069331046 | grad=0.8010947839986751 [*]\n",
      "                                                    --> (13) |  | data=-0.5647714052407873 | grad=-2.6129224193481964 [leaf]\n",
      "                                                    --> (13) |  | data=-0.7860452858870232 | grad=-0.5227566165546136 [tanh]\n",
      "                                                        --> (14) |  | data=-1.0609973704106446 | grad=-0.19976245406415777 [+]\n",
      "                                                            --> (15) |  | data=-0.09957332894876769 | grad=-0.19976245406415777 [+]\n",
      "                                                                --> (16) |  | data=-0.09183320903722847 | grad=-0.19976245406415777 [+]\n",
      "                                                                    --> (17) |  | data=-0.045574548804440784 | grad=1.691636112669734 [leaf]\n",
      "                                                                    --> (17) |  | data=-0.046258660232787685 | grad=-0.19976245406415777 [*]\n",
      "                                                                        --> (18) |  | data=-0.046258660232787685 | grad=4.1019804653836 [leaf]\n",
      "                                                                        --> (18) |  | data=1.0 | grad=0.009240743489821731 [leaf]\n",
      "                                                                --> (16) |  | data=-0.007740119911539223 | grad=-0.19976245406415777 [*]\n",
      "                                                                    --> (17) |  | data=-0.007740119911539223 | grad=-1.7435281581008253 [leaf]\n",
      "                                                                    --> (17) |  | data=1.0 | grad=0.0015461853482799269 [leaf]\n",
      "                                                            --> (15) |  | data=-0.9614240414618769 | grad=-0.19976245406415777 [*]\n",
      "                                                                --> (16) |  | data=0.9614240414618769 | grad=1.8185647670944014 [leaf]\n",
      "                                                                --> (16) |  | data=-1.0 | grad=-0.1920564259187051 [leaf]\n",
      "                                            --> (11) |  | data=-0.07728062443511698 | grad=0.8010947839986751 [*]\n",
      "                                                --> (12) |  | data=0.08051837924426142 | grad=-1.1226265619768534 [leaf]\n",
      "                                                --> (12) |  | data=-0.9597886241683733 | grad=-0.6218814873334417 [tanh]\n",
      "                                                    --> (13) |  | data=-1.9432209825585842 | grad=-0.049007866197229355 [+]\n",
      "                                                        --> (14) |  | data=-1.7270699993130236 | grad=-0.049007866197229355 [+]\n",
      "                                                            --> (15) |  | data=-0.9899000990301605 | grad=-0.049007866197229355 [+]\n",
      "                                                                --> (16) |  | data=-0.3994300371099784 | grad=0.49981083702452617 [leaf]\n",
      "                                                                --> (16) |  | data=-0.5904700619201821 | grad=-0.049007866197229355 [*]\n",
      "                                                                    --> (17) |  | data=-0.5904700619201821 | grad=0.6303616503577171 [leaf]\n",
      "                                                                    --> (17) |  | data=1.0 | grad=0.02893767778805402 [leaf]\n",
      "                                                            --> (15) |  | data=-0.7371699002828631 | grad=-0.049007866197229355 [*]\n",
      "                                                                --> (16) |  | data=-0.7371699002828631 | grad=0.1723448412663164 [leaf]\n",
      "                                                                --> (16) |  | data=1.0 | grad=0.03612712383768746 [leaf]\n",
      "                                                        --> (14) |  | data=-0.2161509832455606 | grad=-0.049007866197229355 [*]\n",
      "                                                            --> (15) |  | data=0.2161509832455606 | grad=0.518692776575491 [leaf]\n",
      "                                                            --> (15) |  | data=-1.0 | grad=-0.010593098465297997 [leaf]\n",
      "                                        --> (10) |  | data=0.35758896688911807 | grad=0.8010947839986751 [*]\n",
      "                                            --> (11) |  | data=0.38870427572794264 | grad=3.86615980176846 [leaf]\n",
      "                                            --> (11) |  | data=0.9199512051145986 | grad=0.006465804346302799 [tanh]\n",
      "                                                --> (12) |  | data=1.5887093329450372 | grad=0.0009937280488524864 [+]\n",
      "                                                    --> (13) |  | data=0.5896083888857271 | grad=0.0009937280488524864 [+]\n",
      "                                                        --> (14) |  | data=-0.20433176920481144 | grad=0.0009937280488524864 [+]\n",
      "                                                            --> (15) |  | data=0.32925278837664607 | grad=0.03412709341437927 [leaf]\n",
      "                                                            --> (15) |  | data=-0.5335845575814575 | grad=0.0009937280488524864 [*]\n",
      "                                                                --> (16) |  | data=-0.5335845575814575 | grad=-0.0053090922917333715 [leaf]\n",
      "                                                                --> (16) |  | data=1.0 | grad=-0.0005302379413032389 [leaf]\n",
      "                                                        --> (14) |  | data=0.7939401580905385 | grad=0.0009937280488524864 [*]\n",
      "                                                            --> (15) |  | data=0.7939401580905385 | grad=0.059201431355879935 [leaf]\n",
      "                                                            --> (15) |  | data=1.0 | grad=0.0007889606042049455 [leaf]\n",
      "                                                    --> (13) |  | data=0.9991009440593102 | grad=0.0009937280488524864 [*]\n",
      "                                                        --> (14) |  | data=-0.9991009440593102 | grad=0.03311233467484536 [leaf]\n",
      "                                                        --> (14) |  | data=-1.0 | grad=-0.0009928346317467354 [leaf]\n",
      "                                    --> (9) |  | data=0.38416152087550404 | grad=0.8010947839986751 [*]\n",
      "                                        --> (10) |  | data=0.8307206313333664 | grad=-2.1068467113090854 [leaf]\n",
      "                                        --> (10) |  | data=0.46244369814060976 | grad=0.4429745565593638 [tanh]\n",
      "                                            --> (11) |  | data=0.5004152896027829 | grad=0.3482425986855097 [+]\n",
      "                                                --> (12) |  | data=-0.1830206454684078 | grad=0.3482425986855097 [+]\n",
      "                                                    --> (13) |  | data=0.7773148064148574 | grad=0.3482425986855097 [+]\n",
      "                                                        --> (14) |  | data=0.3214205354362061 | grad=1.0230210789820884 [leaf]\n",
      "                                                        --> (14) |  | data=0.4558942709786513 | grad=0.3482425986855097 [*]\n",
      "                                                            --> (15) |  | data=0.4558942709786513 | grad=1.4554044003648539 [leaf]\n",
      "                                                            --> (15) |  | data=1.0 | grad=0.1587618056514415 [leaf]\n",
      "                                                    --> (13) |  | data=-0.9603354518832652 | grad=0.3482425986855097 [*]\n",
      "                                                        --> (14) |  | data=-0.9603354518832652 | grad=2.185673652201306 [leaf]\n",
      "                                                        --> (14) |  | data=1.0 | grad=-0.33442971337365157 [leaf]\n",
      "                                                --> (12) |  | data=0.6834359350711907 | grad=0.3482425986855097 [*]\n",
      "                                                    --> (13) |  | data=-0.6834359350711907 | grad=-0.7722311488685496 [leaf]\n",
      "                                                    --> (13) |  | data=-1.0 | grad=-0.23800150606425274 [leaf]\n",
      "                    --> (5) |  | data=0.05019857900198038 | grad=-1.087018565438789 [*]\n",
      "                        --> (6) |  | data=0.28301111380997157 | grad=-3.432373781799989 [leaf]\n",
      "                        --> (6) |  | data=0.1773731721210296 | grad=-0.30763833493694914 [tanh]\n",
      "                            --> (7) |  | data=0.1792692209283811 | grad=-0.29795965077509967 [+]\n",
      "                                --> (8) |  | data=-0.016475500997341408 | grad=-0.29795965077509967 [+]\n",
      "                                    --> (9) |  | data=-0.8547799535999617 | grad=-0.29795965077509967 [+]\n",
      "                                        --> (10) |  | data=-0.0016632650455963294 | grad=-0.29795965077509967 [+]\n",
      "                                            --> (11) |  | data=-0.5184791885148541 | grad=-0.8214754027484394 [leaf]\n",
      "                                            --> (11) |  | data=0.5168159234692578 | grad=-0.29795965077509967 [*]\n",
      "                                                --> (12) |  | data=-0.6574887385604635 | grad=0.7448911553883564 [leaf]\n",
      "                                                --> (12) |  | data=-0.7860452858870232 | grad=-0.5227566165546136 [tanh]\n",
      "                                                    --> (13) |  | data=-1.0609973704106446 | grad=-0.19976245406415777 [+]\n",
      "                                                        --> (14) |  | data=-0.09957332894876769 | grad=-0.19976245406415777 [+]\n",
      "                                                            --> (15) |  | data=-0.09183320903722847 | grad=-0.19976245406415777 [+]\n",
      "                                                                --> (16) |  | data=-0.045574548804440784 | grad=1.691636112669734 [leaf]\n",
      "                                                                --> (16) |  | data=-0.046258660232787685 | grad=-0.19976245406415777 [*]\n",
      "                                                                    --> (17) |  | data=-0.046258660232787685 | grad=4.1019804653836 [leaf]\n",
      "                                                                    --> (17) |  | data=1.0 | grad=0.009240743489821731 [leaf]\n",
      "                                                            --> (15) |  | data=-0.007740119911539223 | grad=-0.19976245406415777 [*]\n",
      "                                                                --> (16) |  | data=-0.007740119911539223 | grad=-1.7435281581008253 [leaf]\n",
      "                                                                --> (16) |  | data=1.0 | grad=0.0015461853482799269 [leaf]\n",
      "                                                        --> (14) |  | data=-0.9614240414618769 | grad=-0.19976245406415777 [*]\n",
      "                                                            --> (15) |  | data=0.9614240414618769 | grad=1.8185647670944014 [leaf]\n",
      "                                                            --> (15) |  | data=-1.0 | grad=-0.1920564259187051 [leaf]\n",
      "                                        --> (10) |  | data=-0.8531166885543654 | grad=-0.29795965077509967 [*]\n",
      "                                            --> (11) |  | data=0.8888589290100872 | grad=0.8189347375273707 [leaf]\n",
      "                                            --> (11) |  | data=-0.9597886241683733 | grad=-0.6218814873334417 [tanh]\n",
      "                                                --> (12) |  | data=-1.9432209825585842 | grad=-0.049007866197229355 [+]\n",
      "                                                    --> (13) |  | data=-1.7270699993130236 | grad=-0.049007866197229355 [+]\n",
      "                                                        --> (14) |  | data=-0.9899000990301605 | grad=-0.049007866197229355 [+]\n",
      "                                                            --> (15) |  | data=-0.3994300371099784 | grad=0.49981083702452617 [leaf]\n",
      "                                                            --> (15) |  | data=-0.5904700619201821 | grad=-0.049007866197229355 [*]\n",
      "                                                                --> (16) |  | data=-0.5904700619201821 | grad=0.6303616503577171 [leaf]\n",
      "                                                                --> (16) |  | data=1.0 | grad=0.02893767778805402 [leaf]\n",
      "                                                        --> (14) |  | data=-0.7371699002828631 | grad=-0.049007866197229355 [*]\n",
      "                                                            --> (15) |  | data=-0.7371699002828631 | grad=0.1723448412663164 [leaf]\n",
      "                                                            --> (15) |  | data=1.0 | grad=0.03612712383768746 [leaf]\n",
      "                                                    --> (13) |  | data=-0.2161509832455606 | grad=-0.049007866197229355 [*]\n",
      "                                                        --> (14) |  | data=0.2161509832455606 | grad=0.518692776575491 [leaf]\n",
      "                                                        --> (14) |  | data=-1.0 | grad=-0.010593098465297997 [leaf]\n",
      "                                    --> (9) |  | data=0.8383044526026203 | grad=-0.29795965077509967 [*]\n",
      "                                        --> (10) |  | data=0.9112488227005393 | grad=-0.8996384897253933 [leaf]\n",
      "                                        --> (10) |  | data=0.9199512051145986 | grad=0.006465804346302799 [tanh]\n",
      "                                            --> (11) |  | data=1.5887093329450372 | grad=0.0009937280488524864 [+]\n",
      "                                                --> (12) |  | data=0.5896083888857271 | grad=0.0009937280488524864 [+]\n",
      "                                                    --> (13) |  | data=-0.20433176920481144 | grad=0.0009937280488524864 [+]\n",
      "                                                        --> (14) |  | data=0.32925278837664607 | grad=0.03412709341437927 [leaf]\n",
      "                                                        --> (14) |  | data=-0.5335845575814575 | grad=0.0009937280488524864 [*]\n",
      "                                                            --> (15) |  | data=-0.5335845575814575 | grad=-0.0053090922917333715 [leaf]\n",
      "                                                            --> (15) |  | data=1.0 | grad=-0.0005302379413032389 [leaf]\n",
      "                                                    --> (13) |  | data=0.7939401580905385 | grad=0.0009937280488524864 [*]\n",
      "                                                        --> (14) |  | data=0.7939401580905385 | grad=0.059201431355879935 [leaf]\n",
      "                                                        --> (14) |  | data=1.0 | grad=0.0007889606042049455 [leaf]\n",
      "                                                --> (12) |  | data=0.9991009440593102 | grad=0.0009937280488524864 [*]\n",
      "                                                    --> (13) |  | data=-0.9991009440593102 | grad=0.03311233467484536 [leaf]\n",
      "                                                    --> (13) |  | data=-1.0 | grad=-0.0009928346317467354 [leaf]\n",
      "                                --> (8) |  | data=0.1957447219257225 | grad=-0.29795965077509967 [*]\n",
      "                                    --> (9) |  | data=0.4232833590613765 | grad=0.31416846730067627 [leaf]\n",
      "                                    --> (9) |  | data=0.46244369814060976 | grad=0.4429745565593638 [tanh]\n",
      "                                        --> (10) |  | data=0.5004152896027829 | grad=0.3482425986855097 [+]\n",
      "                                            --> (11) |  | data=-0.1830206454684078 | grad=0.3482425986855097 [+]\n",
      "                                                --> (12) |  | data=0.7773148064148574 | grad=0.3482425986855097 [+]\n",
      "                                                    --> (13) |  | data=0.3214205354362061 | grad=1.0230210789820884 [leaf]\n",
      "                                                    --> (13) |  | data=0.4558942709786513 | grad=0.3482425986855097 [*]\n",
      "                                                        --> (14) |  | data=0.4558942709786513 | grad=1.4554044003648539 [leaf]\n",
      "                                                        --> (14) |  | data=1.0 | grad=0.1587618056514415 [leaf]\n",
      "                                                --> (12) |  | data=-0.9603354518832652 | grad=0.3482425986855097 [*]\n",
      "                                                    --> (13) |  | data=-0.9603354518832652 | grad=2.185673652201306 [leaf]\n",
      "                                                    --> (13) |  | data=1.0 | grad=-0.33442971337365157 [leaf]\n",
      "                                            --> (11) |  | data=0.6834359350711907 | grad=0.3482425986855097 [*]\n",
      "                                                --> (12) |  | data=-0.6834359350711907 | grad=-0.7722311488685496 [leaf]\n",
      "                                                --> (12) |  | data=-1.0 | grad=-0.23800150606425274 [leaf]\n",
      "            --> (3) |  | data=-1.0 | grad=-3.6787022565161838 [leaf]\n"
     ]
    }
   ],
   "source": [
    "draw_tree(loss)"
   ]
  },
  {
   "cell_type": "code",
   "execution_count": 748,
   "id": "552b8ff0",
   "metadata": {},
   "outputs": [
    {
     "data": {
      "text/plain": [
       "Value(data=0.5400082582379134)"
      ]
     },
     "execution_count": 748,
     "metadata": {},
     "output_type": "execute_result"
    }
   ],
   "source": [
    "x = [2.0, 3.0, -1.0]\n",
    "n = MLP(3, [4,4,1])\n",
    "n(x)"
   ]
  },
  {
   "cell_type": "code",
   "execution_count": 749,
   "id": "e0b69cac",
   "metadata": {},
   "outputs": [],
   "source": [
    "xs = [\n",
    "    [2.0, 3.0, -1.0],\n",
    "    [3.0, -1.0, 0.5],\n",
    "    [0.5, 1.0, 1.0],\n",
    "    [1.0, 1.0, -1.0]\n",
    "] #inputs (4 samples)\n",
    "\n",
    "ys = [1.0, -1.0, -1.0, 1.0] #desired targets"
   ]
  },
  {
   "cell_type": "code",
   "execution_count": 750,
   "id": "7104073e",
   "metadata": {},
   "outputs": [
    {
     "data": {
      "text/plain": [
       "[Value(data=-0.5094118375286034),\n",
       " Value(data=0.7354884450120653),\n",
       " Value(data=-0.9373133336520616),\n",
       " Value(data=-0.37035308449769855),\n",
       " Value(data=-0.3380974375113124),\n",
       " Value(data=-0.5251592958830675),\n",
       " Value(data=0.9496575338944242),\n",
       " Value(data=-0.3759734555700063),\n",
       " Value(data=0.494365151614915),\n",
       " Value(data=0.8720443117743542),\n",
       " Value(data=0.7897445705634991),\n",
       " Value(data=-0.5814610065913033),\n",
       " Value(data=0.34040222368488227),\n",
       " Value(data=-0.17994116973653385),\n",
       " Value(data=-0.8034156705636533),\n",
       " Value(data=0.5842267239300631),\n",
       " Value(data=-0.7387623023405112),\n",
       " Value(data=0.08363156845394992),\n",
       " Value(data=0.0418834244241304),\n",
       " Value(data=-0.35205046493832115),\n",
       " Value(data=0.006763878092306275),\n",
       " Value(data=0.16460681908793373),\n",
       " Value(data=0.6650566850889674),\n",
       " Value(data=0.9098236993162778),\n",
       " Value(data=0.5274549490638649),\n",
       " Value(data=0.9107680898833204),\n",
       " Value(data=-0.04076985723859705),\n",
       " Value(data=-0.07775307729879),\n",
       " Value(data=-0.678622844471964),\n",
       " Value(data=-0.3372429535508563),\n",
       " Value(data=0.5348518341226849),\n",
       " Value(data=0.7346678399211584),\n",
       " Value(data=0.28400947569212454),\n",
       " Value(data=0.8057608831551033),\n",
       " Value(data=0.7995630256897284),\n",
       " Value(data=-0.8927898828619392),\n",
       " Value(data=-0.3388515450628886),\n",
       " Value(data=0.23911009140963957),\n",
       " Value(data=-0.891341533000614),\n",
       " Value(data=-0.4661469037458279),\n",
       " Value(data=0.13855794593802306)]"
      ]
     },
     "execution_count": 750,
     "metadata": {},
     "output_type": "execute_result"
    }
   ],
   "source": [
    "n.parameters()"
   ]
  },
  {
   "cell_type": "code",
   "execution_count": 751,
   "id": "3f1c35ad",
   "metadata": {},
   "outputs": [
    {
     "data": {
      "text/plain": [
       "[Value(data=0.5400082582379134),\n",
       " Value(data=0.43301484420557346),\n",
       " Value(data=0.4200733563233908),\n",
       " Value(data=0.27461591112487327)]"
      ]
     },
     "execution_count": 751,
     "metadata": {},
     "output_type": "execute_result"
    }
   ],
   "source": [
    "ypred = [n(x) for x in xs]\n",
    "ypred #nn predictions for xs"
   ]
  },
  {
   "cell_type": "code",
   "execution_count": 752,
   "id": "b9ed74e4",
   "metadata": {},
   "outputs": [
    {
     "data": {
      "text/plain": [
       "Value(data=4.80791435993562)"
      ]
     },
     "execution_count": 752,
     "metadata": {},
     "output_type": "execute_result"
    }
   ],
   "source": [
    "loss = sum([(yout - ygt)**2 for ygt, yout in zip(ys, ypred)])\n",
    "loss"
   ]
  },
  {
   "cell_type": "code",
   "execution_count": 753,
   "id": "7e9c1c5d",
   "metadata": {},
   "outputs": [],
   "source": [
    "loss.backward()"
   ]
  },
  {
   "cell_type": "code",
   "execution_count": 754,
   "id": "fdad2da6",
   "metadata": {},
   "outputs": [
    {
     "data": {
      "text/plain": [
       "-0.5094118375286034"
      ]
     },
     "execution_count": 754,
     "metadata": {},
     "output_type": "execute_result"
    }
   ],
   "source": [
    "n.layers[0].neurons[0].w[0].data"
   ]
  },
  {
   "cell_type": "code",
   "execution_count": 755,
   "id": "2e34af14",
   "metadata": {},
   "outputs": [
    {
     "data": {
      "text/plain": [
       "0.16091386451915626"
      ]
     },
     "execution_count": 755,
     "metadata": {},
     "output_type": "execute_result"
    }
   ],
   "source": [
    "n.layers[0].neurons[0].w[0].grad"
   ]
  },
  {
   "cell_type": "code",
   "execution_count": 756,
   "id": "ed3d4895",
   "metadata": {},
   "outputs": [],
   "source": [
    "for p in n.parameters():\n",
    "    p.data += -0.01 * p.grad"
   ]
  },
  {
   "cell_type": "code",
   "execution_count": 757,
   "id": "274f5cc9",
   "metadata": {},
   "outputs": [
    {
     "data": {
      "text/plain": [
       "-0.5110209761737949"
      ]
     },
     "execution_count": 757,
     "metadata": {},
     "output_type": "execute_result"
    }
   ],
   "source": [
    "n.layers[0].neurons[0].w[0].data"
   ]
  },
  {
   "cell_type": "code",
   "execution_count": 758,
   "id": "5aa45116",
   "metadata": {},
   "outputs": [
    {
     "data": {
      "text/plain": [
       "[Value(data=0.5468547168173072),\n",
       " Value(data=0.2594735515856568),\n",
       " Value(data=0.26229950439405636),\n",
       " Value(data=0.27054466133841687)]"
      ]
     },
     "execution_count": 758,
     "metadata": {},
     "output_type": "execute_result"
    }
   ],
   "source": [
    "ypred = [n(x) for x in xs]\n",
    "ypred #nn predictions for xs"
   ]
  },
  {
   "cell_type": "code",
   "execution_count": 759,
   "id": "9ea72e69",
   "metadata": {},
   "outputs": [
    {
     "data": {
      "text/plain": [
       "Value(data=3.917119404709876)"
      ]
     },
     "execution_count": 759,
     "metadata": {},
     "output_type": "execute_result"
    }
   ],
   "source": [
    "loss = sum([(yout - ygt)**2 for ygt, yout in zip(ys, ypred)])\n",
    "loss"
   ]
  },
  {
   "cell_type": "code",
   "execution_count": 761,
   "id": "e37055ae",
   "metadata": {},
   "outputs": [
    {
     "name": "stdout",
     "output_type": "stream",
     "text": [
      "Epoch: 1/20, Loss: 0.03603036865254649\n",
      "Epoch: 2/20, Loss: 0.03408796858472125\n",
      "Epoch: 3/20, Loss: 0.03233613847735241\n",
      "Epoch: 4/20, Loss: 0.030748602804075743\n",
      "Epoch: 5/20, Loss: 0.029303659709693994\n",
      "Epoch: 6/20, Loss: 0.027983233313070476\n",
      "Epoch: 7/20, Loss: 0.02677215128187071\n",
      "Epoch: 8/20, Loss: 0.025657587783892724\n",
      "Epoch: 9/20, Loss: 0.0246286294091023\n",
      "Epoch: 10/20, Loss: 0.023675933614209853\n",
      "Epoch: 11/20, Loss: 0.02279145754255167\n",
      "Epoch: 12/20, Loss: 0.021968240915880403\n",
      "Epoch: 13/20, Loss: 0.02120023086252836\n",
      "Epoch: 14/20, Loss: 0.020482139555007463\n",
      "Epoch: 15/20, Loss: 0.019809327726416096\n",
      "Epoch: 16/20, Loss: 0.019177708755237822\n",
      "Epoch: 17/20, Loss: 0.01858366921511803\n",
      "Epoch: 18/20, Loss: 0.01802400269368374\n",
      "Epoch: 19/20, Loss: 0.017495854372666868\n",
      "Epoch: 20/20, Loss: 0.016996674387750377\n"
     ]
    }
   ],
   "source": [
    "epochs = 20\n",
    "\n",
    "for e in range(epochs):\n",
    "    #forward pass\n",
    "    ypred = [n(x) for x in xs] #nn predictions for xs\n",
    "    \n",
    "    #calculate loss\n",
    "    loss = sum([(yout - ygt)**2 for ygt, yout in zip(ys, ypred)])\n",
    "    \n",
    "    #set grad to 0\n",
    "    for p in n.parameters():\n",
    "        p.grad = 0.0\n",
    "    \n",
    "    #calculate gradients\n",
    "    loss.backward()\n",
    "    \n",
    "    #update weights\n",
    "    for p in n.parameters():\n",
    "        p.data += -0.05 * p.grad\n",
    "        \n",
    "    #print current state\n",
    "    print(f'Epoch: {e+1}/{epochs}, Loss: {loss.data}')"
   ]
  },
  {
   "cell_type": "code",
   "execution_count": 762,
   "id": "8efa7747",
   "metadata": {},
   "outputs": [
    {
     "data": {
      "text/plain": [
       "Value(data=0.016996674387750377)"
      ]
     },
     "execution_count": 762,
     "metadata": {},
     "output_type": "execute_result"
    }
   ],
   "source": [
    "loss"
   ]
  },
  {
   "cell_type": "code",
   "execution_count": 764,
   "id": "b8d5a146",
   "metadata": {},
   "outputs": [
    {
     "data": {
      "text/plain": [
       "[Value(data=0.9622139124702827),\n",
       " Value(data=-0.93032252632859),\n",
       " Value(data=-0.933978004399785),\n",
       " Value(data=0.9202815470754602)]"
      ]
     },
     "execution_count": 764,
     "metadata": {},
     "output_type": "execute_result"
    }
   ],
   "source": [
    "ypred"
   ]
  },
  {
   "cell_type": "code",
   "execution_count": null,
   "id": "12f51b52",
   "metadata": {},
   "outputs": [],
   "source": []
  }
 ],
 "metadata": {
  "kernelspec": {
   "display_name": "Python 3 (ipykernel)",
   "language": "python",
   "name": "python3"
  },
  "language_info": {
   "codemirror_mode": {
    "name": "ipython",
    "version": 3
   },
   "file_extension": ".py",
   "mimetype": "text/x-python",
   "name": "python",
   "nbconvert_exporter": "python",
   "pygments_lexer": "ipython3",
   "version": "3.9.10"
  }
 },
 "nbformat": 4,
 "nbformat_minor": 5
}
